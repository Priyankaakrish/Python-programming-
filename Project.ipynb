{
  "nbformat": 4,
  "nbformat_minor": 0,
  "metadata": {
    "colab": {
      "provenance": []
    },
    "kernelspec": {
      "name": "python3",
      "display_name": "Python 3"
    },
    "language_info": {
      "name": "python"
    }
  },
  "cells": [
    {
      "cell_type": "markdown",
      "source": [
        "**Movie Recommendation System**"
      ],
      "metadata": {
        "id": "dqZ-nhxiganh"
      }
    },
    {
      "cell_type": "markdown",
      "source": [
        "-------------"
      ],
      "metadata": {
        "id": "gScHkw6jjrLo"
      }
    },
    {
      "cell_type": "markdown",
      "source": [
        "## **Import Library**"
      ],
      "metadata": {
        "id": "Xns_rCdhh-vZ"
      }
    },
    {
      "cell_type": "code",
      "source": [
        "import pandas as pd"
      ],
      "metadata": {
        "id": "blgJzJR7BSsD"
      },
      "execution_count": 1,
      "outputs": []
    },
    {
      "cell_type": "code",
      "source": [
        "import numpy as np"
      ],
      "metadata": {
        "id": "kExKa48bBcR1"
      },
      "execution_count": 2,
      "outputs": []
    },
    {
      "cell_type": "markdown",
      "source": [
        "## **Import Dataset**"
      ],
      "metadata": {
        "id": "7PUnimBoiX-x"
      }
    },
    {
      "cell_type": "code",
      "source": [
        "df = pd.read_csv(\"https://raw.githubusercontent.com/YBIFoundation/Dataset/main/Movies%20Recommendation.csv\")"
      ],
      "metadata": {
        "id": "kG15arusiZ8Z"
      },
      "execution_count": 3,
      "outputs": []
    },
    {
      "cell_type": "code",
      "source": [
        "df.head()"
      ],
      "metadata": {
        "colab": {
          "base_uri": "https://localhost:8080/",
          "height": 672
        },
        "id": "lzIhG6uQCofp",
        "outputId": "0fbff1bd-f3ec-429a-af85-d158f01accbd"
      },
      "execution_count": 4,
      "outputs": [
        {
          "output_type": "execute_result",
          "data": {
            "text/plain": [
              "   Movie_ID      Movie_Title                       Movie_Genre Movie_Language  \\\n",
              "0         1       Four Rooms                      Crime Comedy             en   \n",
              "1         2        Star Wars  Adventure Action Science Fiction             en   \n",
              "2         3     Finding Nemo                  Animation Family             en   \n",
              "3         4     Forrest Gump              Comedy Drama Romance             en   \n",
              "4         5  American Beauty                             Drama             en   \n",
              "\n",
              "   Movie_Budget  Movie_Popularity Movie_Release_Date  Movie_Revenue  \\\n",
              "0       4000000         22.876230         09-12-1995        4300000   \n",
              "1      11000000        126.393695         25-05-1977      775398007   \n",
              "2      94000000         85.688789         30-05-2003      940335536   \n",
              "3      55000000        138.133331         06-07-1994      677945399   \n",
              "4      15000000         80.878605         15-09-1999      356296601   \n",
              "\n",
              "   Movie_Runtime  Movie_Vote  ...  \\\n",
              "0           98.0         6.5  ...   \n",
              "1          121.0         8.1  ...   \n",
              "2          100.0         7.6  ...   \n",
              "3          142.0         8.2  ...   \n",
              "4          122.0         7.9  ...   \n",
              "\n",
              "                                      Movie_Homepage  \\\n",
              "0                                                NaN   \n",
              "1  http://www.starwars.com/films/star-wars-episod...   \n",
              "2              http://movies.disney.com/finding-nemo   \n",
              "3                                                NaN   \n",
              "4                      http://www.dreamworks.com/ab/   \n",
              "\n",
              "                                      Movie_Keywords  \\\n",
              "0          hotel new year's eve witch bet hotel room   \n",
              "1        android galaxy hermit death star lightsaber   \n",
              "2  father son relationship harbor underwater fish...   \n",
              "3  vietnam veteran hippie mentally disabled runni...   \n",
              "4  male nudity female nudity adultery midlife cri...   \n",
              "\n",
              "                                      Movie_Overview  \\\n",
              "0  It's Ted the Bellhop's first night on the job....   \n",
              "1  Princess Leia is captured and held hostage by ...   \n",
              "2  Nemo, an adventurous young clownfish, is unexp...   \n",
              "3  A man with a low IQ has accomplished great thi...   \n",
              "4  Lester Burnham, a depressed suburban father in...   \n",
              "\n",
              "                              Movie_Production_House  \\\n",
              "0  [{\"name\": \"Miramax Films\", \"id\": 14}, {\"name\":...   \n",
              "1  [{\"name\": \"Lucasfilm\", \"id\": 1}, {\"name\": \"Twe...   \n",
              "2     [{\"name\": \"Pixar Animation Studios\", \"id\": 3}]   \n",
              "3          [{\"name\": \"Paramount Pictures\", \"id\": 4}]   \n",
              "4  [{\"name\": \"DreamWorks SKG\", \"id\": 27}, {\"name\"...   \n",
              "\n",
              "                            Movie_Production_Country  \\\n",
              "0  [{\"iso_3166_1\": \"US\", \"name\": \"United States o...   \n",
              "1  [{\"iso_3166_1\": \"US\", \"name\": \"United States o...   \n",
              "2  [{\"iso_3166_1\": \"US\", \"name\": \"United States o...   \n",
              "3  [{\"iso_3166_1\": \"US\", \"name\": \"United States o...   \n",
              "4  [{\"iso_3166_1\": \"US\", \"name\": \"United States o...   \n",
              "\n",
              "                      Movie_Spoken_Language  \\\n",
              "0  [{\"iso_639_1\": \"en\", \"name\": \"English\"}]   \n",
              "1  [{\"iso_639_1\": \"en\", \"name\": \"English\"}]   \n",
              "2  [{\"iso_639_1\": \"en\", \"name\": \"English\"}]   \n",
              "3  [{\"iso_639_1\": \"en\", \"name\": \"English\"}]   \n",
              "4  [{\"iso_639_1\": \"en\", \"name\": \"English\"}]   \n",
              "\n",
              "                                       Movie_Tagline  \\\n",
              "0  Twelve outrageous guests. Four scandalous requ...   \n",
              "1       A long time ago in a galaxy far, far away...   \n",
              "2  There are 3.7 trillion fish in the ocean, they...   \n",
              "3  The world will never be the same, once you've ...   \n",
              "4                                       Look closer.   \n",
              "\n",
              "                                          Movie_Cast  \\\n",
              "0  Tim Roth Antonio Banderas Jennifer Beals Madon...   \n",
              "1  Mark Hamill Harrison Ford Carrie Fisher Peter ...   \n",
              "2  Albert Brooks Ellen DeGeneres Alexander Gould ...   \n",
              "3  Tom Hanks Robin Wright Gary Sinise Mykelti Wil...   \n",
              "4  Kevin Spacey Annette Bening Thora Birch Wes Be...   \n",
              "\n",
              "                                          Movie_Crew   Movie_Director  \n",
              "0  [{'name': 'Allison Anders', 'gender': 1, 'depa...   Allison Anders  \n",
              "1  [{'name': 'George Lucas', 'gender': 2, 'depart...     George Lucas  \n",
              "2  [{'name': 'Andrew Stanton', 'gender': 2, 'depa...   Andrew Stanton  \n",
              "3  [{'name': 'Alan Silvestri', 'gender': 2, 'depa...  Robert Zemeckis  \n",
              "4  [{'name': 'Thomas Newman', 'gender': 2, 'depar...       Sam Mendes  \n",
              "\n",
              "[5 rows x 21 columns]"
            ],
            "text/html": [
              "\n",
              "  <div id=\"df-155c7928-d169-4da7-91bf-83fcda6a1f1d\" class=\"colab-df-container\">\n",
              "    <div>\n",
              "<style scoped>\n",
              "    .dataframe tbody tr th:only-of-type {\n",
              "        vertical-align: middle;\n",
              "    }\n",
              "\n",
              "    .dataframe tbody tr th {\n",
              "        vertical-align: top;\n",
              "    }\n",
              "\n",
              "    .dataframe thead th {\n",
              "        text-align: right;\n",
              "    }\n",
              "</style>\n",
              "<table border=\"1\" class=\"dataframe\">\n",
              "  <thead>\n",
              "    <tr style=\"text-align: right;\">\n",
              "      <th></th>\n",
              "      <th>Movie_ID</th>\n",
              "      <th>Movie_Title</th>\n",
              "      <th>Movie_Genre</th>\n",
              "      <th>Movie_Language</th>\n",
              "      <th>Movie_Budget</th>\n",
              "      <th>Movie_Popularity</th>\n",
              "      <th>Movie_Release_Date</th>\n",
              "      <th>Movie_Revenue</th>\n",
              "      <th>Movie_Runtime</th>\n",
              "      <th>Movie_Vote</th>\n",
              "      <th>...</th>\n",
              "      <th>Movie_Homepage</th>\n",
              "      <th>Movie_Keywords</th>\n",
              "      <th>Movie_Overview</th>\n",
              "      <th>Movie_Production_House</th>\n",
              "      <th>Movie_Production_Country</th>\n",
              "      <th>Movie_Spoken_Language</th>\n",
              "      <th>Movie_Tagline</th>\n",
              "      <th>Movie_Cast</th>\n",
              "      <th>Movie_Crew</th>\n",
              "      <th>Movie_Director</th>\n",
              "    </tr>\n",
              "  </thead>\n",
              "  <tbody>\n",
              "    <tr>\n",
              "      <th>0</th>\n",
              "      <td>1</td>\n",
              "      <td>Four Rooms</td>\n",
              "      <td>Crime Comedy</td>\n",
              "      <td>en</td>\n",
              "      <td>4000000</td>\n",
              "      <td>22.876230</td>\n",
              "      <td>09-12-1995</td>\n",
              "      <td>4300000</td>\n",
              "      <td>98.0</td>\n",
              "      <td>6.5</td>\n",
              "      <td>...</td>\n",
              "      <td>NaN</td>\n",
              "      <td>hotel new year's eve witch bet hotel room</td>\n",
              "      <td>It's Ted the Bellhop's first night on the job....</td>\n",
              "      <td>[{\"name\": \"Miramax Films\", \"id\": 14}, {\"name\":...</td>\n",
              "      <td>[{\"iso_3166_1\": \"US\", \"name\": \"United States o...</td>\n",
              "      <td>[{\"iso_639_1\": \"en\", \"name\": \"English\"}]</td>\n",
              "      <td>Twelve outrageous guests. Four scandalous requ...</td>\n",
              "      <td>Tim Roth Antonio Banderas Jennifer Beals Madon...</td>\n",
              "      <td>[{'name': 'Allison Anders', 'gender': 1, 'depa...</td>\n",
              "      <td>Allison Anders</td>\n",
              "    </tr>\n",
              "    <tr>\n",
              "      <th>1</th>\n",
              "      <td>2</td>\n",
              "      <td>Star Wars</td>\n",
              "      <td>Adventure Action Science Fiction</td>\n",
              "      <td>en</td>\n",
              "      <td>11000000</td>\n",
              "      <td>126.393695</td>\n",
              "      <td>25-05-1977</td>\n",
              "      <td>775398007</td>\n",
              "      <td>121.0</td>\n",
              "      <td>8.1</td>\n",
              "      <td>...</td>\n",
              "      <td>http://www.starwars.com/films/star-wars-episod...</td>\n",
              "      <td>android galaxy hermit death star lightsaber</td>\n",
              "      <td>Princess Leia is captured and held hostage by ...</td>\n",
              "      <td>[{\"name\": \"Lucasfilm\", \"id\": 1}, {\"name\": \"Twe...</td>\n",
              "      <td>[{\"iso_3166_1\": \"US\", \"name\": \"United States o...</td>\n",
              "      <td>[{\"iso_639_1\": \"en\", \"name\": \"English\"}]</td>\n",
              "      <td>A long time ago in a galaxy far, far away...</td>\n",
              "      <td>Mark Hamill Harrison Ford Carrie Fisher Peter ...</td>\n",
              "      <td>[{'name': 'George Lucas', 'gender': 2, 'depart...</td>\n",
              "      <td>George Lucas</td>\n",
              "    </tr>\n",
              "    <tr>\n",
              "      <th>2</th>\n",
              "      <td>3</td>\n",
              "      <td>Finding Nemo</td>\n",
              "      <td>Animation Family</td>\n",
              "      <td>en</td>\n",
              "      <td>94000000</td>\n",
              "      <td>85.688789</td>\n",
              "      <td>30-05-2003</td>\n",
              "      <td>940335536</td>\n",
              "      <td>100.0</td>\n",
              "      <td>7.6</td>\n",
              "      <td>...</td>\n",
              "      <td>http://movies.disney.com/finding-nemo</td>\n",
              "      <td>father son relationship harbor underwater fish...</td>\n",
              "      <td>Nemo, an adventurous young clownfish, is unexp...</td>\n",
              "      <td>[{\"name\": \"Pixar Animation Studios\", \"id\": 3}]</td>\n",
              "      <td>[{\"iso_3166_1\": \"US\", \"name\": \"United States o...</td>\n",
              "      <td>[{\"iso_639_1\": \"en\", \"name\": \"English\"}]</td>\n",
              "      <td>There are 3.7 trillion fish in the ocean, they...</td>\n",
              "      <td>Albert Brooks Ellen DeGeneres Alexander Gould ...</td>\n",
              "      <td>[{'name': 'Andrew Stanton', 'gender': 2, 'depa...</td>\n",
              "      <td>Andrew Stanton</td>\n",
              "    </tr>\n",
              "    <tr>\n",
              "      <th>3</th>\n",
              "      <td>4</td>\n",
              "      <td>Forrest Gump</td>\n",
              "      <td>Comedy Drama Romance</td>\n",
              "      <td>en</td>\n",
              "      <td>55000000</td>\n",
              "      <td>138.133331</td>\n",
              "      <td>06-07-1994</td>\n",
              "      <td>677945399</td>\n",
              "      <td>142.0</td>\n",
              "      <td>8.2</td>\n",
              "      <td>...</td>\n",
              "      <td>NaN</td>\n",
              "      <td>vietnam veteran hippie mentally disabled runni...</td>\n",
              "      <td>A man with a low IQ has accomplished great thi...</td>\n",
              "      <td>[{\"name\": \"Paramount Pictures\", \"id\": 4}]</td>\n",
              "      <td>[{\"iso_3166_1\": \"US\", \"name\": \"United States o...</td>\n",
              "      <td>[{\"iso_639_1\": \"en\", \"name\": \"English\"}]</td>\n",
              "      <td>The world will never be the same, once you've ...</td>\n",
              "      <td>Tom Hanks Robin Wright Gary Sinise Mykelti Wil...</td>\n",
              "      <td>[{'name': 'Alan Silvestri', 'gender': 2, 'depa...</td>\n",
              "      <td>Robert Zemeckis</td>\n",
              "    </tr>\n",
              "    <tr>\n",
              "      <th>4</th>\n",
              "      <td>5</td>\n",
              "      <td>American Beauty</td>\n",
              "      <td>Drama</td>\n",
              "      <td>en</td>\n",
              "      <td>15000000</td>\n",
              "      <td>80.878605</td>\n",
              "      <td>15-09-1999</td>\n",
              "      <td>356296601</td>\n",
              "      <td>122.0</td>\n",
              "      <td>7.9</td>\n",
              "      <td>...</td>\n",
              "      <td>http://www.dreamworks.com/ab/</td>\n",
              "      <td>male nudity female nudity adultery midlife cri...</td>\n",
              "      <td>Lester Burnham, a depressed suburban father in...</td>\n",
              "      <td>[{\"name\": \"DreamWorks SKG\", \"id\": 27}, {\"name\"...</td>\n",
              "      <td>[{\"iso_3166_1\": \"US\", \"name\": \"United States o...</td>\n",
              "      <td>[{\"iso_639_1\": \"en\", \"name\": \"English\"}]</td>\n",
              "      <td>Look closer.</td>\n",
              "      <td>Kevin Spacey Annette Bening Thora Birch Wes Be...</td>\n",
              "      <td>[{'name': 'Thomas Newman', 'gender': 2, 'depar...</td>\n",
              "      <td>Sam Mendes</td>\n",
              "    </tr>\n",
              "  </tbody>\n",
              "</table>\n",
              "<p>5 rows × 21 columns</p>\n",
              "</div>\n",
              "    <div class=\"colab-df-buttons\">\n",
              "\n",
              "  <div class=\"colab-df-container\">\n",
              "    <button class=\"colab-df-convert\" onclick=\"convertToInteractive('df-155c7928-d169-4da7-91bf-83fcda6a1f1d')\"\n",
              "            title=\"Convert this dataframe to an interactive table.\"\n",
              "            style=\"display:none;\">\n",
              "\n",
              "  <svg xmlns=\"http://www.w3.org/2000/svg\" height=\"24px\" viewBox=\"0 -960 960 960\">\n",
              "    <path d=\"M120-120v-720h720v720H120Zm60-500h600v-160H180v160Zm220 220h160v-160H400v160Zm0 220h160v-160H400v160ZM180-400h160v-160H180v160Zm440 0h160v-160H620v160ZM180-180h160v-160H180v160Zm440 0h160v-160H620v160Z\"/>\n",
              "  </svg>\n",
              "    </button>\n",
              "\n",
              "  <style>\n",
              "    .colab-df-container {\n",
              "      display:flex;\n",
              "      gap: 12px;\n",
              "    }\n",
              "\n",
              "    .colab-df-convert {\n",
              "      background-color: #E8F0FE;\n",
              "      border: none;\n",
              "      border-radius: 50%;\n",
              "      cursor: pointer;\n",
              "      display: none;\n",
              "      fill: #1967D2;\n",
              "      height: 32px;\n",
              "      padding: 0 0 0 0;\n",
              "      width: 32px;\n",
              "    }\n",
              "\n",
              "    .colab-df-convert:hover {\n",
              "      background-color: #E2EBFA;\n",
              "      box-shadow: 0px 1px 2px rgba(60, 64, 67, 0.3), 0px 1px 3px 1px rgba(60, 64, 67, 0.15);\n",
              "      fill: #174EA6;\n",
              "    }\n",
              "\n",
              "    .colab-df-buttons div {\n",
              "      margin-bottom: 4px;\n",
              "    }\n",
              "\n",
              "    [theme=dark] .colab-df-convert {\n",
              "      background-color: #3B4455;\n",
              "      fill: #D2E3FC;\n",
              "    }\n",
              "\n",
              "    [theme=dark] .colab-df-convert:hover {\n",
              "      background-color: #434B5C;\n",
              "      box-shadow: 0px 1px 3px 1px rgba(0, 0, 0, 0.15);\n",
              "      filter: drop-shadow(0px 1px 2px rgba(0, 0, 0, 0.3));\n",
              "      fill: #FFFFFF;\n",
              "    }\n",
              "  </style>\n",
              "\n",
              "    <script>\n",
              "      const buttonEl =\n",
              "        document.querySelector('#df-155c7928-d169-4da7-91bf-83fcda6a1f1d button.colab-df-convert');\n",
              "      buttonEl.style.display =\n",
              "        google.colab.kernel.accessAllowed ? 'block' : 'none';\n",
              "\n",
              "      async function convertToInteractive(key) {\n",
              "        const element = document.querySelector('#df-155c7928-d169-4da7-91bf-83fcda6a1f1d');\n",
              "        const dataTable =\n",
              "          await google.colab.kernel.invokeFunction('convertToInteractive',\n",
              "                                                    [key], {});\n",
              "        if (!dataTable) return;\n",
              "\n",
              "        const docLinkHtml = 'Like what you see? Visit the ' +\n",
              "          '<a target=\"_blank\" href=https://colab.research.google.com/notebooks/data_table.ipynb>data table notebook</a>'\n",
              "          + ' to learn more about interactive tables.';\n",
              "        element.innerHTML = '';\n",
              "        dataTable['output_type'] = 'display_data';\n",
              "        await google.colab.output.renderOutput(dataTable, element);\n",
              "        const docLink = document.createElement('div');\n",
              "        docLink.innerHTML = docLinkHtml;\n",
              "        element.appendChild(docLink);\n",
              "      }\n",
              "    </script>\n",
              "  </div>\n",
              "\n",
              "\n",
              "<div id=\"df-ff15833e-7d5b-40dd-960d-d8be69b1463f\">\n",
              "  <button class=\"colab-df-quickchart\" onclick=\"quickchart('df-ff15833e-7d5b-40dd-960d-d8be69b1463f')\"\n",
              "            title=\"Suggest charts\"\n",
              "            style=\"display:none;\">\n",
              "\n",
              "<svg xmlns=\"http://www.w3.org/2000/svg\" height=\"24px\"viewBox=\"0 0 24 24\"\n",
              "     width=\"24px\">\n",
              "    <g>\n",
              "        <path d=\"M19 3H5c-1.1 0-2 .9-2 2v14c0 1.1.9 2 2 2h14c1.1 0 2-.9 2-2V5c0-1.1-.9-2-2-2zM9 17H7v-7h2v7zm4 0h-2V7h2v10zm4 0h-2v-4h2v4z\"/>\n",
              "    </g>\n",
              "</svg>\n",
              "  </button>\n",
              "\n",
              "<style>\n",
              "  .colab-df-quickchart {\n",
              "      --bg-color: #E8F0FE;\n",
              "      --fill-color: #1967D2;\n",
              "      --hover-bg-color: #E2EBFA;\n",
              "      --hover-fill-color: #174EA6;\n",
              "      --disabled-fill-color: #AAA;\n",
              "      --disabled-bg-color: #DDD;\n",
              "  }\n",
              "\n",
              "  [theme=dark] .colab-df-quickchart {\n",
              "      --bg-color: #3B4455;\n",
              "      --fill-color: #D2E3FC;\n",
              "      --hover-bg-color: #434B5C;\n",
              "      --hover-fill-color: #FFFFFF;\n",
              "      --disabled-bg-color: #3B4455;\n",
              "      --disabled-fill-color: #666;\n",
              "  }\n",
              "\n",
              "  .colab-df-quickchart {\n",
              "    background-color: var(--bg-color);\n",
              "    border: none;\n",
              "    border-radius: 50%;\n",
              "    cursor: pointer;\n",
              "    display: none;\n",
              "    fill: var(--fill-color);\n",
              "    height: 32px;\n",
              "    padding: 0;\n",
              "    width: 32px;\n",
              "  }\n",
              "\n",
              "  .colab-df-quickchart:hover {\n",
              "    background-color: var(--hover-bg-color);\n",
              "    box-shadow: 0 1px 2px rgba(60, 64, 67, 0.3), 0 1px 3px 1px rgba(60, 64, 67, 0.15);\n",
              "    fill: var(--button-hover-fill-color);\n",
              "  }\n",
              "\n",
              "  .colab-df-quickchart-complete:disabled,\n",
              "  .colab-df-quickchart-complete:disabled:hover {\n",
              "    background-color: var(--disabled-bg-color);\n",
              "    fill: var(--disabled-fill-color);\n",
              "    box-shadow: none;\n",
              "  }\n",
              "\n",
              "  .colab-df-spinner {\n",
              "    border: 2px solid var(--fill-color);\n",
              "    border-color: transparent;\n",
              "    border-bottom-color: var(--fill-color);\n",
              "    animation:\n",
              "      spin 1s steps(1) infinite;\n",
              "  }\n",
              "\n",
              "  @keyframes spin {\n",
              "    0% {\n",
              "      border-color: transparent;\n",
              "      border-bottom-color: var(--fill-color);\n",
              "      border-left-color: var(--fill-color);\n",
              "    }\n",
              "    20% {\n",
              "      border-color: transparent;\n",
              "      border-left-color: var(--fill-color);\n",
              "      border-top-color: var(--fill-color);\n",
              "    }\n",
              "    30% {\n",
              "      border-color: transparent;\n",
              "      border-left-color: var(--fill-color);\n",
              "      border-top-color: var(--fill-color);\n",
              "      border-right-color: var(--fill-color);\n",
              "    }\n",
              "    40% {\n",
              "      border-color: transparent;\n",
              "      border-right-color: var(--fill-color);\n",
              "      border-top-color: var(--fill-color);\n",
              "    }\n",
              "    60% {\n",
              "      border-color: transparent;\n",
              "      border-right-color: var(--fill-color);\n",
              "    }\n",
              "    80% {\n",
              "      border-color: transparent;\n",
              "      border-right-color: var(--fill-color);\n",
              "      border-bottom-color: var(--fill-color);\n",
              "    }\n",
              "    90% {\n",
              "      border-color: transparent;\n",
              "      border-bottom-color: var(--fill-color);\n",
              "    }\n",
              "  }\n",
              "</style>\n",
              "\n",
              "  <script>\n",
              "    async function quickchart(key) {\n",
              "      const quickchartButtonEl =\n",
              "        document.querySelector('#' + key + ' button');\n",
              "      quickchartButtonEl.disabled = true;  // To prevent multiple clicks.\n",
              "      quickchartButtonEl.classList.add('colab-df-spinner');\n",
              "      try {\n",
              "        const charts = await google.colab.kernel.invokeFunction(\n",
              "            'suggestCharts', [key], {});\n",
              "      } catch (error) {\n",
              "        console.error('Error during call to suggestCharts:', error);\n",
              "      }\n",
              "      quickchartButtonEl.classList.remove('colab-df-spinner');\n",
              "      quickchartButtonEl.classList.add('colab-df-quickchart-complete');\n",
              "    }\n",
              "    (() => {\n",
              "      let quickchartButtonEl =\n",
              "        document.querySelector('#df-ff15833e-7d5b-40dd-960d-d8be69b1463f button');\n",
              "      quickchartButtonEl.style.display =\n",
              "        google.colab.kernel.accessAllowed ? 'block' : 'none';\n",
              "    })();\n",
              "  </script>\n",
              "</div>\n",
              "\n",
              "    </div>\n",
              "  </div>\n"
            ],
            "application/vnd.google.colaboratory.intrinsic+json": {
              "type": "dataframe",
              "variable_name": "df"
            }
          },
          "metadata": {},
          "execution_count": 4
        }
      ]
    },
    {
      "cell_type": "code",
      "source": [
        "df.info()"
      ],
      "metadata": {
        "colab": {
          "base_uri": "https://localhost:8080/"
        },
        "id": "wwLphl2TC9Zr",
        "outputId": "ef0065a2-dbac-4ce3-94a5-3833e13875c2"
      },
      "execution_count": 5,
      "outputs": [
        {
          "output_type": "stream",
          "name": "stdout",
          "text": [
            "<class 'pandas.core.frame.DataFrame'>\n",
            "RangeIndex: 4760 entries, 0 to 4759\n",
            "Data columns (total 21 columns):\n",
            " #   Column                    Non-Null Count  Dtype  \n",
            "---  ------                    --------------  -----  \n",
            " 0   Movie_ID                  4760 non-null   int64  \n",
            " 1   Movie_Title               4760 non-null   object \n",
            " 2   Movie_Genre               4760 non-null   object \n",
            " 3   Movie_Language            4760 non-null   object \n",
            " 4   Movie_Budget              4760 non-null   int64  \n",
            " 5   Movie_Popularity          4760 non-null   float64\n",
            " 6   Movie_Release_Date        4760 non-null   object \n",
            " 7   Movie_Revenue             4760 non-null   int64  \n",
            " 8   Movie_Runtime             4758 non-null   float64\n",
            " 9   Movie_Vote                4760 non-null   float64\n",
            " 10  Movie_Vote_Count          4760 non-null   int64  \n",
            " 11  Movie_Homepage            1699 non-null   object \n",
            " 12  Movie_Keywords            4373 non-null   object \n",
            " 13  Movie_Overview            4757 non-null   object \n",
            " 14  Movie_Production_House    4760 non-null   object \n",
            " 15  Movie_Production_Country  4760 non-null   object \n",
            " 16  Movie_Spoken_Language     4760 non-null   object \n",
            " 17  Movie_Tagline             3942 non-null   object \n",
            " 18  Movie_Cast                4733 non-null   object \n",
            " 19  Movie_Crew                4760 non-null   object \n",
            " 20  Movie_Director            4738 non-null   object \n",
            "dtypes: float64(3), int64(4), object(14)\n",
            "memory usage: 781.1+ KB\n"
          ]
        }
      ]
    },
    {
      "cell_type": "code",
      "source": [
        "df.shape"
      ],
      "metadata": {
        "colab": {
          "base_uri": "https://localhost:8080/"
        },
        "id": "X3Brh_oODJNX",
        "outputId": "37d5eaed-69be-4e15-8f37-2479f61d7156"
      },
      "execution_count": 7,
      "outputs": [
        {
          "output_type": "execute_result",
          "data": {
            "text/plain": [
              "(4760, 21)"
            ]
          },
          "metadata": {},
          "execution_count": 7
        }
      ]
    },
    {
      "cell_type": "code",
      "source": [
        "df.columns"
      ],
      "metadata": {
        "colab": {
          "base_uri": "https://localhost:8080/"
        },
        "id": "H744UlxRDPG4",
        "outputId": "d594860f-587b-44b9-937c-5ae65f721689"
      },
      "execution_count": 8,
      "outputs": [
        {
          "output_type": "execute_result",
          "data": {
            "text/plain": [
              "Index(['Movie_ID', 'Movie_Title', 'Movie_Genre', 'Movie_Language',\n",
              "       'Movie_Budget', 'Movie_Popularity', 'Movie_Release_Date',\n",
              "       'Movie_Revenue', 'Movie_Runtime', 'Movie_Vote', 'Movie_Vote_Count',\n",
              "       'Movie_Homepage', 'Movie_Keywords', 'Movie_Overview',\n",
              "       'Movie_Production_House', 'Movie_Production_Country',\n",
              "       'Movie_Spoken_Language', 'Movie_Tagline', 'Movie_Cast', 'Movie_Crew',\n",
              "       'Movie_Director'],\n",
              "      dtype='object')"
            ]
          },
          "metadata": {},
          "execution_count": 8
        }
      ]
    },
    {
      "cell_type": "markdown",
      "source": [
        "## **Get Feature Selection**"
      ],
      "metadata": {
        "id": "oBGX4Ekniriz"
      }
    },
    {
      "cell_type": "code",
      "source": [
        "df_features = df[['Movie_Genre', 'Movie_Keywords', 'Movie_Tagline', 'Movie_Cast', 'Movie_Director']].fillna('Unknown')"
      ],
      "metadata": {
        "id": "JCb1UQbjDiaj"
      },
      "execution_count": 12,
      "outputs": []
    },
    {
      "cell_type": "code",
      "source": [
        "df_features.shape"
      ],
      "metadata": {
        "colab": {
          "base_uri": "https://localhost:8080/"
        },
        "id": "8KtBjp62FQve",
        "outputId": "f768581b-ad46-405f-dc02-6b443bc7b712"
      },
      "execution_count": 13,
      "outputs": [
        {
          "output_type": "execute_result",
          "data": {
            "text/plain": [
              "(4760, 5)"
            ]
          },
          "metadata": {},
          "execution_count": 13
        }
      ]
    },
    {
      "cell_type": "code",
      "source": [
        "df_features"
      ],
      "metadata": {
        "colab": {
          "base_uri": "https://localhost:8080/",
          "height": 579
        },
        "id": "t5MRrsCiFZu3",
        "outputId": "6c1d474b-3042-4507-ab33-064bd8045faa"
      },
      "execution_count": 14,
      "outputs": [
        {
          "output_type": "execute_result",
          "data": {
            "text/plain": [
              "                           Movie_Genre  \\\n",
              "0                         Crime Comedy   \n",
              "1     Adventure Action Science Fiction   \n",
              "2                     Animation Family   \n",
              "3                 Comedy Drama Romance   \n",
              "4                                Drama   \n",
              "...                                ...   \n",
              "4755                            Horror   \n",
              "4756               Comedy Family Drama   \n",
              "4757                    Thriller Drama   \n",
              "4758                            Family   \n",
              "4759                       Documentary   \n",
              "\n",
              "                                         Movie_Keywords  \\\n",
              "0             hotel new year's eve witch bet hotel room   \n",
              "1           android galaxy hermit death star lightsaber   \n",
              "2     father son relationship harbor underwater fish...   \n",
              "3     vietnam veteran hippie mentally disabled runni...   \n",
              "4     male nudity female nudity adultery midlife cri...   \n",
              "...                                                 ...   \n",
              "4755                                            Unknown   \n",
              "4756                                            Unknown   \n",
              "4757                     christian film sex trafficking   \n",
              "4758                                            Unknown   \n",
              "4759  music actors legendary perfomer classic hollyw...   \n",
              "\n",
              "                                          Movie_Tagline  \\\n",
              "0     Twelve outrageous guests. Four scandalous requ...   \n",
              "1          A long time ago in a galaxy far, far away...   \n",
              "2     There are 3.7 trillion fish in the ocean, they...   \n",
              "3     The world will never be the same, once you've ...   \n",
              "4                                          Look closer.   \n",
              "...                                                 ...   \n",
              "4755                The hot spot where Satan's waitin'.   \n",
              "4756           It’s better to stand out than to fit in.   \n",
              "4757           She never knew it could happen to her...   \n",
              "4758                                            Unknown   \n",
              "4759                                            Unknown   \n",
              "\n",
              "                                             Movie_Cast     Movie_Director  \n",
              "0     Tim Roth Antonio Banderas Jennifer Beals Madon...     Allison Anders  \n",
              "1     Mark Hamill Harrison Ford Carrie Fisher Peter ...       George Lucas  \n",
              "2     Albert Brooks Ellen DeGeneres Alexander Gould ...     Andrew Stanton  \n",
              "3     Tom Hanks Robin Wright Gary Sinise Mykelti Wil...    Robert Zemeckis  \n",
              "4     Kevin Spacey Annette Bening Thora Birch Wes Be...         Sam Mendes  \n",
              "...                                                 ...                ...  \n",
              "4755  Lisa Hart Carroll Michael Des Barres Paul Drak...         Pece Dingo  \n",
              "4756  Roni Akurati Brighton Sharbino Jason Lee Anjul...       Frank Lotito  \n",
              "4757  Nicole Smolen Kim Baldwin Ariana Stephens Brys...       Jaco Booyens  \n",
              "4758                                            Unknown            Unknown  \n",
              "4759                                    Tony Oppedisano  Simon Napier-Bell  \n",
              "\n",
              "[4760 rows x 5 columns]"
            ],
            "text/html": [
              "\n",
              "  <div id=\"df-7ac8f96b-e226-4160-928f-883da659ed97\" class=\"colab-df-container\">\n",
              "    <div>\n",
              "<style scoped>\n",
              "    .dataframe tbody tr th:only-of-type {\n",
              "        vertical-align: middle;\n",
              "    }\n",
              "\n",
              "    .dataframe tbody tr th {\n",
              "        vertical-align: top;\n",
              "    }\n",
              "\n",
              "    .dataframe thead th {\n",
              "        text-align: right;\n",
              "    }\n",
              "</style>\n",
              "<table border=\"1\" class=\"dataframe\">\n",
              "  <thead>\n",
              "    <tr style=\"text-align: right;\">\n",
              "      <th></th>\n",
              "      <th>Movie_Genre</th>\n",
              "      <th>Movie_Keywords</th>\n",
              "      <th>Movie_Tagline</th>\n",
              "      <th>Movie_Cast</th>\n",
              "      <th>Movie_Director</th>\n",
              "    </tr>\n",
              "  </thead>\n",
              "  <tbody>\n",
              "    <tr>\n",
              "      <th>0</th>\n",
              "      <td>Crime Comedy</td>\n",
              "      <td>hotel new year's eve witch bet hotel room</td>\n",
              "      <td>Twelve outrageous guests. Four scandalous requ...</td>\n",
              "      <td>Tim Roth Antonio Banderas Jennifer Beals Madon...</td>\n",
              "      <td>Allison Anders</td>\n",
              "    </tr>\n",
              "    <tr>\n",
              "      <th>1</th>\n",
              "      <td>Adventure Action Science Fiction</td>\n",
              "      <td>android galaxy hermit death star lightsaber</td>\n",
              "      <td>A long time ago in a galaxy far, far away...</td>\n",
              "      <td>Mark Hamill Harrison Ford Carrie Fisher Peter ...</td>\n",
              "      <td>George Lucas</td>\n",
              "    </tr>\n",
              "    <tr>\n",
              "      <th>2</th>\n",
              "      <td>Animation Family</td>\n",
              "      <td>father son relationship harbor underwater fish...</td>\n",
              "      <td>There are 3.7 trillion fish in the ocean, they...</td>\n",
              "      <td>Albert Brooks Ellen DeGeneres Alexander Gould ...</td>\n",
              "      <td>Andrew Stanton</td>\n",
              "    </tr>\n",
              "    <tr>\n",
              "      <th>3</th>\n",
              "      <td>Comedy Drama Romance</td>\n",
              "      <td>vietnam veteran hippie mentally disabled runni...</td>\n",
              "      <td>The world will never be the same, once you've ...</td>\n",
              "      <td>Tom Hanks Robin Wright Gary Sinise Mykelti Wil...</td>\n",
              "      <td>Robert Zemeckis</td>\n",
              "    </tr>\n",
              "    <tr>\n",
              "      <th>4</th>\n",
              "      <td>Drama</td>\n",
              "      <td>male nudity female nudity adultery midlife cri...</td>\n",
              "      <td>Look closer.</td>\n",
              "      <td>Kevin Spacey Annette Bening Thora Birch Wes Be...</td>\n",
              "      <td>Sam Mendes</td>\n",
              "    </tr>\n",
              "    <tr>\n",
              "      <th>...</th>\n",
              "      <td>...</td>\n",
              "      <td>...</td>\n",
              "      <td>...</td>\n",
              "      <td>...</td>\n",
              "      <td>...</td>\n",
              "    </tr>\n",
              "    <tr>\n",
              "      <th>4755</th>\n",
              "      <td>Horror</td>\n",
              "      <td>Unknown</td>\n",
              "      <td>The hot spot where Satan's waitin'.</td>\n",
              "      <td>Lisa Hart Carroll Michael Des Barres Paul Drak...</td>\n",
              "      <td>Pece Dingo</td>\n",
              "    </tr>\n",
              "    <tr>\n",
              "      <th>4756</th>\n",
              "      <td>Comedy Family Drama</td>\n",
              "      <td>Unknown</td>\n",
              "      <td>It’s better to stand out than to fit in.</td>\n",
              "      <td>Roni Akurati Brighton Sharbino Jason Lee Anjul...</td>\n",
              "      <td>Frank Lotito</td>\n",
              "    </tr>\n",
              "    <tr>\n",
              "      <th>4757</th>\n",
              "      <td>Thriller Drama</td>\n",
              "      <td>christian film sex trafficking</td>\n",
              "      <td>She never knew it could happen to her...</td>\n",
              "      <td>Nicole Smolen Kim Baldwin Ariana Stephens Brys...</td>\n",
              "      <td>Jaco Booyens</td>\n",
              "    </tr>\n",
              "    <tr>\n",
              "      <th>4758</th>\n",
              "      <td>Family</td>\n",
              "      <td>Unknown</td>\n",
              "      <td>Unknown</td>\n",
              "      <td>Unknown</td>\n",
              "      <td>Unknown</td>\n",
              "    </tr>\n",
              "    <tr>\n",
              "      <th>4759</th>\n",
              "      <td>Documentary</td>\n",
              "      <td>music actors legendary perfomer classic hollyw...</td>\n",
              "      <td>Unknown</td>\n",
              "      <td>Tony Oppedisano</td>\n",
              "      <td>Simon Napier-Bell</td>\n",
              "    </tr>\n",
              "  </tbody>\n",
              "</table>\n",
              "<p>4760 rows × 5 columns</p>\n",
              "</div>\n",
              "    <div class=\"colab-df-buttons\">\n",
              "\n",
              "  <div class=\"colab-df-container\">\n",
              "    <button class=\"colab-df-convert\" onclick=\"convertToInteractive('df-7ac8f96b-e226-4160-928f-883da659ed97')\"\n",
              "            title=\"Convert this dataframe to an interactive table.\"\n",
              "            style=\"display:none;\">\n",
              "\n",
              "  <svg xmlns=\"http://www.w3.org/2000/svg\" height=\"24px\" viewBox=\"0 -960 960 960\">\n",
              "    <path d=\"M120-120v-720h720v720H120Zm60-500h600v-160H180v160Zm220 220h160v-160H400v160Zm0 220h160v-160H400v160ZM180-400h160v-160H180v160Zm440 0h160v-160H620v160ZM180-180h160v-160H180v160Zm440 0h160v-160H620v160Z\"/>\n",
              "  </svg>\n",
              "    </button>\n",
              "\n",
              "  <style>\n",
              "    .colab-df-container {\n",
              "      display:flex;\n",
              "      gap: 12px;\n",
              "    }\n",
              "\n",
              "    .colab-df-convert {\n",
              "      background-color: #E8F0FE;\n",
              "      border: none;\n",
              "      border-radius: 50%;\n",
              "      cursor: pointer;\n",
              "      display: none;\n",
              "      fill: #1967D2;\n",
              "      height: 32px;\n",
              "      padding: 0 0 0 0;\n",
              "      width: 32px;\n",
              "    }\n",
              "\n",
              "    .colab-df-convert:hover {\n",
              "      background-color: #E2EBFA;\n",
              "      box-shadow: 0px 1px 2px rgba(60, 64, 67, 0.3), 0px 1px 3px 1px rgba(60, 64, 67, 0.15);\n",
              "      fill: #174EA6;\n",
              "    }\n",
              "\n",
              "    .colab-df-buttons div {\n",
              "      margin-bottom: 4px;\n",
              "    }\n",
              "\n",
              "    [theme=dark] .colab-df-convert {\n",
              "      background-color: #3B4455;\n",
              "      fill: #D2E3FC;\n",
              "    }\n",
              "\n",
              "    [theme=dark] .colab-df-convert:hover {\n",
              "      background-color: #434B5C;\n",
              "      box-shadow: 0px 1px 3px 1px rgba(0, 0, 0, 0.15);\n",
              "      filter: drop-shadow(0px 1px 2px rgba(0, 0, 0, 0.3));\n",
              "      fill: #FFFFFF;\n",
              "    }\n",
              "  </style>\n",
              "\n",
              "    <script>\n",
              "      const buttonEl =\n",
              "        document.querySelector('#df-7ac8f96b-e226-4160-928f-883da659ed97 button.colab-df-convert');\n",
              "      buttonEl.style.display =\n",
              "        google.colab.kernel.accessAllowed ? 'block' : 'none';\n",
              "\n",
              "      async function convertToInteractive(key) {\n",
              "        const element = document.querySelector('#df-7ac8f96b-e226-4160-928f-883da659ed97');\n",
              "        const dataTable =\n",
              "          await google.colab.kernel.invokeFunction('convertToInteractive',\n",
              "                                                    [key], {});\n",
              "        if (!dataTable) return;\n",
              "\n",
              "        const docLinkHtml = 'Like what you see? Visit the ' +\n",
              "          '<a target=\"_blank\" href=https://colab.research.google.com/notebooks/data_table.ipynb>data table notebook</a>'\n",
              "          + ' to learn more about interactive tables.';\n",
              "        element.innerHTML = '';\n",
              "        dataTable['output_type'] = 'display_data';\n",
              "        await google.colab.output.renderOutput(dataTable, element);\n",
              "        const docLink = document.createElement('div');\n",
              "        docLink.innerHTML = docLinkHtml;\n",
              "        element.appendChild(docLink);\n",
              "      }\n",
              "    </script>\n",
              "  </div>\n",
              "\n",
              "\n",
              "<div id=\"df-36a61d36-d5b4-4f1c-bf1d-300c26fd0c77\">\n",
              "  <button class=\"colab-df-quickchart\" onclick=\"quickchart('df-36a61d36-d5b4-4f1c-bf1d-300c26fd0c77')\"\n",
              "            title=\"Suggest charts\"\n",
              "            style=\"display:none;\">\n",
              "\n",
              "<svg xmlns=\"http://www.w3.org/2000/svg\" height=\"24px\"viewBox=\"0 0 24 24\"\n",
              "     width=\"24px\">\n",
              "    <g>\n",
              "        <path d=\"M19 3H5c-1.1 0-2 .9-2 2v14c0 1.1.9 2 2 2h14c1.1 0 2-.9 2-2V5c0-1.1-.9-2-2-2zM9 17H7v-7h2v7zm4 0h-2V7h2v10zm4 0h-2v-4h2v4z\"/>\n",
              "    </g>\n",
              "</svg>\n",
              "  </button>\n",
              "\n",
              "<style>\n",
              "  .colab-df-quickchart {\n",
              "      --bg-color: #E8F0FE;\n",
              "      --fill-color: #1967D2;\n",
              "      --hover-bg-color: #E2EBFA;\n",
              "      --hover-fill-color: #174EA6;\n",
              "      --disabled-fill-color: #AAA;\n",
              "      --disabled-bg-color: #DDD;\n",
              "  }\n",
              "\n",
              "  [theme=dark] .colab-df-quickchart {\n",
              "      --bg-color: #3B4455;\n",
              "      --fill-color: #D2E3FC;\n",
              "      --hover-bg-color: #434B5C;\n",
              "      --hover-fill-color: #FFFFFF;\n",
              "      --disabled-bg-color: #3B4455;\n",
              "      --disabled-fill-color: #666;\n",
              "  }\n",
              "\n",
              "  .colab-df-quickchart {\n",
              "    background-color: var(--bg-color);\n",
              "    border: none;\n",
              "    border-radius: 50%;\n",
              "    cursor: pointer;\n",
              "    display: none;\n",
              "    fill: var(--fill-color);\n",
              "    height: 32px;\n",
              "    padding: 0;\n",
              "    width: 32px;\n",
              "  }\n",
              "\n",
              "  .colab-df-quickchart:hover {\n",
              "    background-color: var(--hover-bg-color);\n",
              "    box-shadow: 0 1px 2px rgba(60, 64, 67, 0.3), 0 1px 3px 1px rgba(60, 64, 67, 0.15);\n",
              "    fill: var(--button-hover-fill-color);\n",
              "  }\n",
              "\n",
              "  .colab-df-quickchart-complete:disabled,\n",
              "  .colab-df-quickchart-complete:disabled:hover {\n",
              "    background-color: var(--disabled-bg-color);\n",
              "    fill: var(--disabled-fill-color);\n",
              "    box-shadow: none;\n",
              "  }\n",
              "\n",
              "  .colab-df-spinner {\n",
              "    border: 2px solid var(--fill-color);\n",
              "    border-color: transparent;\n",
              "    border-bottom-color: var(--fill-color);\n",
              "    animation:\n",
              "      spin 1s steps(1) infinite;\n",
              "  }\n",
              "\n",
              "  @keyframes spin {\n",
              "    0% {\n",
              "      border-color: transparent;\n",
              "      border-bottom-color: var(--fill-color);\n",
              "      border-left-color: var(--fill-color);\n",
              "    }\n",
              "    20% {\n",
              "      border-color: transparent;\n",
              "      border-left-color: var(--fill-color);\n",
              "      border-top-color: var(--fill-color);\n",
              "    }\n",
              "    30% {\n",
              "      border-color: transparent;\n",
              "      border-left-color: var(--fill-color);\n",
              "      border-top-color: var(--fill-color);\n",
              "      border-right-color: var(--fill-color);\n",
              "    }\n",
              "    40% {\n",
              "      border-color: transparent;\n",
              "      border-right-color: var(--fill-color);\n",
              "      border-top-color: var(--fill-color);\n",
              "    }\n",
              "    60% {\n",
              "      border-color: transparent;\n",
              "      border-right-color: var(--fill-color);\n",
              "    }\n",
              "    80% {\n",
              "      border-color: transparent;\n",
              "      border-right-color: var(--fill-color);\n",
              "      border-bottom-color: var(--fill-color);\n",
              "    }\n",
              "    90% {\n",
              "      border-color: transparent;\n",
              "      border-bottom-color: var(--fill-color);\n",
              "    }\n",
              "  }\n",
              "</style>\n",
              "\n",
              "  <script>\n",
              "    async function quickchart(key) {\n",
              "      const quickchartButtonEl =\n",
              "        document.querySelector('#' + key + ' button');\n",
              "      quickchartButtonEl.disabled = true;  // To prevent multiple clicks.\n",
              "      quickchartButtonEl.classList.add('colab-df-spinner');\n",
              "      try {\n",
              "        const charts = await google.colab.kernel.invokeFunction(\n",
              "            'suggestCharts', [key], {});\n",
              "      } catch (error) {\n",
              "        console.error('Error during call to suggestCharts:', error);\n",
              "      }\n",
              "      quickchartButtonEl.classList.remove('colab-df-spinner');\n",
              "      quickchartButtonEl.classList.add('colab-df-quickchart-complete');\n",
              "    }\n",
              "    (() => {\n",
              "      let quickchartButtonEl =\n",
              "        document.querySelector('#df-36a61d36-d5b4-4f1c-bf1d-300c26fd0c77 button');\n",
              "      quickchartButtonEl.style.display =\n",
              "        google.colab.kernel.accessAllowed ? 'block' : 'none';\n",
              "    })();\n",
              "  </script>\n",
              "</div>\n",
              "\n",
              "  <div id=\"id_b9a4bce5-abbe-4028-a5e8-0d46d514f877\">\n",
              "    <style>\n",
              "      .colab-df-generate {\n",
              "        background-color: #E8F0FE;\n",
              "        border: none;\n",
              "        border-radius: 50%;\n",
              "        cursor: pointer;\n",
              "        display: none;\n",
              "        fill: #1967D2;\n",
              "        height: 32px;\n",
              "        padding: 0 0 0 0;\n",
              "        width: 32px;\n",
              "      }\n",
              "\n",
              "      .colab-df-generate:hover {\n",
              "        background-color: #E2EBFA;\n",
              "        box-shadow: 0px 1px 2px rgba(60, 64, 67, 0.3), 0px 1px 3px 1px rgba(60, 64, 67, 0.15);\n",
              "        fill: #174EA6;\n",
              "      }\n",
              "\n",
              "      [theme=dark] .colab-df-generate {\n",
              "        background-color: #3B4455;\n",
              "        fill: #D2E3FC;\n",
              "      }\n",
              "\n",
              "      [theme=dark] .colab-df-generate:hover {\n",
              "        background-color: #434B5C;\n",
              "        box-shadow: 0px 1px 3px 1px rgba(0, 0, 0, 0.15);\n",
              "        filter: drop-shadow(0px 1px 2px rgba(0, 0, 0, 0.3));\n",
              "        fill: #FFFFFF;\n",
              "      }\n",
              "    </style>\n",
              "    <button class=\"colab-df-generate\" onclick=\"generateWithVariable('df_features')\"\n",
              "            title=\"Generate code using this dataframe.\"\n",
              "            style=\"display:none;\">\n",
              "\n",
              "  <svg xmlns=\"http://www.w3.org/2000/svg\" height=\"24px\"viewBox=\"0 0 24 24\"\n",
              "       width=\"24px\">\n",
              "    <path d=\"M7,19H8.4L18.45,9,17,7.55,7,17.6ZM5,21V16.75L18.45,3.32a2,2,0,0,1,2.83,0l1.4,1.43a1.91,1.91,0,0,1,.58,1.4,1.91,1.91,0,0,1-.58,1.4L9.25,21ZM18.45,9,17,7.55Zm-12,3A5.31,5.31,0,0,0,4.9,8.1,5.31,5.31,0,0,0,1,6.5,5.31,5.31,0,0,0,4.9,4.9,5.31,5.31,0,0,0,6.5,1,5.31,5.31,0,0,0,8.1,4.9,5.31,5.31,0,0,0,12,6.5,5.46,5.46,0,0,0,6.5,12Z\"/>\n",
              "  </svg>\n",
              "    </button>\n",
              "    <script>\n",
              "      (() => {\n",
              "      const buttonEl =\n",
              "        document.querySelector('#id_b9a4bce5-abbe-4028-a5e8-0d46d514f877 button.colab-df-generate');\n",
              "      buttonEl.style.display =\n",
              "        google.colab.kernel.accessAllowed ? 'block' : 'none';\n",
              "\n",
              "      buttonEl.onclick = () => {\n",
              "        google.colab.notebook.generateWithVariable('df_features');\n",
              "      }\n",
              "      })();\n",
              "    </script>\n",
              "  </div>\n",
              "\n",
              "    </div>\n",
              "  </div>\n"
            ],
            "application/vnd.google.colaboratory.intrinsic+json": {
              "type": "dataframe",
              "variable_name": "df_features",
              "summary": "{\n  \"name\": \"df_features\",\n  \"rows\": 4760,\n  \"fields\": [\n    {\n      \"column\": \"Movie_Genre\",\n      \"properties\": {\n        \"dtype\": \"category\",\n        \"num_unique_values\": 1164,\n        \"samples\": [\n          \"Family Animation Adventure\",\n          \"Adventure Science Fiction Action\",\n          \"Action Crime Drama Romance Thriller\"\n        ],\n        \"semantic_type\": \"\",\n        \"description\": \"\"\n      }\n    },\n    {\n      \"column\": \"Movie_Keywords\",\n      \"properties\": {\n        \"dtype\": \"string\",\n        \"num_unique_values\": 4203,\n        \"samples\": [\n          \"canada nazis sequel spin off ancient evil\",\n          \"sex professor wedding woman director columbia university\",\n          \"prophecy sea beach gold small town\"\n        ],\n        \"semantic_type\": \"\",\n        \"description\": \"\"\n      }\n    },\n    {\n      \"column\": \"Movie_Tagline\",\n      \"properties\": {\n        \"dtype\": \"string\",\n        \"num_unique_values\": 3928,\n        \"samples\": [\n          \"The messenger must be silenced.\",\n          \"It's not the house that's haunted.\",\n          \"The final hunt begins.\"\n        ],\n        \"semantic_type\": \"\",\n        \"description\": \"\"\n      }\n    },\n    {\n      \"column\": \"Movie_Cast\",\n      \"properties\": {\n        \"dtype\": \"string\",\n        \"num_unique_values\": 4715,\n        \"samples\": [\n          \"Robin Tunney Fairuza Balk Neve Campbell Rachel True Skeet Ulrich\",\n          \"Peter Sellers Christopher Plummer Herbert Lom Catherine Schell Peter Arne\",\n          \"John Wayne Laraine Day Cedric Hardwicke Judith Anderson Anthony Quinn\"\n        ],\n        \"semantic_type\": \"\",\n        \"description\": \"\"\n      }\n    },\n    {\n      \"column\": \"Movie_Director\",\n      \"properties\": {\n        \"dtype\": \"category\",\n        \"num_unique_values\": 2332,\n        \"samples\": [\n          \"Rob McKittrick\",\n          \"Terron R. Parsons\",\n          \"Cyrus Nowrasteh\"\n        ],\n        \"semantic_type\": \"\",\n        \"description\": \"\"\n      }\n    }\n  ]\n}"
            }
          },
          "metadata": {},
          "execution_count": 14
        }
      ]
    },
    {
      "cell_type": "code",
      "source": [
        "x = df_features['Movie_Genre'] + ' ' +  df_features['Movie_Tagline']+ ' ' + df_features['Movie_Cast']+ ' ' + df_features['Movie_Director']"
      ],
      "metadata": {
        "id": "yZkB4JVgFp_u"
      },
      "execution_count": 15,
      "outputs": []
    },
    {
      "cell_type": "code",
      "source": [
        "x"
      ],
      "metadata": {
        "colab": {
          "base_uri": "https://localhost:8080/"
        },
        "id": "l_VpJZleGssZ",
        "outputId": "75f43757-3fc8-4d1c-c3d0-1f4ea44aac4f"
      },
      "execution_count": 16,
      "outputs": [
        {
          "output_type": "execute_result",
          "data": {
            "text/plain": [
              "0       Crime Comedy Twelve outrageous guests. Four sc...\n",
              "1       Adventure Action Science Fiction A long time a...\n",
              "2       Animation Family There are 3.7 trillion fish i...\n",
              "3       Comedy Drama Romance The world will never be t...\n",
              "4       Drama Look closer. Kevin Spacey Annette Bening...\n",
              "                              ...                        \n",
              "4755    Horror The hot spot where Satan's waitin'. Lis...\n",
              "4756    Comedy Family Drama It’s better to stand out t...\n",
              "4757    Thriller Drama She never knew it could happen ...\n",
              "4758                       Family Unknown Unknown Unknown\n",
              "4759    Documentary Unknown Tony Oppedisano Simon Napi...\n",
              "Length: 4760, dtype: object"
            ]
          },
          "metadata": {},
          "execution_count": 16
        }
      ]
    },
    {
      "cell_type": "code",
      "source": [
        "x.shape"
      ],
      "metadata": {
        "colab": {
          "base_uri": "https://localhost:8080/"
        },
        "id": "rRjGKuS0GxSt",
        "outputId": "48e99b2a-5f4a-4dca-c735-65976470c5d1"
      },
      "execution_count": 17,
      "outputs": [
        {
          "output_type": "execute_result",
          "data": {
            "text/plain": [
              "(4760,)"
            ]
          },
          "metadata": {},
          "execution_count": 17
        }
      ]
    },
    {
      "cell_type": "markdown",
      "source": [
        "## **Get Feature Text Conversation to Tokens**"
      ],
      "metadata": {
        "id": "UqfyPOCYiiww"
      }
    },
    {
      "cell_type": "code",
      "source": [
        "from sklearn.feature_extraction.text import TfidfVectorizer"
      ],
      "metadata": {
        "id": "3cyr3fbGin0A"
      },
      "execution_count": 18,
      "outputs": []
    },
    {
      "cell_type": "code",
      "source": [
        "tfid = TfidfVectorizer()"
      ],
      "metadata": {
        "id": "PfYs_-ExHbmF"
      },
      "execution_count": 19,
      "outputs": []
    },
    {
      "cell_type": "code",
      "source": [
        "x = tfid.fit_transform(x)"
      ],
      "metadata": {
        "id": "Do7bbYJCHlBf"
      },
      "execution_count": 21,
      "outputs": []
    },
    {
      "cell_type": "code",
      "source": [
        "x.shape"
      ],
      "metadata": {
        "colab": {
          "base_uri": "https://localhost:8080/"
        },
        "id": "szIZx1TFILcA",
        "outputId": "a40e7003-a855-4edc-8cb1-4555d1711c9d"
      },
      "execution_count": 22,
      "outputs": [
        {
          "output_type": "execute_result",
          "data": {
            "text/plain": [
              "(4760, 14522)"
            ]
          },
          "metadata": {},
          "execution_count": 22
        }
      ]
    },
    {
      "cell_type": "code",
      "source": [
        "print(x)"
      ],
      "metadata": {
        "colab": {
          "base_uri": "https://localhost:8080/"
        },
        "id": "4DcsfBKrIQvz",
        "outputId": "54b66c0a-0ebf-43bd-862d-d8fcbecea089"
      },
      "execution_count": 23,
      "outputs": [
        {
          "output_type": "stream",
          "name": "stdout",
          "text": [
            "  (0, 536)\t0.18650035534391993\n",
            "  (0, 425)\t0.163573988034563\n",
            "  (0, 12942)\t0.1673343571078569\n",
            "  (0, 8260)\t0.16243380336877533\n",
            "  (0, 8073)\t0.1895214821424654\n",
            "  (0, 1162)\t0.19294655321876156\n",
            "  (0, 6582)\t0.11189186354263483\n",
            "  (0, 1012)\t0.15832102537496356\n",
            "  (0, 635)\t0.15317383577872903\n",
            "  (0, 11059)\t0.163573988034563\n",
            "  (0, 12888)\t0.11963620447432914\n",
            "  (0, 7696)\t0.11052960016040947\n",
            "  (0, 9522)\t0.0817193034473646\n",
            "  (0, 4238)\t0.1813531657476854\n",
            "  (0, 14325)\t0.15477747865376898\n",
            "  (0, 9299)\t0.13177600168161205\n",
            "  (0, 14080)\t0.20157704304573848\n",
            "  (0, 4683)\t0.098789221275497\n",
            "  (0, 14047)\t0.12205988813713547\n",
            "  (0, 6652)\t0.17174230442934296\n",
            "  (0, 12768)\t0.11431048024187192\n",
            "  (0, 9596)\t0.1084085633118925\n",
            "  (0, 3252)\t0.1387089301293658\n",
            "  (0, 4594)\t0.13827045908436408\n",
            "  (0, 5989)\t0.2263333132749165\n",
            "  :\t:\n",
            "  (4757, 699)\t0.29336587999264124\n",
            "  (4757, 4852)\t0.258986481674795\n",
            "  (4757, 12273)\t0.258986481674795\n",
            "  (4757, 990)\t0.2017079859012847\n",
            "  (4757, 2910)\t0.2126571431460345\n",
            "  (4757, 5624)\t0.23256575558502307\n",
            "  (4757, 11699)\t0.17574280735214792\n",
            "  (4757, 9341)\t0.19618287718072355\n",
            "  (4757, 7169)\t0.2511649969371266\n",
            "  (4757, 5877)\t0.1824610108818817\n",
            "  (4757, 7089)\t0.1866512308804554\n",
            "  (4757, 12845)\t0.08173029845757258\n",
            "  (4757, 12916)\t0.10610980394127228\n",
            "  (4757, 6421)\t0.12266242201117997\n",
            "  (4757, 9297)\t0.15532169957924374\n",
            "  (4757, 3766)\t0.060644484319855856\n",
            "  (4758, 13527)\t0.9346864833656001\n",
            "  (4758, 4374)\t0.355473174534518\n",
            "  (4759, 9616)\t0.5489655122937338\n",
            "  (4759, 9188)\t0.5056024305229551\n",
            "  (4759, 3647)\t0.29770178326729624\n",
            "  (4759, 11875)\t0.3247816317073972\n",
            "  (4759, 12960)\t0.3181903091369282\n",
            "  (4759, 1247)\t0.34394831101677226\n",
            "  (4759, 13527)\t0.1713127987815475\n"
          ]
        }
      ]
    },
    {
      "cell_type": "markdown",
      "source": [
        "## **Get Similarity score using Cosine Similarity**"
      ],
      "metadata": {
        "id": "2jXJpdAuiwYW"
      }
    },
    {
      "cell_type": "code",
      "source": [
        "from sklearn.metrics.pairwise import cosine_similarity"
      ],
      "metadata": {
        "id": "QBCakTuli57t"
      },
      "execution_count": 24,
      "outputs": []
    },
    {
      "cell_type": "code",
      "source": [
        "similarity_score = cosine_similarity(x)"
      ],
      "metadata": {
        "id": "o5iN-yEKJARx"
      },
      "execution_count": 25,
      "outputs": []
    },
    {
      "cell_type": "code",
      "source": [
        "similarity_score"
      ],
      "metadata": {
        "colab": {
          "base_uri": "https://localhost:8080/"
        },
        "id": "WzA-ITXSJKRE",
        "outputId": "4515b663-1016-49dd-931d-28f175719a62"
      },
      "execution_count": 26,
      "outputs": [
        {
          "output_type": "execute_result",
          "data": {
            "text/plain": [
              "array([[1.        , 0.02078195, 0.05449681, ..., 0.        , 0.        ,\n",
              "        0.        ],\n",
              "       [0.02078195, 1.        , 0.01356195, ..., 0.        , 0.        ,\n",
              "        0.        ],\n",
              "       [0.05449681, 0.01356195, 1.        , ..., 0.        , 0.03718058,\n",
              "        0.        ],\n",
              "       ...,\n",
              "       [0.        , 0.        , 0.        , ..., 1.        , 0.        ,\n",
              "        0.        ],\n",
              "       [0.        , 0.        , 0.03718058, ..., 0.        , 1.        ,\n",
              "        0.16012376],\n",
              "       [0.        , 0.        , 0.        , ..., 0.        , 0.16012376,\n",
              "        1.        ]])"
            ]
          },
          "metadata": {},
          "execution_count": 26
        }
      ]
    },
    {
      "cell_type": "code",
      "source": [
        "similarity_score.shape"
      ],
      "metadata": {
        "colab": {
          "base_uri": "https://localhost:8080/"
        },
        "id": "DXZYmMJ1JQ68",
        "outputId": "db4dd58c-f163-4e1d-e908-d7f031b875a9"
      },
      "execution_count": 27,
      "outputs": [
        {
          "output_type": "execute_result",
          "data": {
            "text/plain": [
              "(4760, 4760)"
            ]
          },
          "metadata": {},
          "execution_count": 27
        }
      ]
    },
    {
      "cell_type": "markdown",
      "source": [
        "## **Get Movie name as Input from User and Validate for Closest Spelling**"
      ],
      "metadata": {
        "id": "90_0q_Pbi658"
      }
    },
    {
      "cell_type": "code",
      "source": [
        "favorite_movie_Name = input(\"Enter your  favorite movie Name:\")"
      ],
      "metadata": {
        "colab": {
          "base_uri": "https://localhost:8080/"
        },
        "id": "clfzzISvJooq",
        "outputId": "7c2f2284-3ba7-4976-825e-a3bd4e0f8b1e"
      },
      "execution_count": 28,
      "outputs": [
        {
          "name": "stdout",
          "output_type": "stream",
          "text": [
            "Enter your  favorite movie Name:avatar\n"
          ]
        }
      ]
    },
    {
      "cell_type": "code",
      "source": [
        "All_Movies_Title_List = df['Movie_Title'].tolist()"
      ],
      "metadata": {
        "id": "u60YYaOFi-Dw"
      },
      "execution_count": 30,
      "outputs": []
    },
    {
      "cell_type": "code",
      "source": [
        "import difflib"
      ],
      "metadata": {
        "id": "YEExdLM3KyDu"
      },
      "execution_count": 31,
      "outputs": []
    },
    {
      "cell_type": "code",
      "source": [
        "Movie_Recommedation = difflib.get_close_matches(favorite_movie_Name, All_Movies_Title_List)\n",
        "print(Movie_Recommedation)"
      ],
      "metadata": {
        "colab": {
          "base_uri": "https://localhost:8080/"
        },
        "id": "gZSQfUjWK3zB",
        "outputId": "9c694735-cd52-4017-d991-daa9862d30ed"
      },
      "execution_count": 34,
      "outputs": [
        {
          "output_type": "stream",
          "name": "stdout",
          "text": [
            "['Avatar']\n"
          ]
        }
      ]
    },
    {
      "cell_type": "code",
      "source": [
        "Close_Match = Movie_Recommedation[0]\n",
        "print(Close_Match)"
      ],
      "metadata": {
        "colab": {
          "base_uri": "https://localhost:8080/"
        },
        "id": "9sJYvu0gLpvp",
        "outputId": "3f75498b-70eb-4cfc-ff23-b5ab0a4aa8f5"
      },
      "execution_count": 35,
      "outputs": [
        {
          "output_type": "stream",
          "name": "stdout",
          "text": [
            "Avatar\n"
          ]
        }
      ]
    },
    {
      "cell_type": "code",
      "source": [
        "Index_of_Close_Match_Movie = df[df.Movie_Title == Close_Match]['Movie_ID'].values[0]\n",
        "print(Index_of_Close_Match_Movie)"
      ],
      "metadata": {
        "colab": {
          "base_uri": "https://localhost:8080/"
        },
        "id": "3Gs9hVbHL7bj",
        "outputId": "6fc7af98-090c-4cb5-b311-d5a26b83c738"
      },
      "execution_count": 41,
      "outputs": [
        {
          "output_type": "stream",
          "name": "stdout",
          "text": [
            "2692\n"
          ]
        }
      ]
    },
    {
      "cell_type": "code",
      "source": [
        "#getting list of similar movies\n",
        "Recomendation_score = list(enumerate(similarity_score[Index_of_Close_Match_Movie]))"
      ],
      "metadata": {
        "id": "Toq58wpkjCw7"
      },
      "execution_count": 42,
      "outputs": []
    },
    {
      "cell_type": "code",
      "source": [
        "len(Recomendation_score)"
      ],
      "metadata": {
        "colab": {
          "base_uri": "https://localhost:8080/"
        },
        "id": "kfFNYhQjUvFb",
        "outputId": "43610e1f-b660-4c00-c18f-52f77de1cc71"
      },
      "execution_count": 43,
      "outputs": [
        {
          "output_type": "execute_result",
          "data": {
            "text/plain": [
              "4760"
            ]
          },
          "metadata": {},
          "execution_count": 43
        }
      ]
    },
    {
      "cell_type": "markdown",
      "source": [
        "## **Get All Movies Sort Based on Recommedation Score wrt Favorite Movie**"
      ],
      "metadata": {
        "id": "vhAwWfG0jFun"
      }
    },
    {
      "cell_type": "code",
      "source": [
        "#sorting the movies based on their similarity score\n",
        "sorted_similar_Movies = sorted(Recomendation_score, key=lambda x: x[1], reverse=True)\n",
        "print(sorted_similar_Movies)"
      ],
      "metadata": {
        "id": "lND3jJj_jhx4",
        "colab": {
          "base_uri": "https://localhost:8080/"
        },
        "outputId": "439c50ff-d68e-4f31-842e-607d7be3e8d7"
      },
      "execution_count": 48,
      "outputs": [
        {
          "output_type": "stream",
          "name": "stdout",
          "text": [
            "[(2692, 1.0000000000000002), (62, 0.1411679395649748), (3276, 0.1380404675094457), (1647, 0.12747562522212105), (110, 0.11509697595804669), (2358, 0.11284981043383421), (1994, 0.11163579515551389), (1977, 0.10242517402534493), (1341, 0.10120010207000306), (1886, 0.09791897169650336), (254, 0.09219951414390679), (3480, 0.08962321380912676), (3053, 0.08912314259269849), (3462, 0.0867491940201585), (3463, 0.08643191755854626), (1021, 0.08595224426131358), (2538, 0.084895055862774), (282, 0.08410152445491866), (4375, 0.0821498576602977), (3728, 0.0820204911641925), (4389, 0.08099804849616903), (1134, 0.08080719640999087), (4137, 0.08067973196478477), (3450, 0.08004270128494172), (3385, 0.07825407741896566), (292, 0.07803994523818952), (3248, 0.07780585255449438), (424, 0.07768818001892283), (3334, 0.07723862140060202), (1243, 0.07629136613412422), (4123, 0.07624751701088003), (4594, 0.07547600541607584), (2318, 0.07526804200514296), (137, 0.0746197114777721), (2112, 0.07323886890285007), (1970, 0.07296928301505215), (2653, 0.0727013710133614), (4062, 0.07233268985371868), (1030, 0.07059788532227607), (2630, 0.07038503940601706), (4398, 0.06996243250197708), (1809, 0.06948089328824196), (3395, 0.06927551383642425), (877, 0.0691058231476453), (4268, 0.06905945354623849), (2374, 0.06898492826634449), (4682, 0.06879435256160112), (1102, 0.0679966927063922), (4456, 0.06750446932892133), (761, 0.0665266343174951), (479, 0.06615061957707873), (384, 0.06608172356118572), (2579, 0.06594265408791236), (2151, 0.0655499253143321), (408, 0.06465243221287964), (4503, 0.06446185960486668), (1203, 0.0642682440472688), (2133, 0.06418866562546324), (1878, 0.06361147900724924), (2893, 0.06351772203707377), (412, 0.06321255382047206), (3974, 0.06305966958946606), (3023, 0.06303441547324351), (2944, 0.06206431780190221), (2294, 0.06119603766359567), (2745, 0.06118934550508247), (4104, 0.061086936425427465), (1261, 0.06103280904966153), (1257, 0.06041499845996552), (3203, 0.06032544303193472), (3793, 0.060063176517967824), (2191, 0.05963095627142147), (438, 0.05891377207111643), (3010, 0.05879328124087937), (1292, 0.05855720007875873), (519, 0.05816973375556276), (1358, 0.0579409699929215), (1393, 0.057658932961841686), (2550, 0.057609136016709014), (4588, 0.05747852740894668), (2971, 0.057192875995060614), (1248, 0.056873068107640846), (637, 0.0565689750859058), (3091, 0.05654927442710597), (1506, 0.056401718372603285), (3753, 0.05634454548929617), (673, 0.05624869808945741), (2012, 0.056167964354784064), (1850, 0.05595095024548771), (3374, 0.05513410355862257), (3373, 0.05500317980460879), (904, 0.05498263668167459), (2530, 0.05486050010733436), (4724, 0.05480209976950175), (615, 0.054392797912802326), (2417, 0.054004516160969705), (3955, 0.0537710038615274), (161, 0.05352097299600439), (3427, 0.05349898681166655), (1652, 0.05344740475033049), (44, 0.05334089092532415), (1527, 0.053095960289607134), (3867, 0.052932274370353874), (89, 0.05287345228950495), (632, 0.05244986738754055), (682, 0.05243618158938393), (3408, 0.05224294503829032), (1871, 0.05208804438486536), (788, 0.05206570563277954), (1085, 0.05156825536353997), (210, 0.05130191536108413), (126, 0.051017321237235624), (2517, 0.05099236221636565), (1302, 0.050947893134015966), (4488, 0.05083348718521328), (4165, 0.0508038988377978), (3409, 0.05079629419724446), (2621, 0.050788285973843904), (1024, 0.05073419076994114), (1676, 0.05051824938937735), (1675, 0.05039190509933346), (3552, 0.05038081063604788), (108, 0.050240250650165415), (3498, 0.05019601399957608), (4641, 0.050133859536245384), (1389, 0.050093409063273656), (3559, 0.04994418750182518), (1982, 0.049897067405204575), (4005, 0.049834227907658395), (3465, 0.04949510957523884), (1383, 0.04933940208446005), (1241, 0.04931349591325131), (1272, 0.04882756552894163), (3511, 0.04873089710544968), (774, 0.04862269869178252), (3470, 0.04860515434294495), (421, 0.0485824847402169), (818, 0.04856336709346987), (2018, 0.04846771273868055), (1146, 0.048259535223017215), (2869, 0.04806988466733924), (1702, 0.047879042469603506), (3947, 0.04785201009819493), (1369, 0.04779323795421386), (4023, 0.047683980164993624), (4378, 0.04756074985181485), (1752, 0.04738430642960846), (1173, 0.04731210558845252), (1837, 0.04719769672634243), (2371, 0.047076558703787595), (1770, 0.04697604054010811), (2295, 0.0468321071743792), (2212, 0.04681121942188765), (1973, 0.04670093308838508), (3983, 0.04639373831168221), (4452, 0.046361405807054064), (812, 0.04629007920006563), (823, 0.046229219681869424), (911, 0.0461867132789097), (185, 0.04609342960886185), (4195, 0.04593615823469199), (4152, 0.04584075989276726), (578, 0.04565445437929581), (334, 0.04550188349714277), (4703, 0.045494593701723984), (2316, 0.04540660833896224), (1118, 0.045359753960866035), (3720, 0.045301630864544626), (3127, 0.04517679155577545), (1379, 0.04494057751366761), (1885, 0.04484686660302321), (1713, 0.04475107746284221), (1063, 0.04473099232371722), (2868, 0.04466799227410741), (3315, 0.044580127940979083), (540, 0.04457111359988685), (166, 0.04454435802269682), (3102, 0.04453978598637935), (4602, 0.04441713905162625), (3961, 0.044338159462932826), (3430, 0.044230169533178), (3045, 0.04417668272203244), (4663, 0.044140368928746745), (4533, 0.04411322311419672), (1464, 0.04409125200850645), (4403, 0.04402529064443088), (4252, 0.044011712436493766), (2037, 0.043866946199593915), (3330, 0.04384596108713137), (1043, 0.04371869072918647), (721, 0.043714204893693785), (1750, 0.04363130798232076), (3573, 0.04355830222290455), (3731, 0.0434681116873857), (1367, 0.043399232662233174), (2443, 0.04338988012817565), (1236, 0.04330076368466559), (3652, 0.04322603403740085), (1568, 0.04286161351326398), (952, 0.04281788677675982), (2100, 0.0427974526926622), (3880, 0.042667197497113604), (250, 0.0426636852991619), (4272, 0.04266188989645647), (1499, 0.04252343731658961), (4004, 0.04246337693217112), (4141, 0.042434479975357174), (138, 0.04239166500401858), (2082, 0.04238690483795464), (2481, 0.04233668800516394), (84, 0.04231696706669597), (1795, 0.04211875856626292), (2365, 0.04200626408627242), (3556, 0.04189520248596429), (4064, 0.04176078716476498), (1868, 0.04168073492838637), (241, 0.04159298559254903), (3376, 0.041587189577236214), (4721, 0.04151795086686645), (4402, 0.04136976564886915), (593, 0.041298113948506424), (3850, 0.041174709637922594), (4727, 0.04106967508798076), (976, 0.040891366282549746), (4096, 0.04086403696035792), (629, 0.040848932525894895), (4443, 0.040802582414882216), (1500, 0.04079265907472667), (1482, 0.040697416962487375), (462, 0.040687806527182936), (4209, 0.04050329483816995), (3767, 0.04043879748802938), (874, 0.04037975803313085), (2887, 0.04028582475656326), (1976, 0.04021212610927554), (4739, 0.04017952355769712), (428, 0.0401605001199182), (4590, 0.040153333463073156), (176, 0.0400567087577436), (2723, 0.039969843763272034), (1990, 0.03974161135251752), (371, 0.03972845103006022), (2413, 0.039685520438814126), (4175, 0.03961474119743754), (2981, 0.03959054141930335), (3852, 0.03942523402294919), (1095, 0.0393484676585677), (3255, 0.03932485268639925), (852, 0.03926369520563526), (3574, 0.03924794582165001), (3572, 0.03920429918766562), (1847, 0.039089952038856075), (2221, 0.03907727440942522), (1845, 0.038986232943326066), (787, 0.03886408944582782), (430, 0.03879630969878534), (3326, 0.038603599684628155), (3157, 0.038589408686552334), (2706, 0.03846250576590247), (530, 0.03836961455554677), (2761, 0.03836135411642398), (3447, 0.0383375815709395), (1648, 0.03828177126905169), (2751, 0.03826211371736711), (1068, 0.038212915131835945), (3146, 0.03800471057039369), (693, 0.03797813931828517), (2476, 0.03787609991596194), (3004, 0.03786222080241108), (2791, 0.03774166560095778), (2912, 0.03771499477350258), (3174, 0.03770469313439918), (4450, 0.037693865396097634), (3328, 0.03762664157471532), (112, 0.037625285602419185), (3751, 0.037604610356928136), (2614, 0.03759712833212615), (2908, 0.037514297197828714), (2102, 0.03746413149439241), (2343, 0.03731275550682867), (1405, 0.03724216933964912), (4668, 0.03721784869004906), (618, 0.03721597786277338), (25, 0.03717968782262829), (4538, 0.03716196031099155), (116, 0.03714630085599959), (1634, 0.03712112164114281), (3377, 0.037080332445901365), (3701, 0.03707880935033093), (864, 0.03700131049056301), (3028, 0.03696904898403883), (124, 0.036896080118051164), (3313, 0.03686059794279012), (4294, 0.03678450220893398), (167, 0.036779143753849275), (3814, 0.03677482791270763), (1430, 0.03676118052021041), (1033, 0.036682677583156256), (3420, 0.0366790263748565), (3871, 0.03666544964833179), (3167, 0.03660466862142829), (4035, 0.03658813179849427), (1046, 0.03652531869049333), (2782, 0.036466333109266946), (4684, 0.03645143567900631), (3488, 0.036399255063497525), (3466, 0.036309054412868864), (284, 0.03623720833636254), (1205, 0.03620778075025549), (1060, 0.03607608820750142), (3344, 0.03605736470209232), (1720, 0.03596924591738575), (2710, 0.035934913098466005), (109, 0.03592621769617074), (3656, 0.03590701857385695), (3684, 0.03588969577897523), (1560, 0.035717020838109924), (2020, 0.03570981900835545), (1788, 0.03569243927337565), (2762, 0.03559565993392381), (2876, 0.03558846143802185), (240, 0.03553826468657333), (1137, 0.03552407596885647), (657, 0.035523900172874386), (1181, 0.03548776415121865), (1398, 0.03538689689481654), (3904, 0.03535582604707365), (3605, 0.03526865184548257), (3260, 0.0352656944611496), (3629, 0.03523838150618443), (903, 0.03510521036986385), (522, 0.035033276297628604), (1314, 0.03502295673772807), (2807, 0.03493032109992594), (459, 0.03486814119186539), (2487, 0.03483425607021447), (3688, 0.03479192796209017), (2011, 0.034775513299126155), (1999, 0.034769802923924994), (2920, 0.03461998958141486), (174, 0.03459063095401339), (2408, 0.03457435259797019), (4354, 0.03454506265724431), (3156, 0.03451717815200886), (3711, 0.034505477523654154), (4160, 0.034374874628377544), (4645, 0.03437390063015445), (2048, 0.034207903415837675), (3872, 0.03417129423718953), (465, 0.03414699401800647), (1412, 0.034101836834987666), (2802, 0.034074801229562274), (1059, 0.03396739458848624), (29, 0.03393356259662869), (4283, 0.03393136638054253), (3746, 0.03392969877741349), (2950, 0.033923914493747064), (345, 0.03384325050227231), (1283, 0.03382784052671551), (1195, 0.03381377215011548), (4608, 0.03378408035430898), (670, 0.033778539245406546), (547, 0.03369765574470222), (2713, 0.033642916724502536), (1629, 0.03362221526732653), (2972, 0.03351777121949452), (1763, 0.033437335182707494), (88, 0.03334723534542506), (2055, 0.03309986508178593), (3655, 0.03309183509957723), (2718, 0.033035158922589125), (1492, 0.033027050246370086), (515, 0.03302041993028876), (3483, 0.03300930703922383), (2023, 0.03298284197543261), (2094, 0.032979842613620546), (832, 0.032914637963023526), (2687, 0.03291095173606283), (1585, 0.032849471330807824), (1678, 0.03284459488710964), (2467, 0.0328040107858309), (3446, 0.0327925119627589), (1749, 0.03266207343080098), (1015, 0.032660580999055576), (3916, 0.0326074244364567), (269, 0.03259922176655169), (824, 0.03258843128833731), (4177, 0.03246772144243305), (1544, 0.03246700357428065), (2582, 0.032315268906077416), (3416, 0.032252381421073714), (15, 0.03224621584310476), (3285, 0.0322390532967597), (3153, 0.03220186942855576), (691, 0.032141954566172984), (4548, 0.032108124069800875), (1186, 0.032098872821936256), (4189, 0.03208768995063986), (3801, 0.032040305289537115), (2174, 0.03196858761451702), (1510, 0.031921477383170214), (1515, 0.03182625003755506), (330, 0.03178944758280947), (3692, 0.03178148515907362), (2647, 0.031772968424946875), (1530, 0.03166882108292868), (1505, 0.031629330171230145), (590, 0.03156084891169737), (175, 0.03153930101210455), (2157, 0.031457507478350376), (917, 0.031302450647767696), (1997, 0.03126134189548714), (2173, 0.031224345931936588), (2699, 0.031194386430482023), (1351, 0.031160467342769626), (4242, 0.031123180115129503), (4701, 0.031089361042007217), (766, 0.03097229056315604), (3017, 0.03092576786705732), (942, 0.030832734108640902), (566, 0.030829050061887145), (3868, 0.030800337036143748), (4614, 0.03079885296374013), (1471, 0.030791354577503694), (261, 0.030753647434319957), (885, 0.030728576749434102), (3597, 0.030710019069561445), (1057, 0.0304659356357132), (3384, 0.03046109484096522), (3963, 0.030353658042999235), (3773, 0.0302605943166686), (870, 0.03022465429868558), (2668, 0.030185508095228984), (967, 0.03012308571190323), (1985, 0.03011576344735431), (193, 0.030103305062734873), (4554, 0.029920617250545303), (3222, 0.029914997840294444), (2394, 0.029908813805899253), (398, 0.02990221354625519), (2638, 0.029857723625024937), (2689, 0.02975478148460841), (3875, 0.029724497336794935), (2013, 0.02963075870326081), (1671, 0.02960810409737217), (1721, 0.02957166780668287), (3471, 0.029560608610513878), (463, 0.029537668525022338), (442, 0.029498487218757936), (4731, 0.029450948270092474), (2808, 0.029421142206305463), (2026, 0.029417123898521087), (3362, 0.029406823585827253), (4128, 0.029375935369850278), (2822, 0.029366595524958395), (3492, 0.029334918756077872), (3095, 0.029314869246152148), (4053, 0.02924701722619418), (1865, 0.029206824040528667), (672, 0.02918599056478118), (1996, 0.029113386826866892), (3923, 0.02908075937805912), (1129, 0.02902133198778618), (257, 0.02899170012815217), (3433, 0.028878042586558256), (553, 0.02887272209850903), (1403, 0.02884499380403745), (4658, 0.02877452324187662), (1003, 0.02876242024718007), (1443, 0.028697651898793967), (3946, 0.028682810563448458), (1757, 0.028680715635469096), (1202, 0.028664624623778112), (2093, 0.028520752945956962), (1397, 0.028469886653684027), (4176, 0.028384259558522498), (2513, 0.028359278139641297), (669, 0.02834750750968009), (2598, 0.02834717247299124), (1270, 0.0283367236126593), (1377, 0.02831897346155842), (1074, 0.028291780650303175), (3428, 0.028278582903352337), (4281, 0.028246819860031695), (2767, 0.028244246179625628), (3469, 0.028057930501947673), (2276, 0.02802531410094382), (3927, 0.027994554113176015), (4534, 0.027989444829802836), (67, 0.027985821851186962), (3665, 0.027980400258164596), (1937, 0.027968260120519013), (643, 0.027912622005985634), (2484, 0.027869172768687774), (280, 0.02786286753130132), (1657, 0.02776288232533762), (3068, 0.02769845055572579), (3319, 0.027627009650096998), (3913, 0.027543415404479164), (968, 0.027537195227988476), (4466, 0.02745919655905175), (2560, 0.027452739026614558), (4382, 0.02743165682246722), (222, 0.027389238613770156), (757, 0.027336629562490652), (808, 0.027303546647652208), (2867, 0.02728857921107098), (3254, 0.027261161602839465), (1132, 0.02721804043645517), (4659, 0.0271834674246662), (3352, 0.0271076798213978), (2154, 0.027096991789341062), (4436, 0.02709270154784826), (3810, 0.027021448910684025), (160, 0.027017080379049516), (213, 0.027015665771329727), (2995, 0.026943823876975356), (1861, 0.02694366663465435), (1927, 0.02688313258510272), (3403, 0.02687887319276734), (2501, 0.026838538524018338), (4640, 0.02677242767532189), (2736, 0.02674151783820618), (2198, 0.02665048793306036), (142, 0.02664759494546983), (383, 0.02664022349795626), (2027, 0.026522527920998424), (1817, 0.026492620400989826), (3504, 0.026484794686526272), (2645, 0.026481658374801327), (2646, 0.026473460133167363), (2070, 0.026466839204361096), (3891, 0.02642403011686996), (3853, 0.02635746286409372), (2823, 0.026354784987894814), (895, 0.026344005807841606), (3083, 0.02633205963203009), (1838, 0.026328309000755043), (3085, 0.026290125709021568), (4203, 0.02627712232679222), (3835, 0.026141615130753772), (4050, 0.02606295841445948), (342, 0.026055763329386743), (3934, 0.026031353575317783), (204, 0.026018803240090264), (1254, 0.025988368479953103), (4007, 0.02598178312365776), (46, 0.025946290830289376), (61, 0.025891603474983843), (1052, 0.0258603018808), (3553, 0.025817228796866393), (3778, 0.025751975863666045), (3959, 0.02572893678023114), (768, 0.02566433529244912), (2119, 0.0256091216445838), (876, 0.025583761933699434), (4679, 0.025576580025295795), (1098, 0.02554055441956964), (2650, 0.025522780099842768), (2742, 0.025494706734682737), (4016, 0.0253512825831618), (1872, 0.025314685737193542), (937, 0.025286887014667428), (2449, 0.025238585545205895), (916, 0.025232422002149098), (3284, 0.025199643681675675), (3345, 0.025185584984436876), (4395, 0.025179593807903605), (1386, 0.02507954807909693), (1112, 0.025046824718954832), (677, 0.02493634541362748), (3144, 0.02491035502027167), (4492, 0.024897359478634182), (145, 0.024836284655996268), (364, 0.024804166329968406), (779, 0.024794574361569635), (409, 0.02478607208394163), (4380, 0.024756015462645713), (3895, 0.024725439974096434), (2917, 0.0247164828034295), (1245, 0.024681185136749745), (3797, 0.02452058100000947), (1278, 0.024500979658338133), (4504, 0.024485663861180305), (2167, 0.0244498518261809), (2347, 0.02437488412918743), (2376, 0.024364190513493856), (2301, 0.024320360194648935), (1064, 0.02428090116986304), (934, 0.024244687588109222), (1401, 0.024232315247172263), (2712, 0.024217583091398025), (3111, 0.0241979710627936), (2553, 0.024137220741510243), (3857, 0.024127494206054086), (155, 0.02412371257036159), (1175, 0.024109615375323613), (3528, 0.024107624843832737), (1274, 0.024074974953202138), (1759, 0.02404156566015632), (3000, 0.02404076039980308), (2841, 0.024035849085794744), (860, 0.023988790251799414), (1579, 0.023974908097822087), (1682, 0.023947595786751857), (2035, 0.02393175207528509), (2440, 0.023913714284495992), (762, 0.023884999635165383), (1774, 0.02388306930836526), (2362, 0.023871183054379304), (33, 0.023860752950596063), (209, 0.023833784568431517), (873, 0.023754106249384645), (296, 0.023726841161894312), (4156, 0.023649645459002656), (947, 0.023629448540801415), (2768, 0.023594081418325454), (2161, 0.023581533669902666), (858, 0.02355556458881506), (4349, 0.023553449657647912), (4440, 0.023476245459585023), (1184, 0.023470767537081286), (1220, 0.023385127512859094), (3279, 0.023377463830067575), (1148, 0.02332714441641027), (1365, 0.02319331623841973), (3299, 0.023192589620966295), (586, 0.023181695957604997), (4081, 0.023159272445678503), (3518, 0.023033978198338145), (641, 0.023013299023184126), (1523, 0.022957260610829176), (1275, 0.022940696861945074), (796, 0.02292413193398298), (533, 0.022924049098953368), (1853, 0.022920544679206567), (1935, 0.022902201335556864), (3407, 0.022901762212565305), (1384, 0.022819019843656606), (2045, 0.022787973313426337), (2760, 0.022778366375228426), (3129, 0.022620359677340107), (1417, 0.022605514170890274), (957, 0.022589148378483217), (1895, 0.022548603681922498), (4399, 0.02253037901422547), (279, 0.02247640039690489), (3360, 0.02247246386989283), (2008, 0.02237623750492078), (2005, 0.0223685396649103), (4321, 0.022353631914382808), (3253, 0.022289379717988514), (287, 0.022284988661959923), (4531, 0.022236138393706195), (2618, 0.022232789564808404), (43, 0.022182660234458508), (4244, 0.02217509400683701), (829, 0.02217225160835825), (4149, 0.02216881072519613), (1986, 0.022168748854067208), (543, 0.02213589384685928), (4486, 0.022132379732083197), (1045, 0.022127779035721155), (1988, 0.022119199147512005), (853, 0.022104306903653843), (4012, 0.022099259437084587), (2931, 0.022086571437678077), (3098, 0.022073866387583622), (1216, 0.022064748708681102), (1413, 0.02206163456653578), (203, 0.022051391923821696), (3694, 0.022028938350892348), (1119, 0.021995722718578532), (3154, 0.02199478299026942), (2932, 0.021968224750946265), (2258, 0.0219577624636072), (3839, 0.0219181879863713), (1361, 0.021908218617657876), (68, 0.021908032229757617), (2795, 0.021898694072805577), (3228, 0.021869290319006328), (212, 0.02177068419767896), (4178, 0.021769785222680162), (776, 0.0217641137745494), (1687, 0.02171133202948498), (1609, 0.021704401515080456), (3640, 0.021685467706107096), (4255, 0.021671056548396007), (4028, 0.021658512224919598), (1194, 0.02165386852530246), (1445, 0.021631304241286595), (48, 0.021601961518978703), (701, 0.021598096478381693), (2237, 0.021590160825706056), (638, 0.021580481149799314), (3036, 0.02156696735201369), (1331, 0.021553642943565023), (2524, 0.021547190022906296), (1512, 0.021540515407053044), (4314, 0.021535001880739982), (1418, 0.02152666600023625), (1192, 0.021472554248899513), (2639, 0.021424504028875753), (2522, 0.021420225165728224), (455, 0.02136145897474405), (251, 0.021336954257521037), (502, 0.02129870767304723), (218, 0.021285352724497462), (2654, 0.021262224203664123), (4000, 0.021258433440781644), (896, 0.021247199529638293), (3213, 0.021161438821349444), (2149, 0.02114641023352313), (989, 0.021133120477802553), (2784, 0.021106955696892696), (1707, 0.021089325294835037), (1716, 0.021019686084423575), (775, 0.020982587175021005), (3642, 0.02095644684364327), (2298, 0.020944283245162745), (52, 0.02091993724596297), (2469, 0.020903615937043887), (2040, 0.020891489115590925), (613, 0.020888956348309173), (4124, 0.020869646944580857), (51, 0.020868516990382613), (1876, 0.020772294240841864), (4344, 0.02076709000252793), (1741, 0.020724244314685156), (4583, 0.02072325660959384), (4576, 0.020693457457135495), (2207, 0.020692342272691695), (3437, 0.020673105439460937), (1249, 0.02064271604856796), (332, 0.020622298014464177), (2366, 0.020621451202246517), (4669, 0.020614524812763543), (3828, 0.02057120378541452), (652, 0.02056517488715795), (1141, 0.020545957699874242), (1906, 0.020542768183859906), (3043, 0.020491221318856945), (2368, 0.020489907981844694), (2214, 0.020475722665618666), (2903, 0.020453330064118105), (675, 0.020418279485884722), (2919, 0.020372313308992626), (2334, 0.0203631116773957), (2996, 0.02033485852243258), (370, 0.02031460353218171), (622, 0.020289922894547653), (1232, 0.0202376814127289), (3777, 0.02020977128887048), (3535, 0.020203526898496554), (1796, 0.020153455835963643), (2969, 0.020135730388611994), (2632, 0.020118569242312104), (4482, 0.020085084728449838), (879, 0.020083229574658756), (450, 0.02007748626926651), (584, 0.02006986983430445), (2254, 0.02006953119112266), (21, 0.020036828419402186), (1870, 0.020024238426303815), (763, 0.02001547726449467), (842, 0.020002865304361434), (452, 0.02000165414576808), (2096, 0.01998349016803941), (4116, 0.01998216301629808), (609, 0.019959438647754114), (481, 0.01995106741698312), (356, 0.019931108535146447), (2406, 0.01992368476390899), (3807, 0.019913755205511537), (3819, 0.019876236704881242), (2805, 0.019873793602515767), (3019, 0.019847423915458906), (3675, 0.019845018866101283), (3580, 0.01982933007354639), (3976, 0.01982624365706148), (3766, 0.01980255782424191), (2000, 0.01980076299971827), (795, 0.0197999178160425), (1090, 0.019795369250624913), (1290, 0.01979274512229102), (3854, 0.01976397825923829), (4637, 0.019750657901714486), (1252, 0.019745697981300298), (1385, 0.019745299210667464), (3861, 0.01973769570406547), (1942, 0.019722891581910984), (70, 0.019691225357196234), (4735, 0.019653077716284835), (2145, 0.01964431977457992), (1740, 0.01963066567480208), (1005, 0.019624977108560242), (3012, 0.019617800956370952), (3630, 0.01957702205320712), (447, 0.019568173939868483), (664, 0.019561918304563983), (1621, 0.019555858365683215), (534, 0.01955474189501344), (1880, 0.01954895124645298), (3747, 0.01952242467245674), (604, 0.019521192365863846), (2961, 0.019496097531476048), (4068, 0.019485717888501133), (2885, 0.019479431460949038), (1957, 0.019465991375726764), (833, 0.019455042963439806), (458, 0.01942962928624314), (929, 0.019423060633025662), (1337, 0.01942078245788028), (4379, 0.01936174118280516), (635, 0.01932945344852208), (3275, 0.019319507249720945), (3210, 0.01928025815523144), (988, 0.01926110765966607), (936, 0.01925483051756214), (1000, 0.019246553510303188), (4627, 0.019228473390582364), (1983, 0.019196238293769378), (2910, 0.019194747359008987), (276, 0.01919345702700341), (3660, 0.019172968453002967), (2644, 0.01916647183394216), (2053, 0.01915472550091309), (799, 0.019151354838215336), (2216, 0.019122430166407488), (3387, 0.019116597929633126), (1266, 0.01910325493429735), (1967, 0.01908742082258958), (1224, 0.01907717995412416), (4337, 0.019058522612001694), (3421, 0.019057424095250203), (2474, 0.018997749950194064), (429, 0.018990683040562062), (2196, 0.018983879949141205), (1665, 0.018976625053814138), (313, 0.01895659844970469), (4387, 0.018940828850551636), (3086, 0.018940083354517766), (2695, 0.01886990089562729), (1017, 0.01884826877980004), (545, 0.018824646328380743), (1591, 0.018791103293688174), (1317, 0.018786491810370228), (1107, 0.01877196912502964), (1185, 0.0187716614862079), (18, 0.018745034910232175), (1325, 0.01874183154521264), (106, 0.01871001707136532), (2024, 0.018698658332545318), (3862, 0.018698129887382255), (2290, 0.018687386056705033), (1035, 0.018676772588342362), (3295, 0.018676595660924476), (3883, 0.018673172684399993), (1481, 0.018666598488782944), (3670, 0.018661426925812425), (1152, 0.01865424689626793), (1483, 0.01865207371407725), (2210, 0.018639709955312535), (3699, 0.018629216461459992), (3108, 0.01862614764362301), (4121, 0.018621731502295374), (2874, 0.018598356025417713), (4227, 0.01858898571411533), (4709, 0.018564208672820767), (3375, 0.018562545276730125), (1343, 0.018560512646622968), (4673, 0.018534828710656304), (1335, 0.01852717408844472), (732, 0.018519137149161705), (2275, 0.01850964818349285), (1396, 0.01849551199120775), (4474, 0.01849390053161935), (1667, 0.018491577125364762), (1215, 0.018486072605352084), (2727, 0.018450676161819606), (888, 0.01844911080216656), (207, 0.018430871057167217), (2649, 0.018392052890518124), (1342, 0.01826774147205511), (417, 0.01825823224404131), (3318, 0.018205383228139367), (555, 0.018196531463336302), (667, 0.0181797614381245), (57, 0.018138388681043238), (2066, 0.01811655898704469), (2353, 0.01810626538358989), (2229, 0.018105512401393676), (523, 0.018077972556790292), (866, 0.01804456745485028), (753, 0.01803056519629553), (1815, 0.018027732135041122), (87, 0.017944104526018932), (676, 0.017936403459783798), (2939, 0.017929728208890956), (986, 0.017871339009211694), (244, 0.017793571953613512), (4288, 0.01779339762935761), (2114, 0.017784587357014194), (1680, 0.017748226323363682), (1162, 0.01773697014238079), (510, 0.017728268725452048), (4231, 0.017713408803769155), (4095, 0.017713401594703956), (72, 0.017678306819315044), (1058, 0.017676535673509974), (4374, 0.017647777227136167), (3957, 0.017619091352118883), (2224, 0.017617769184960975), (878, 0.017615038383619226), (1012, 0.017614735524441854), (75, 0.017606760372870362), (3954, 0.017589984077204534), (3958, 0.017577740803029106), (273, 0.01756070475393124), (147, 0.017560124238598755), (684, 0.01755691466063026), (3370, 0.017541370379891112), (1595, 0.01753716168282074), (2607, 0.01751400175879224), (3978, 0.017496983295119978), (199, 0.017475351695395096), (1799, 0.01745318002298559), (1183, 0.017448116907754566), (3356, 0.01744727026948416), (4088, 0.01743695422771677), (4475, 0.0174115911005778), (1226, 0.017386289658688294), (3659, 0.017363442656830142), (1567, 0.01736281370801126), (1958, 0.01734553401184643), (86, 0.017330904189784647), (1919, 0.017291054903441856), (4106, 0.017289076619869916), (2421, 0.017282209069291506), (970, 0.017276872229322525), (1478, 0.017273427049773832), (2771, 0.017251085515046446), (1436, 0.01723799850453781), (1230, 0.017229662777033534), (1612, 0.017227464881286417), (2177, 0.017211199501738075), (1432, 0.01719513569740562), (2062, 0.017163563302497915), (1739, 0.01711829892478342), (201, 0.017118263562658307), (3768, 0.017105679503484298), (3741, 0.01709844462026223), (2460, 0.017081773396764508), (1455, 0.017050114416996238), (236, 0.01702949464050415), (3507, 0.017024566297266737), (653, 0.017016381738214383), (2336, 0.017014781048244932), (654, 0.017013470642372033), (847, 0.01698197045818365), (844, 0.016939889735535375), (119, 0.016883460965315115), (1802, 0.016881640740792212), (4605, 0.016866416971734972), (1104, 0.016864639542564352), (2252, 0.01686329245151192), (3226, 0.01679868678876791), (2486, 0.016797672814978154), (2565, 0.016768992460647662), (4265, 0.016764156202457123), (2480, 0.016754512493934417), (1798, 0.01669784319987582), (1681, 0.0166921928719309), (3903, 0.016666413914303423), (2780, 0.01664175352871731), (1360, 0.016636809913899188), (418, 0.016621264483798075), (760, 0.01661974563097024), (4511, 0.016613062274728602), (2963, 0.016574372290401304), (13, 0.01657078311138428), (1832, 0.016564618159880296), (2617, 0.016560019816515534), (931, 0.016532443845190124), (1420, 0.01652562042985052), (733, 0.01647892083016789), (2057, 0.016473662933540557), (2978, 0.01642459104767564), (83, 0.01641790529348009), (3756, 0.0164084428121199), (3536, 0.016402154737198395), (1303, 0.016353723577108972), (4510, 0.016340974170182886), (7, 0.016334550221448203), (1406, 0.016330384333662358), (1237, 0.01627154592790593), (1723, 0.016239090895538266), (3582, 0.016228611973345734), (1053, 0.0161871389521891), (1989, 0.016155541258775257), (905, 0.0161543783536583), (281, 0.016145452587106274), (343, 0.016118866420988136), (790, 0.016111006053837824), (3426, 0.016089162750804492), (2992, 0.016086174351996024), (2468, 0.01607799298268141), (346, 0.016069272170695773), (353, 0.01605699654199137), (271, 0.016043682318902023), (1538, 0.016042915752334113), (2697, 0.016034520067948192), (1382, 0.016033327139962073), (1087, 0.016025742202159413), (1662, 0.01600975901098433), (3312, 0.015983285785113405), (918, 0.015969194067970878), (551, 0.015953665492831535), (354, 0.01592098455940176), (631, 0.01590624765126659), (1951, 0.015887431632660674), (2143, 0.015885008894855793), (3637, 0.01588496935246774), (327, 0.015876108585260153), (1949, 0.015855315726026407), (3849, 0.015849058551222414), (1630, 0.01584896670306428), (1419, 0.01582292356209688), (2109, 0.015814555466931297), (2798, 0.0158131793286806), (2447, 0.01580895645992452), (3708, 0.015775824406250118), (4187, 0.01574971467519836), (4747, 0.015711764515381834), (1688, 0.01569893874471184), (2680, 0.015691724201957784), (4216, 0.015688779567078263), (47, 0.015685165090930507), (560, 0.015676907618115233), (3750, 0.01567440446061749), (149, 0.015661649208599096), (2788, 0.015650629239343357), (2412, 0.015637095784143653), (190, 0.015614025896362054), (1047, 0.015613440372207129), (3110, 0.015610712718282089), (2418, 0.015576781615592849), (4623, 0.015557648011955368), (1542, 0.015551026313739669), (875, 0.015516386376123245), (79, 0.01550212147680588), (4235, 0.01549128223720787), (3099, 0.015482946375574506), (3674, 0.015452111814629927), (1124, 0.015449742544925616), (897, 0.015434857720365014), (620, 0.015407916618511118), (2284, 0.015404168965413544), (850, 0.01537430402254545), (719, 0.015370178336086662), (3119, 0.015332853252872562), (2103, 0.015331282801419994), (360, 0.015329751423789426), (4512, 0.01532564248096464), (678, 0.015323763585396617), (3951, 0.015320932402036053), (3822, 0.015317792998995945), (2977, 0.015307853012988325), (3689, 0.015303174367265861), (1754, 0.015288527147724964), (144, 0.01528757988299999), (4025, 0.015283467947792999), (123, 0.015279669317174994), (2279, 0.015277816791928227), (2110, 0.01525961131022857), (2436, 0.015240240459272369), (1514, 0.015228448334438503), (4617, 0.01522484142101093), (104, 0.015214706278736638), (3317, 0.015210681932315478), (274, 0.015180620355610401), (1619, 0.015173187941944551), (333, 0.015165865817453182), (1781, 0.015145661039651738), (0, 0.015132661710742871), (2206, 0.01510996201515153), (266, 0.015109685062629828), (3643, 0.01510578680045923), (1948, 0.015104512222582184), (2280, 0.015089446013860796), (683, 0.01508426795293124), (782, 0.015080729471734094), (4032, 0.015068215031897552), (3076, 0.015065667523367418), (1922, 0.015049183677531996), (2383, 0.015046364590861309), (2759, 0.015033356512711855), (170, 0.015030906192141629), (243, 0.015000731099399684), (2929, 0.014995358404297684), (4465, 0.014987624153322061), (827, 0.014975417253203508), (2740, 0.014961394029977648), (2602, 0.014959372749679524), (1710, 0.014950557244258334), (3973, 0.01494688162029162), (206, 0.01491591027089852), (3733, 0.01490823219190642), (4148, 0.014887367763754957), (2285, 0.01486463014384716), (1513, 0.014856212085522277), (374, 0.014853941282041058), (3993, 0.014847200158865372), (1572, 0.014828624465014326), (2309, 0.014812922265118244), (1023, 0.014812274163139209), (120, 0.014809805673614021), (1992, 0.014801859705552513), (4543, 0.014793045716503906), (734, 0.014741388075740406), (801, 0.01473522292813188), (4481, 0.014715835743337895), (3237, 0.014711300123093449), (1206, 0.014661655497780002), (3046, 0.014647332740551335), (1054, 0.014634618669052938), (1264, 0.014632193904354262), (2871, 0.01462681549177989), (899, 0.014625838451569883), (2178, 0.014613445028727044), (2463, 0.014609323713689996), (19, 0.014606824584883169), (2918, 0.014596468561256012), (4205, 0.01459574983849924), (1494, 0.014588629023518955), (2144, 0.014575643707937163), (3794, 0.014558026821129014), (2074, 0.014549131683444332), (1920, 0.014534872225646662), (3325, 0.014532850783500004), (825, 0.014509190419469511), (358, 0.014499108256940096), (792, 0.014493287594715866), (2429, 0.014467953317756188), (928, 0.014467919681567258), (695, 0.014442438014672588), (3784, 0.0144373295535319), (915, 0.014427015500958554), (1807, 0.014411523632857387), (3246, 0.014408275355116833), (1259, 0.014401575875057745), (1694, 0.014398101979577305), (1061, 0.014385684477372854), (2698, 0.014382664955888077), (1858, 0.014363820832110335), (216, 0.014355012672051356), (3860, 0.014353208071788824), (2587, 0.014350089321035805), (500, 0.014343709155297413), (1821, 0.014322900801115021), (1114, 0.01432222045378172), (1136, 0.014319197482777053), (3386, 0.014306467152630377), (291, 0.01430452168045827), (3992, 0.014285129490107532), (2925, 0.014264523826346163), (2980, 0.014261817215931052), (4325, 0.014242485491244166), (307, 0.01423410031068451), (4748, 0.014222879116895905), (1789, 0.014222395762129279), (4257, 0.014219886032247431), (1348, 0.01420965599201834), (173, 0.014205197379429815), (2193, 0.014189904870774414), (1874, 0.014159726085637975), (99, 0.014156363843022792), (3215, 0.014149900681288859), (270, 0.01414500227438439), (2016, 0.014143715299082229), (1234, 0.014130807730991155), (4469, 0.01408223099790995), (4366, 0.014058186833261467), (3667, 0.014020406552250855), (4553, 0.014016932023017271), (4158, 0.013996260985392476), (3218, 0.013993483445873721), (2640, 0.013990839757033573), (288, 0.013969723307134967), (2494, 0.013965936223350524), (3941, 0.013960542092018139), (2235, 0.013958178437249887), (1018, 0.013952762758979883), (1279, 0.013950303269100659), (2489, 0.0139437599895683), (962, 0.013937650785673151), (4442, 0.01391710053045192), (304, 0.013911859359139151), (3264, 0.013898533225552498), (2789, 0.013896867142645455), (4477, 0.013884011974148795), (1923, 0.013874913939122433), (3826, 0.013871592361920907), (532, 0.013854123885807406), (3240, 0.013834273839311309), (1339, 0.013828316224221926), (921, 0.01381605924435539), (2197, 0.013809242245124219), (4164, 0.013800217358831218), (994, 0.013779433666421818), (485, 0.013779159045254993), (3096, 0.01377361729964495), (828, 0.013772455339964318), (3118, 0.013771110127489931), (3775, 0.013764607890762628), (1727, 0.013754252508067777), (2211, 0.013735203652957665), (2303, 0.013733280317081795), (148, 0.013713143312221333), (2601, 0.013707436818370623), (2546, 0.01370734446643666), (3097, 0.013699489573418587), (3924, 0.01369945247114129), (1465, 0.013688355550595), (3070, 0.013686138254213862), (3829, 0.013683884301876083), (3232, 0.013681585198726687), (1854, 0.013668873105425802), (1875, 0.013648126633046292), (1736, 0.01363371639860756), (501, 0.013630719065986875), (4649, 0.013615556927264941), (1841, 0.013610574867226315), (2097, 0.013608150957130201), (1334, 0.01357650385211932), (1701, 0.013544586442350449), (4722, 0.013537675378016534), (1300, 0.01353101504448169), (4008, 0.013514938649588474), (3399, 0.013491403684805859), (3888, 0.013491046805438237), (2934, 0.013465009965735398), (2625, 0.013464855907842393), (3558, 0.013464623025295861), (60, 0.013462418105109548), (1440, 0.013461902430321613), (1793, 0.013426410505873607), (894, 0.013398252316362165), (4435, 0.013395629896835204), (597, 0.01336103901925939), (1539, 0.013345630179805664), (4551, 0.013332986579035236), (692, 0.013329977071541686), (2633, 0.013293803521399616), (2076, 0.013285871809283298), (2744, 0.013284929036220442), (4192, 0.013275041733839513), (3713, 0.013267762266143486), (544, 0.013236933523588519), (668, 0.01322741144948094), (1650, 0.013175049568894115), (403, 0.013167410251946031), (2510, 0.013162779389345606), (3, 0.013160861066208182), (172, 0.01315686005795999), (1092, 0.013140202145924231), (2162, 0.013121858310893315), (496, 0.01308518781785567), (752, 0.013072325795250979), (2126, 0.013071633591099722), (2321, 0.013069035377255976), (4685, 0.013056106737496331), (1620, 0.013052732199199574), (3612, 0.013045249035995922), (3067, 0.01302740672740335), (231, 0.013023068299155297), (2691, 0.013021712144948286), (1338, 0.012987327965090402), (3389, 0.012945015085178441), (2843, 0.0129278620199249), (2244, 0.012912124892199617), (3151, 0.01290221967510552), (2975, 0.012896951632480943), (5, 0.012893279604867932), (2739, 0.012844740550973677), (2752, 0.012813396163087203), (2346, 0.012800265410912011), (483, 0.012786609911715775), (2265, 0.012721077233506576), (413, 0.012716405882046455), (40, 0.012706192517802894), (1582, 0.012703948713496423), (85, 0.012699456838052077), (2464, 0.012682931692039795), (806, 0.012663428023501943), (4033, 0.012635022477159343), (4060, 0.012621931119592499), (3457, 0.01257504127713502), (542, 0.012573471726785114), (435, 0.012564157114036634), (1438, 0.012549209811301873), (113, 0.012546844807382596), (3155, 0.012536852915972556), (2512, 0.012522116274144254), (1509, 0.012514992011396213), (1571, 0.0124903967435246), (1425, 0.01247504139080263), (4293, 0.012467517748988764), (2831, 0.012446810743130126), (2942, 0.012437306718904697), (22, 0.012436340527687805), (4619, 0.012429070229344037), (2339, 0.012370150518764212), (2933, 0.012367676491756116), (3171, 0.012365700581007414), (621, 0.012358671620073399), (1115, 0.012351895135029177), (748, 0.012351612419500078), (1160, 0.01234728441003084), (56, 0.012328885033881172), (1276, 0.012326007364864888), (2732, 0.012307864432707526), (4048, 0.012307156555651504), (111, 0.012278492416772657), (1764, 0.01226122339378038), (2228, 0.012236367806485099), (96, 0.012233751165061733), (2029, 0.012233023032517387), (328, 0.01222481157186009), (1583, 0.012206875891914657), (1486, 0.012203805660641023), (2603, 0.012201334952033231), (2065, 0.012197744872273054), (1960, 0.012189442779754592), (2075, 0.012186985256043854), (1950, 0.012154677557793342), (1908, 0.012144942208670236), (3382, 0.012137206973177245), (105, 0.012109366143049362), (3821, 0.012103574996977121), (2080, 0.012097710165643448), (778, 0.012092966448522402), (1718, 0.0120856540496278), (2563, 0.012072799707659076), (1307, 0.012068828294561318), (2236, 0.012065446559559077), (441, 0.012061512590418504), (4246, 0.012055959250225977), (1111, 0.012040990215029272), (4099, 0.012006318397975474), (1911, 0.011960002996159753), (3864, 0.011958518103235042), (1050, 0.01194203701185033), (2849, 0.011938840262450309), (131, 0.011925700034400943), (3984, 0.011921640728501055), (107, 0.011919866214169073), (2985, 0.011913933037489782), (4502, 0.011908813353419055), (1924, 0.011884519989653659), (1501, 0.011854074314958987), (2777, 0.011852342453334934), (4217, 0.011848189894246576), (285, 0.01184756226601719), (2264, 0.011836653614283156), (1078, 0.011836602556312355), (851, 0.011829109455505478), (2101, 0.011823484152957945), (3120, 0.011822435124342792), (396, 0.011821899467681082), (2886, 0.011807480913531345), (3418, 0.011799778361678667), (3909, 0.011794209846491356), (3648, 0.011775401273941867), (4210, 0.011774283392473607), (4388, 0.011765681237528127), (4061, 0.011765603037088344), (3033, 0.011758718114095996), (1239, 0.011754791178224734), (4610, 0.011751472667020747), (4467, 0.011728213440417964), (2726, 0.011721768760125694), (4564, 0.011714368756459667), (2056, 0.011678269641575935), (2250, 0.011638686744012425), (9, 0.011616885377901938), (1250, 0.01161465949499305), (434, 0.011613978610002882), (1310, 0.011588906261393438), (2089, 0.011587550956443496), (1374, 0.01158120784249882), (368, 0.011578205442343463), (2948, 0.011572777088115611), (4196, 0.011571270316113956), (4596, 0.011557787011686835), (1654, 0.011555266702212071), (3265, 0.011554284817318872), (2844, 0.011553560019487909), (1144, 0.011545390836464277), (3256, 0.011531671614266104), (1429, 0.011531245990419256), (2816, 0.011529807296629304), (1238, 0.011528393586004534), (527, 0.011520279091200828), (1849, 0.011519360019575587), (628, 0.011515639763027743), (1674, 0.011478544731497325), (1260, 0.011476469807919578), (4226, 0.011472155216939976), (3142, 0.011463397078993638), (309, 0.01143493060914986), (1776, 0.011434909982798573), (521, 0.01143267740185201), (63, 0.011413899262470266), (1282, 0.011410751142700121), (407, 0.011404994142914826), (1692, 0.011401965427527971), (3949, 0.01138495212520892), (3039, 0.011372626845709641), (3661, 0.011368830792839383), (139, 0.011358019495547218), (263, 0.011356008114474011), (2635, 0.011314724982027664), (474, 0.011300172867113503), (482, 0.011299918019994875), (436, 0.011292268744118391), (3410, 0.011283846207855367), (4182, 0.0112620285745027), (4105, 0.011256523978086486), (4430, 0.011251780383560088), (3306, 0.011251109037564457), (38, 0.011244275337443281), (3635, 0.011233188614170114), (2158, 0.01122546484694091), (2503, 0.011222464428212682), (2239, 0.011213279578842324), (1900, 0.011210056388424528), (1387, 0.011207409336474343), (1787, 0.011193177321313821), (4335, 0.01119246345925492), (4055, 0.011177851715747407), (3152, 0.011167046478407064), (835, 0.011150160808322034), (130, 0.011148117427440004), (2555, 0.011146862416346486), (2077, 0.011138846271053509), (4303, 0.011131978927447437), (939, 0.011127635167083608), (4710, 0.011122839380511779), (948, 0.011118191539651897), (688, 0.011095713418750416), (350, 0.011087964170511718), (4001, 0.011085105441302713), (3956, 0.011081498973552498), (180, 0.011071098855333592), (159, 0.011067044320840231), (1157, 0.01106011172957812), (4546, 0.011057101110068315), (385, 0.011056392410722999), (558, 0.01102206861980269), (443, 0.011021324991359733), (2205, 0.011019307017019902), (1968, 0.011015971346258785), (2714, 0.011013861002220335), (3456, 0.011005632913134857), (2335, 0.011000506688328861), (834, 0.010994713852680282), (2655, 0.010960867919741794), (3579, 0.010958412473057583), (4459, 0.01095250354008471), (3032, 0.010950171722748916), (3926, 0.010949863169701906), (1705, 0.010949399763808878), (1174, 0.010943292664297093), (1540, 0.01091930613778402), (2091, 0.01091148281077477), (4444, 0.010908058188998461), (568, 0.010893321600993806), (1897, 0.01087889422198066), (1083, 0.010859757878623), (3598, 0.010859094785400066), (2873, 0.010858691011935387), (10, 0.010855416814072826), (3865, 0.010849590074097026), (1329, 0.010836420487396255), (3727, 0.010834714978034805), (1140, 0.01082976904784021), (1461, 0.010825175149055547), (3515, 0.010796520734872826), (3114, 0.010783483760055746), (4046, 0.010772747221425388), (3960, 0.010746984137992018), (3566, 0.01074388558280477), (729, 0.010743607506642345), (208, 0.01073973392837713), (1489, 0.01072923729254853), (2255, 0.010722782725808077), (4110, 0.01072102908258767), (2881, 0.010718137818344907), (1537, 0.010717539851066351), (2160, 0.010716164589680756), (1507, 0.010708430624484696), (3293, 0.010698466815967967), (2175, 0.01068860318447161), (4581, 0.010685926183560138), (2600, 0.010681974363201868), (4612, 0.010677718712316025), (636, 0.01067476910261941), (3196, 0.010653393227447235), (3679, 0.010649701017924191), (1818, 0.010648812281973133), (1971, 0.010648676724692541), (3586, 0.010645292498515022), (1327, 0.010635928054396834), (4412, 0.010631157533570135), (4494, 0.01060668132006811), (1448, 0.01059609045565293), (3508, 0.010593801303594145), (1714, 0.0105901058300274), (493, 0.010583436909251863), (1116, 0.010583028443386619), (940, 0.010580619107946094), (3233, 0.010572939990175627), (1225, 0.0105644695328568), (1526, 0.010562383968135008), (1454, 0.010542857429571282), (1400, 0.010533147491738384), (3436, 0.0105012463174979), (1643, 0.010495569065466014), (255, 0.010493757740753184), (1866, 0.010492255467681346), (2058, 0.010474539923920263), (3521, 0.010457172765862683), (3244, 0.010456824710388517), (2088, 0.010452272996274046), (3876, 0.010445791503493788), (4249, 0.010444267920011798), (34, 0.01043174029078962), (35, 0.010426239977903956), (3464, 0.010426125965283042), (1488, 0.01042432089082768), (1684, 0.010421960903338719), (1779, 0.010421259500804792), (1945, 0.010416365090164286), (2962, 0.010414785567090551), (4557, 0.01040106252771162), (583, 0.010400658692373438), (509, 0.01039742357621102), (2879, 0.01039570270784199), (3825, 0.010377559785883268), (1316, 0.010372655949655609), (3623, 0.010371658327174625), (3680, 0.010363774193567148), (3112, 0.010363137279144211), (143, 0.010361065155456104), (2935, 0.010360649723049592), (539, 0.010356573555688562), (503, 0.010346217386002873), (980, 0.010340318410388662), (2184, 0.010328969117485718), (2104, 0.010328496124951538), (4038, 0.010327940005828876), (2459, 0.010327672373462046), (4342, 0.01030991946554463), (1267, 0.010306647335888963), (2291, 0.010299824846523843), (3267, 0.01029928149933564), (3123, 0.010297908480401016), (816, 0.010289744587664152), (4122, 0.010285445857366179), (2363, 0.010271217884040357), (2988, 0.010270055691835861), (2304, 0.010269025282648841), (3771, 0.010265216065538433), (4093, 0.010259833744607514), (4660, 0.010257258104087487), (4009, 0.010252591734532301), (728, 0.010251388340930968), (3192, 0.010251060674400094), (1498, 0.010246644261243412), (1902, 0.010244455282077281), (3499, 0.010225971243074467), (3638, 0.010215037586880431), (1044, 0.010211288647407874), (4289, 0.010206677111527144), (4579, 0.010198123892301366), (2581, 0.010189954677789438), (329, 0.010183871550004718), (1306, 0.01016590102113259), (4233, 0.010164409082523177), (2188, 0.010161581536048235), (3618, 0.010159825796236697), (181, 0.010148341742002619), (2477, 0.010146043607670387), (1128, 0.010145715838783933), (1009, 0.010142602699088857), (3901, 0.010136133376683547), (4133, 0.010120967302134711), (1806, 0.010118336795732513), (3259, 0.010115601784745902), (742, 0.010112628017263614), (1934, 0.010102154415549725), (3514, 0.010100894171671976), (81, 0.010100363855360027), (1536, 0.010092211057201622), (3435, 0.010090191368010985), (4624, 0.010082213920088887), (1123, 0.010072671846781525), (1918, 0.010070711645458532), (1484, 0.010065528938965482), (2778, 0.010058161765177704), (3571, 0.010054694384770208), (406, 0.010044539852004854), (2688, 0.010036407355373103), (580, 0.010031749810348016), (4013, 0.010026472779041737), (470, 0.010025869225132962), (716, 0.009996039271370041), (50, 0.009994859486952067), (3280, 0.009993116947079016), (2606, 0.009987358028227335), (4390, 0.009955377809978268), (42, 0.00995065181679273), (4470, 0.009948992713085813), (3905, 0.009944227069094393), (1811, 0.009940252020836388), (3653, 0.00993942769571634), (2069, 0.009936952063668247), (1931, 0.0099365446115479), (4677, 0.00992709721609532), (1188, 0.009924729949640228), (1179, 0.009920236556715523), (4490, 0.00991425592034806), (3624, 0.009912398843493438), (862, 0.009898424119145542), (1715, 0.009893293197840883), (1223, 0.009892930578483132), (3704, 0.009886284843286007), (4232, 0.009876883898295774), (2203, 0.009869626883933122), (4045, 0.009865346595079882), (3570, 0.009855899847744376), (3316, 0.009852354206748177), (4163, 0.00985137797496587), (3509, 0.00983659021680173), (2156, 0.009829499514324852), (3516, 0.009828007030925762), (3195, 0.009815184631769776), (1738, 0.00980572613090064), (3294, 0.00980325751829885), (3594, 0.009796203075384497), (3245, 0.009776579719776112), (4299, 0.009772740112953964), (660, 0.00976971671855776), (4094, 0.009769371526673832), (3780, 0.009767456691384256), (4184, 0.009764763400365606), (3940, 0.009755359489264216), (1653, 0.009755114486784967), (3452, 0.00974994010380998), (3645, 0.009739941088480773), (1229, 0.009735306424244469), (238, 0.009734616587170643), (606, 0.009731762795071854), (845, 0.009710371308082917), (1191, 0.009700555605792778), (4309, 0.0096918104730362), (1421, 0.00968007814409241), (743, 0.009676360792951411), (689, 0.009669529703495735), (750, 0.00965786825816331), (4134, 0.009652864565887048), (930, 0.009647202763894346), (2427, 0.009643691581092838), (908, 0.00964156936778754), (769, 0.009624614813948086), (3458, 0.009618095688185075), (2428, 0.009615820153196375), (3531, 0.009614850300622724), (494, 0.009613717382001077), (3666, 0.009595032710529606), (2558, 0.00956401474343558), (2496, 0.00956308344057527), (1001, 0.009558819731261485), (3205, 0.009551267088593156), (1735, 0.009542144373512432), (4098, 0.009539353131788969), (1433, 0.009534089310191568), (4118, 0.009504531006518048), (2815, 0.009501124801143556), (3734, 0.009499990582489171), (1453, 0.00949478191908015), (2061, 0.009489240551446346), (3501, 0.00948812132015312), (1076, 0.009477365056649263), (1797, 0.009474515664095318), (4089, 0.009473808184564924), (863, 0.009464503588836926), (277, 0.009460384895302562), (4591, 0.009444357724258386), (31, 0.009437136355369781), (4699, 0.009434741530684515), (2825, 0.00943451587351748), (727, 0.009427841528028792), (177, 0.009415691516751486), (4092, 0.009403597772797954), (3164, 0.009396341551375179), (4757, 0.00938010847378992), (963, 0.009376311468235483), (4154, 0.009366918614125835), (4707, 0.009353960613658601), (2185, 0.009351133291387157), (4629, 0.009334454478046761), (1414, 0.009323329174623158), (2840, 0.009317915423232334), (3696, 0.009307454806389512), (868, 0.009299726218709711), (1375, 0.009295847504227777), (1177, 0.009295223207170425), (880, 0.009288142235097377), (4715, 0.00927358219588276), (1864, 0.009270023382858787), (311, 0.009266327230097945), (1472, 0.009257990046864607), (1071, 0.009249523891311378), (4057, 0.009246113925337243), (4431, 0.009223200818870562), (991, 0.009214265320593065), (4593, 0.00921218255420227), (869, 0.00920541175809768), (1041, 0.00920427714881626), (2426, 0.009202394045461889), (1138, 0.00919791333243742), (696, 0.00917897881040148), (1504, 0.009163405680526778), (200, 0.009145935634920334), (2854, 0.009143855766619084), (1330, 0.009142100438480388), (3125, 0.009125078396920828), (1964, 0.009120869605104675), (2994, 0.009101388480931309), (4362, 0.009090948023281685), (217, 0.009090032325819501), (900, 0.009089458604694647), (2439, 0.009077448589415204), (4522, 0.009076857990900293), (256, 0.009053483189408235), (2540, 0.009044061933851905), (4661, 0.009039259203007431), (2665, 0.009033305275132809), (3122, 0.009030758996035249), (1519, 0.009012572862570062), (1462, 0.009011442192200037), (1555, 0.008997476185730723), (4726, 0.008990924246970289), (1819, 0.008980139444426867), (4656, 0.008961520337948356), (3487, 0.008954505503079482), (367, 0.008951826914790831), (2897, 0.008944994579632019), (1760, 0.0089398513494599), (4670, 0.008936404842403942), (1627, 0.008927653277158182), (2344, 0.008927624568631144), (744, 0.008921722238677515), (3705, 0.008897326804592409), (3752, 0.008881760745648828), (1255, 0.008880202855747976), (1442, 0.008879191668738183), (3841, 0.008866287560703361), (4523, 0.00886603307447745), (477, 0.008854631291621971), (923, 0.008835039101254528), (2716, 0.00882249582855598), (3303, 0.008816533691425791), (608, 0.008802938307415114), (745, 0.008800644670761545), (1231, 0.008798576100245295), (1892, 0.008794621218822338), (3149, 0.008783942000079021), (2121, 0.008777938884836411), (2519, 0.00877173452348408), (2803, 0.00875616609656471), (2899, 0.008743645092886596), (694, 0.00872628011241184), (3460, 0.008720037500231845), (1371, 0.008711878421248594), (3342, 0.008703998974089326), (1065, 0.008652203917883992), (800, 0.008627900642412452), (1125, 0.008596812796351556), (644, 0.008595909454048738), (3349, 0.00859439376556728), (3748, 0.008578138094059334), (642, 0.00857061176145225), (414, 0.008567606400023395), (2022, 0.008559431791879032), (1816, 0.008554399046201446), (4517, 0.008537665456665074), (2444, 0.008525098349342996), (4284, 0.008515556653198027), (2064, 0.008483680273927152), (3018, 0.008477576956215182), (4282, 0.008472923082954728), (1608, 0.008468724484827227), (804, 0.008462803863049645), (2113, 0.008441042377488628), (1213, 0.008429233129436645), (4373, 0.008399869255012874), (2724, 0.008381590847512806), (4432, 0.008370915110442717), (3658, 0.008363677121537865), (3227, 0.00834836298775148), (617, 0.008343486939294611), (3474, 0.008289405750215454), (3910, 0.008251770525393219), (2424, 0.00824788012995482), (2031, 0.008202851072347112), (1356, 0.008187748381048384), (2833, 0.008183273598510647), (1987, 0.008171749769310156), (563, 0.00812241595870555), (3185, 0.00811363913208488), (1214, 0.008056247575141976), (910, 0.008043586877460242), (581, 0.008020299622234562), (981, 0.008012756147584918), (2580, 0.008005629876827533), (2348, 0.00799713256845933), (3065, 0.007967369021193908), (336, 0.007954168023916908), (3035, 0.007929081948765647), (2355, 0.00789267128058505), (1941, 0.007861454028199351), (1981, 0.007849883417015455), (1939, 0.0078079732301242245), (16, 0.0077627823325600405), (595, 0.007749641746858072), (128, 0.007747177272267277), (2567, 0.00774046618156189), (3782, 0.0077259397580450246), (3945, 0.007681410981817786), (561, 0.00767100101535575), (2576, 0.007649187180326342), (4464, 0.00761140378915729), (433, 0.007590894477506655), (4733, 0.007571050355018383), (571, 0.007557839522471622), (996, 0.007557719167367882), (3331, 0.007534933496079262), (2913, 0.007534503615991124), (953, 0.007515856852142625), (3440, 0.007512834971053762), (3744, 0.00748293555897498), (3721, 0.007463360406306314), (855, 0.007394420793894077), (537, 0.007349050876383415), (4162, 0.007323129438186066), (4653, 0.0073216673772382385), (3602, 0.007314114486719915), (4691, 0.007311267665454623), (3451, 0.007308216122480108), (1344, 0.007307563707108103), (303, 0.007304778709352817), (562, 0.00728232456170256), (2626, 0.007272187049752248), (189, 0.007266282894931624), (125, 0.0072574772356452065), (4208, 0.0072564010030632545), (4666, 0.007255058576336243), (3191, 0.0072501453525846025), (239, 0.007246419604107013), (1732, 0.007238310438268297), (1659, 0.007238249509411204), (3134, 0.007223245811950676), (861, 0.007217450517475183), (1381, 0.007213637605758235), (3468, 0.007205873183362619), (4091, 0.007202506352305405), (765, 0.007187916491510392), (2181, 0.00715804501228521), (4674, 0.007154040635090892), (2733, 0.0071515830201628015), (2314, 0.0071506150161260084), (1320, 0.007138549584074917), (380, 0.007133564451556704), (4462, 0.007094471635606809), (3158, 0.007093789398040521), (1881, 0.007064801837254934), (2660, 0.007045437811127484), (3163, 0.007040760008172062), (1696, 0.00703816182358976), (425, 0.007037808853868042), (102, 0.007035863365161963), (4285, 0.007019087572502399), (3975, 0.007004226991411346), (550, 0.007000777060031307), (4376, 0.006996346811687578), (3263, 0.00699231093618829), (4524, 0.0069909533230268165), (512, 0.0069814890410714895), (4537, 0.006978795252899941), (666, 0.006978289218919984), (3710, 0.006974307357458766), (3180, 0.006971772215986903), (27, 0.006963521489129899), (2231, 0.0069549223632097675), (2015, 0.006951631784185888), (1761, 0.006948698609611446), (4261, 0.0069439984888781175), (90, 0.006941532014392703), (1554, 0.00693398502863668), (809, 0.00693392704366449), (3520, 0.006929564966188505), (3715, 0.006919028955690206), (369, 0.006913794697084069), (1158, 0.006911371589482862), (1587, 0.006910507347072955), (1940, 0.006892906019539495), (4219, 0.00689112976033973), (1150, 0.006880260194594832), (4518, 0.006871146614461631), (6, 0.006863424443014932), (3907, 0.006860400828945026), (2599, 0.0068579622434752074), (220, 0.006848426767293927), (4695, 0.00684673961599124), (1952, 0.006844403088379471), (1332, 0.006842849165994353), (1904, 0.006824650922734943), (420, 0.006815479128469708), (1724, 0.00680400893072323), (451, 0.00679596075148505), (4646, 0.006790314036600778), (4043, 0.006788883902060199), (4392, 0.006784295043643731), (1661, 0.006783489432466397), (2084, 0.006782190747269412), (1099, 0.006777933389380856), (3938, 0.006757011463046979), (3787, 0.006734557055629135), (3584, 0.006722444901589997), (4047, 0.006714851087643684), (3448, 0.006702709213363166), (4312, 0.0067002933887816965), (3131, 0.006700093256763322), (1962, 0.0066893804854002495), (1407, 0.006677390678717837), (514, 0.006670213264964541), (341, 0.006667451378248878), (4552, 0.0066643833316849185), (3844, 0.006662390315179298), (3049, 0.006660920925600763), (4642, 0.006654968298373411), (460, 0.006652277897414388), (2136, 0.006647427777071819), (135, 0.006627627969400434), (1167, 0.006622711864181005), (4630, 0.006620660777371052), (320, 0.006619577112837691), (2283, 0.006605815229186319), (1380, 0.006604505334719115), (1614, 0.006598656204255199), (3486, 0.006597204187918156), (802, 0.006581805781989651), (2328, 0.006581592786291695), (1391, 0.006576206847608141), (1575, 0.0065741816396037), (1262, 0.006568479101380328), (3367, 0.0065683786705368116), (4384, 0.006565164299962627), (3604, 0.0065596117726416945), (4275, 0.0065559644038414), (1635, 0.006548783145791064), (1791, 0.0065455127526570945), (2278, 0.006544664934447385), (2790, 0.00654446319422454), (4601, 0.006542234033210714), (4586, 0.006538312528774474), (3135, 0.0065353989377874445), (1426, 0.006534825596287374), (3588, 0.0065342186428988995), (992, 0.006533372153483319), (685, 0.0065333007649020815), (2044, 0.006519679088517298), (3247, 0.006516255145184367), (3398, 0.006509933185323502), (661, 0.006509098254199004), (3769, 0.006504186653942434), (4119, 0.006501791808948968), (4621, 0.006498939838596115), (3942, 0.006490890105003566), (80, 0.006490544021351888), (3774, 0.006489133821069107), (3664, 0.006488632395048472), (4360, 0.0064829800847986405), (3179, 0.0064804181238164865), (2819, 0.0064775713600115515), (513, 0.006476523211448375), (4678, 0.006475530701828512), (4698, 0.006474319584585776), (4383, 0.006460810632890581), (4514, 0.006460502877998485), (1469, 0.006453372845921554), (3966, 0.006451103876422958), (3432, 0.006450265922935272), (4240, 0.006449320710740228), (3124, 0.006449038980975028), (3502, 0.006443315456739199), (902, 0.0064323473905423065), (95, 0.006429852069295178), (1082, 0.006429396356982857), (619, 0.006428793543405853), (389, 0.006416528552858753), (2991, 0.0064128053551685575), (1859, 0.006410574377376188), (2683, 0.006405557761095212), (4331, 0.006404766085815412), (152, 0.006400586526949086), (1449, 0.006400585074031741), (4076, 0.006393916779047809), (1280, 0.00638853208911418), (919, 0.006377028317328972), (4746, 0.006374597555923512), (1998, 0.006367865141842693), (1852, 0.00636678704917427), (1164, 0.006364094916476197), (2330, 0.006356116733833274), (2959, 0.006354976094077704), (2273, 0.00634197280220036), (898, 0.0063406218474654635), (4090, 0.006334399352221883), (467, 0.006329912218894906), (1502, 0.006328417276515336), (1452, 0.006327199710449581), (3117, 0.0063228427693628984), (1930, 0.006321413668610038), (1829, 0.006318794612691541), (3833, 0.0063113865435659834), (1812, 0.006304525453254617), (2960, 0.006292318699528864), (30, 0.006292315877482683), (2246, 0.0062895569341050095), (1588, 0.006287811884529624), (3997, 0.0062807937504217185), (4639, 0.006280042530174899), (118, 0.006277593263552363), (4120, 0.006276226330934657), (793, 0.00627571054328084), (1531, 0.006274552466478196), (4310, 0.006271916603151502), (2847, 0.006268929627949309), (3022, 0.006266571760306), (2232, 0.0062598735109508225), (2245, 0.006255423040323426), (1435, 0.006254485319048888), (831, 0.006249603750084138), (260, 0.006249358310457152), (305, 0.006236567775324575), (1633, 0.006221355379362495), (3100, 0.006209833014725289), (347, 0.006206776793536683), (4142, 0.006204610519808614), (4438, 0.00619551331070566), (316, 0.006188471895090363), (2130, 0.006186828531639242), (1975, 0.006182379456170902), (39, 0.006181814322379095), (322, 0.0061776491923625715), (4248, 0.006175489755027744), (4527, 0.0061729722537595105), (3005, 0.006172303411601285), (1493, 0.006171830216329478), (1622, 0.006171207382226222), (3576, 0.0061662404023226135), (1431, 0.006159632498773467), (2208, 0.0061554096947778565), (315, 0.006155054553016745), (1901, 0.006145781196853511), (3404, 0.006145439737134617), (3723, 0.006143530191185241), (1773, 0.006142947965368565), (2432, 0.006138264598089105), (1551, 0.00612520862400159), (4664, 0.006125114741588145), (3908, 0.006121953499548738), (4328, 0.00611831163646812), (321, 0.006111369031852459), (3168, 0.006103613503339989), (3583, 0.006097136369845457), (3438, 0.006095347099154768), (4274, 0.00606745528485412), (1207, 0.006065536387117679), (3443, 0.006063396849126642), (4307, 0.006056929567821491), (4103, 0.006051205370671026), (3815, 0.006037703355667738), (1991, 0.006033111234490896), (2700, 0.006029028905459513), (1347, 0.006024575195297451), (811, 0.006023116229141744), (1573, 0.006012019149313301), (1873, 0.00600248202852648), (2139, 0.005999651521285382), (4708, 0.005996887174425448), (3079, 0.0059968515757374725), (1699, 0.005984606892607364), (4595, 0.005976517695710054), (1127, 0.0059751419036992975), (4071, 0.005974015862514302), (4264, 0.005960664904684152), (3361, 0.0059551230718223255), (1846, 0.005952056112966471), (3823, 0.005951829974719125), (4211, 0.005951779505287362), (849, 0.005938953691631574), (4585, 0.005935676058997704), (4515, 0.005933814662425236), (468, 0.005933652812178181), (1914, 0.0059308903498786645), (93, 0.005928241703333189), (1211, 0.005926806354499147), (3161, 0.00592170353606623), (1566, 0.005915294740490298), (2801, 0.005910414280552775), (4582, 0.00591018632415994), (1451, 0.005908894254298809), (3555, 0.005907038475237994), (3133, 0.005901879506077002), (3802, 0.005901725277045619), (687, 0.005901062703375842), (1933, 0.005895557215542623), (891, 0.005886938976413393), (4441, 0.005879262041476995), (3126, 0.005872810628422), (633, 0.00587222650850295), (323, 0.005867079006871289), (375, 0.005864772148859759), (2787, 0.005853681935137865), (94, 0.005853417532128638), (1953, 0.0058514043138051764), (1559, 0.005846546260643844), (233, 0.005842655407548777), (893, 0.005842265476054404), (1857, 0.00584137075668936), (1395, 0.005833531385252182), (1840, 0.00582726839791229), (4689, 0.005826255778537586), (397, 0.0058232037256956545), (974, 0.0058167124825872), (3011, 0.005808504943772568), (3788, 0.0058051766515382665), (3897, 0.005803822414766912), (310, 0.005802694142677004), (4039, 0.005795540645630794), (69, 0.005786943607597079), (4251, 0.00578335724956563), (3995, 0.005777806724748841), (2949, 0.00577733915972423), (1281, 0.005777155437187837), (1562, 0.005774018157356805), (3160, 0.005769326257166129), (4292, 0.005762346881739667), (2820, 0.005762328432809998), (3944, 0.005761673177830626), (4377, 0.005756167733032348), (1993, 0.005734637104623609), (4339, 0.005729364208367187), (2573, 0.005726081221627281), (1784, 0.005719617244158362), (1428, 0.005717298226981985), (979, 0.005716159147787234), (3824, 0.005708240345441422), (1753, 0.005706507676018714), (1632, 0.005706167553824146), (3886, 0.0057041280131318005), (2711, 0.005702203752152555), (4322, 0.0057005427597928435), (3136, 0.005690298854207197), (3776, 0.005688587974812804), (511, 0.005677900523866234), (1631, 0.005675619405977936), (997, 0.005669798943851645), (639, 0.0056666407314080475), (4044, 0.005664107538680449), (4193, 0.0056603083378152655), (634, 0.005655175099586331), (3619, 0.005654450920660562), (1623, 0.005630163392792503), (3513, 0.005629126866646335), (4587, 0.0056283217924678434), (3484, 0.00561115183087285), (3881, 0.00560851925672845), (4365, 0.005607063693634593), (2682, 0.005604287608772057), (756, 0.0055967954615865215), (927, 0.005596453989218283), (1197, 0.00559545603078487), (78, 0.005589737114236367), (314, 0.005585713644149631), (426, 0.005583041911159961), (1309, 0.005574493310732845), (306, 0.0055722956139163836), (3970, 0.0055616711834373615), (3338, 0.005552555329419748), (4290, 0.005545791363028739), (4665, 0.00554041970928975), (2984, 0.005530604368619618), (627, 0.005504909836436641), (4426, 0.0054938131248450425), (1480, 0.0054922909437441015), (611, 0.005490039742699245), (1458, 0.005479310821066276), (810, 0.005478103546098259), (2506, 0.005472753633768289), (2442, 0.005468954590272034), (559, 0.005458843085324292), (191, 0.005442223365877879), (2568, 0.005432024003371675), (803, 0.005431771606292314), (4719, 0.005429270358285736), (3143, 0.005427017922593579), (3495, 0.0054199485479716975), (187, 0.00540985098658878), (3405, 0.005409638350713536), (2947, 0.005384885405352929), (2622, 0.005382265406223308), (289, 0.005368426468314303), (2678, 0.005349960537139579), (234, 0.005342150255899266), (625, 0.005318429566535567), (1154, 0.005309818138070165), (1120, 0.005306026352493073), (723, 0.005301166352248635), (1590, 0.005263151694878761), (4555, 0.005259625808169671), (932, 0.005233624254381878), (3806, 0.0052053746057718255), (690, 0.005175347800796172), (1772, 0.005165914768581513), (76, 0.0051638190145714856), (4468, 0.005093318079749634), (640, 0.005047018831525077), (1546, 0.005040779392991095), (1925, 0.005039312567507769), (1910, 0.004959469125048518), (2541, 0.004954858946261205), (469, 0.004945480040541568), (4697, 0.004943360502757341), (3911, 0.004878636415573706), (290, 0.0048715505981453), (1576, 0.0048395700750855026), (295, 0.004812644790244257), (3339, 0.004810481667810457), (3899, 0.004792841676612039), (4513, 0.004763599281421954), (738, 0.004706427569071585), (4571, 0.004676506491454759), (1121, 0.004674947450480045), (308, 0.004669915575650358), (3178, 0.004652851889630493), (3989, 0.0046473298313928525), (294, 0.004631204086858285), (402, 0.004614834913314338), (1792, 0.004589012236522882), (2694, 0.004583735001663539), (4705, 0.004576244218158835), (475, 0.004572685377701969), (2078, 0.00456094617288494), (77, 0.004554415901452416), (2326, 0.004534607655792238), (3925, 0.004532387996775576), (3512, 0.00451475345038235), (2757, 0.004506949758898824), (3419, 0.0044840808952991895), (3094, 0.0044670943512928815), (889, 0.0044659181994708185), (3745, 0.004461592876609717), (4529, 0.004441848048629602), (4484, 0.004441561248329165), (2299, 0.004439948138769033), (2557, 0.004432859978051849), (3779, 0.004432651551199335), (2998, 0.004415504716689523), (1748, 0.004385142952433164), (489, 0.0043708163821948665), (3031, 0.0043646405108536965), (2937, 0.004336422941163498), (999, 0.0043337920860116695), (4017, 0.0043315156825186754), (3292, 0.004323584216677564), (4147, 0.00432193200970396), (1711, 0.004320450590003371), (518, 0.0043198927344358495), (3540, 0.004314203106256607), (3249, 0.0043099286554850996), (3672, 0.00430200675604638), (596, 0.004295810739786003), (2306, 0.004292404999520514), (3186, 0.004291878118819337), (2661, 0.004287630240084023), (4633, 0.004287445619301816), (2223, 0.004286921353521001), (3139, 0.004272660409836889), (2403, 0.004271339405455358), (2176, 0.004269782359079907), (326, 0.004267182284677408), (2529, 0.004266209428292352), (1153, 0.004259833308219457), (735, 0.004259393296654216), (1145, 0.004258332340680215), (2199, 0.004256047969090201), (3413, 0.004251673566026684), (998, 0.004249267386173351), (431, 0.004248524055154024), (1708, 0.004247388293149658), (2490, 0.004246426856758212), (2379, 0.004245550836630443), (949, 0.004242618514964218), (2142, 0.004234224128066375), (2722, 0.004232705176921305), (4075, 0.0042323141766859775), (2189, 0.004231475399427153), (3523, 0.004214897318421412), (1169, 0.004214064426255321), (3606, 0.004212384828445492), (576, 0.0042116837649676135), (2349, 0.004205865377417619), (4749, 0.004205734885951483), (3391, 0.004205549939819332), (1497, 0.0042034114169593635), (680, 0.004202299959592094), (3441, 0.00420214857502483), (777, 0.004200772016648743), (2797, 0.004198656314713225), (2936, 0.004196999013480215), (1656, 0.004193224288869052), (1210, 0.004188520843276338), (3051, 0.0041882374454864715), (1670, 0.004187943375734512), (3301, 0.004187569561508679), (235, 0.0041875236590963785), (1187, 0.00418544664637046), (3987, 0.004185072969955237), (2137, 0.004177921869709649), (11, 0.004174935359223957), (3358, 0.004173979391619117), (41, 0.004170563080074129), (4245, 0.004167000882587651), (2848, 0.0041652602437846535), (3593, 0.004165168813790248), (1843, 0.00416460534630909), (2858, 0.004164243739484376), (2888, 0.00416135730348564), (2438, 0.004158952787359112), (476, 0.004158659574714614), (448, 0.004158590487243665), (1349, 0.004154284741244842), (2286, 0.00415365819315682), (3026, 0.004150220940868518), (4082, 0.004150025013946088), (2051, 0.004149079373292584), (3055, 0.004146873612460895), (1077, 0.004144152025154697), (2537, 0.004143336166358367), (419, 0.004143323137382742), (1862, 0.004142627534634909), (3621, 0.004141275327299094), (3308, 0.0041407662489102905), (1947, 0.004140675129877253), (1909, 0.004138738648601431), (3878, 0.004136099159498145), (3084, 0.00413277651090529), (4607, 0.004132620633660475), (3337, 0.004131466683652355), (2764, 0.004131281908795073), (2507, 0.004131229497914015), (3561, 0.0041306838370213485), (4418, 0.004129618383690373), (2883, 0.004122168528277501), (3148, 0.00412125109578769), (4202, 0.004120713478760992), (2915, 0.0041202596036580335), (2775, 0.004120118306828815), (2895, 0.004114204730258865), (2987, 0.004111642716284223), (3042, 0.004111072932538676), (2989, 0.004109559145306204), (2134, 0.004102017486780216), (2251, 0.004101006931350621), (1168, 0.004098438372341038), (2628, 0.004094148328275322), (3355, 0.004090315699574021), (4507, 0.004089713926562741), (3866, 0.004079676527472629), (3040, 0.004075612759550072), (2390, 0.004073170199476951), (4295, 0.00407211797237716), (564, 0.004070676608690919), (2310, 0.004069121451660963), (3990, 0.004066194326583569), (2407, 0.004065588499907778), (3479, 0.004065587639557535), (3166, 0.004063619174807625), (2832, 0.00406159867999952), (2889, 0.004059790343107322), (1355, 0.0040591739512317905), (526, 0.0040588512302283004), (922, 0.004053337694885476), (1474, 0.004051980050906092), (4019, 0.004047358419709114), (3935, 0.004046856116488727), (4516, 0.004044926561598824), (387, 0.004043658415340927), (3493, 0.0040435460032667205), (2702, 0.004039133519481998), (3291, 0.004038239514475072), (2209, 0.0040308233625216084), (2629, 0.0040304751946752555), (3052, 0.004029359398851155), (4704, 0.004029046418501212), (3230, 0.004028347350920916), (505, 0.004024504082771536), (3902, 0.0040214709773441805), (1547, 0.004019473643870299), (1658, 0.004016311593406802), (2923, 0.004015295355858511), (253, 0.004014841303050196), (4306, 0.004013565827202033), (2404, 0.004012731238759978), (4611, 0.004012631287760179), (3781, 0.004012596656976171), (739, 0.004006727864756895), (227, 0.004003754469211552), (4130, 0.004000994726172599), (1049, 0.0040000278848491), (8, 0.003999638031804177), (2870, 0.003999539526149071), (1182, 0.00399906654850875), (3224, 0.0039979664903484445), (3030, 0.003996957643211181), (2776, 0.003996702992964076), (1208, 0.003995348096050772), (4535, 0.00399465107169403), (2861, 0.003989935253963859), (4694, 0.0039829383130100425), (2378, 0.0039814086093798795), (614, 0.003977854947714567), (3524, 0.0039760169265964035), (3239, 0.003967401541633146), (3560, 0.0039658514124496615), (884, 0.003964873104674992), (3611, 0.003964755342267635), (2924, 0.003956290486584144), (887, 0.003956276209092812), (4222, 0.003956074092897837), (1574, 0.003953850976146446), (4138, 0.0039501684332925915), (3282, 0.003949592141103395), (4102, 0.003949287178239403), (3257, 0.003948313817218337), (4221, 0.003945407566277005), (3429, 0.0039421317319035185), (2559, 0.003941260292476207), (4400, 0.00394111971184691), (4692, 0.003940476159443837), (3763, 0.003939649426083735), (3219, 0.003938235281614395), (3809, 0.003936730577423266), (4117, 0.003936333481585493), (4397, 0.003934817096532291), (1822, 0.003928892970532945), (478, 0.003928648884780948), (4422, 0.003927103974014685), (2610, 0.003927049070417269), (4696, 0.003926378032532069), (318, 0.003923415293473454), (1980, 0.003921729537086632), (4416, 0.003915470453205167), (2609, 0.003913796045407385), (3620, 0.003913445150816394), (211, 0.00391101368625273), (1887, 0.003910281886907252), (4280, 0.003910265476246712), (3587, 0.003909254270697841), (1593, 0.003906642122925699), (4140, 0.003905993252463544), (1703, 0.0039026477458787828), (1006, 0.003902050963020099), (1637, 0.003898889489066873), (444, 0.003898696956432811), (508, 0.0038980518329938428), (4172, 0.0038973624220731825), (3381, 0.003892136161412548), (4083, 0.0038875735756650175), (192, 0.0038839082646226907), (4355, 0.003882564754588145), (2083, 0.003881290234333873), (1890, 0.0038801702342031023), (3999, 0.0038790105890499026), (1733, 0.0038780804419705603), (4530, 0.0038747262764412304), (2478, 0.003874300952846273), (737, 0.0038721056280870037), (1831, 0.0038695941470139727), (4298, 0.003868706688924145), (2595, 0.0038680092954804777), (3302, 0.0038667035781276564), (1294, 0.00386660908649081), (4052, 0.0038659763966943685), (2830, 0.0038648441398777753), (4396, 0.0038644338358232617), (395, 0.0038618990743882805), (1882, 0.0038615564391403724), (1516, 0.003860847164504924), (4407, 0.003859634303768742), (2350, 0.0038570481167264645), (2067, 0.003856290810691053), (2673, 0.0038547700608666897), (1655, 0.0038534131889840745), (2731, 0.003851646224569861), (4, 0.003851308882924458), (3072, 0.0038491580127407972), (3915, 0.0038483464166420983), (1685, 0.003846481872650661), (3762, 0.00384364628310241), (12, 0.003842269257802477), (3848, 0.003839870651278288), (1422, 0.0038398431763330704), (4401, 0.003837529716602412), (2392, 0.0038359493443170336), (3892, 0.003835015768459686), (2187, 0.0038335835244989224), (1580, 0.0038329404244472165), (2159, 0.003831193029429158), (3496, 0.003829546600603168), (890, 0.0038289146985203454), (4420, 0.0038284710133623507), (755, 0.0038282762685263668), (4423, 0.0038277851522046), (3939, 0.0038275938955996897), (3379, 0.003826365085059946), (2425, 0.0038261907993662964), (2664, 0.0038245268119692743), (4657, 0.0038243581177768472), (2192, 0.0038231353399980684), (1298, 0.0038225311504988067), (1896, 0.003820480729767561), (3128, 0.003820048752504825), (2448, 0.003815941686446345), (4145, 0.003815653795767379), (1907, 0.0038142035463049058), (2643, 0.0038135107253323805), (987, 0.0038106386546548337), (3015, 0.0038093846168964648), (377, 0.003808611219238545), (4584, 0.003808458604645814), (1324, 0.003808084915772801), (2260, 0.003806554233617292), (4606, 0.0038038035900251183), (3354, 0.00380310326148175), (2324, 0.0038013382938765585), (697, 0.0037972553892055955), (2302, 0.003796508282872204), (3322, 0.003796254907976786), (20, 0.0037947491921736737), (794, 0.003794671701993261), (2826, 0.0037936844630217154), (3113, 0.003792517459911839), (1364, 0.0037904240439310343), (3140, 0.0037893094717117667), (985, 0.0037892147291592026), (2393, 0.0037883672982982667), (2901, 0.003787343070593934), (2257, 0.0037854143211366663), (3262, 0.0037849126520479713), (2049, 0.003784871245689589), (2356, 0.0037847703462797195), (4230, 0.0037832252386567726), (2838, 0.00378282882265442), (4544, 0.0037826908348226737), (3064, 0.003781865469125039), (2623, 0.0037813373750533764), (3544, 0.0037794376047172265), (3150, 0.003779418816166679), (3687, 0.00377808482740663), (813, 0.003777449433482865), (23, 0.003777178369759907), (2769, 0.0037768120128255957), (2419, 0.0037759207601170946), (3874, 0.003775710120407598), (4521, 0.003775429613282781), (1439, 0.0037746797267711445), (3159, 0.003772777008030807), (4132, 0.0037715301778937496), (3271, 0.0037698919024539475), (3074, 0.003769492094709143), (872, 0.003768597153355676), (3537, 0.0037674280991880148), (1570, 0.003766244835059662), (2884, 0.0037638217876532886), (2846, 0.00376268889383947), (3893, 0.003762687131322966), (3020, 0.0037625294476153416), (2411, 0.0037591110504630065), (3749, 0.003758796808303196), (717, 0.0037574128167752476), (3691, 0.0037552743488701227), (2796, 0.003752694394078853), (3877, 0.0037521030752985783), (2857, 0.0037487332050744272), (2108, 0.0037471939013388987), (1176, 0.0037439223763474643), (588, 0.003743310868183765), (2087, 0.0037429017747194074), (3372, 0.0037426317212753612), (2361, 0.003739244094732289), (2105, 0.0037391931096187555), (3613, 0.003738410795386026), (3417, 0.0037366698988827948), (3307, 0.003733348195110739), (1109, 0.0037295637313816956), (4129, 0.0037264539257371035), (3423, 0.003725903133721153), (3725, 0.0037248297212876683), (4428, 0.0037247667962163424), (3882, 0.003724580492415241), (715, 0.0037231865900972175), (2388, 0.0037229290533869956), (71, 0.0037226294001610296), (499, 0.0037224474635059743), (3290, 0.0037196037753416096), (2423, 0.003719366965674655), (587, 0.0037176870139671685), (3772, 0.0037175823082524267), (3729, 0.0037169523656979623), (4111, 0.003714477461021549), (3357, 0.003714330931402485), (1402, 0.0037116139546288676), (2505, 0.0037114937469095183), (1905, 0.0037102540608437064), (2592, 0.003708228616120458), (857, 0.0037078648342269635), (3013, 0.003703983420708376), (2148, 0.0037026813368803133), (3363, 0.003701265979590926), (4574, 0.0036978534733355883), (2809, 0.003697740153184316), (3873, 0.0036965351061996215), (1995, 0.0036952546508226733), (4369, 0.0036950605354335074), (4357, 0.003693805823089297), (925, 0.0036933815154794503), (2466, 0.0036904951268867904), (3194, 0.0036863525671805624), (4371, 0.0036836642956543987), (115, 0.0036833896219336834), (1594, 0.003682931368029977), (2834, 0.0036802301328697187), (2313, 0.0036800960945841416), (2999, 0.0036794226734804263), (966, 0.0036781686269660827), (871, 0.00367732621371154), (4528, 0.0036752856025490874), (4161, 0.0036746452768868865), (2966, 0.003673325667642826), (3845, 0.003672723834094073), (4723, 0.0036722477048551196), (2964, 0.0036710667348100762), (865, 0.0036699985006712773), (2544, 0.0036692217295036865), (1893, 0.003667266399753869), (1765, 0.0036662797636194486), (178, 0.003665892463214493), (2974, 0.0036633491663236655), (1034, 0.003661552918896864), (182, 0.0036609541748323037), (2878, 0.0036593000904448676), (2720, 0.0036583471443334447), (488, 0.003657047530622774), (1475, 0.0036564288793917423), (3455, 0.003655062086915376), (4107, 0.0036549812717893496), (1936, 0.0036528838580754982), (2738, 0.003652230871480455), (2266, 0.003651716079909272), (1409, 0.003648685455707967), (1319, 0.003647740184574209), (1479, 0.0036457052497688883), (1712, 0.0036452801701227842), (3922, 0.0036452757417177214), (4550, 0.003644961484059006), (3478, 0.00364358534356239), (1959, 0.003642405118346771), (2116, 0.0036417678456607747), (2437, 0.003641603560047187), (826, 0.0036413995733302856), (1851, 0.0036400963368503486), (4051, 0.0036385592419783375), (66, 0.0036376545328572806), (1072, 0.003631116630460411), (3388, 0.0036294357681170473), (1075, 0.0036292103552642272), (348, 0.003626475724842107), (3832, 0.0036260630710707935), (1048, 0.003625526476222002), (4113, 0.0036234635747223816), (1660, 0.003622143846737853), (3714, 0.0036219893624359436), (4572, 0.0036219161491888217), (4318, 0.003621899915956777), (2863, 0.0036208770464047), (2993, 0.0036194514834791145), (1742, 0.0036193809311901625), (3184, 0.0036193808767947117), (3003, 0.0036177337665420544), (1969, 0.003613667563458093), (3081, 0.0036134688367808416), (3187, 0.003613062003444992), (2957, 0.0036110097354832547), (1273, 0.0036085000574232985), (2375, 0.00360828219932818), (3792, 0.0036078046267147166), (2986, 0.003607596268134287), (3517, 0.0036064402024861804), (2911, 0.0036033453613034806), (1131, 0.0036017022081476628), (3206, 0.0036006227775353143), (4259, 0.003599883896722698), (1304, 0.003599723640778556), (4489, 0.0035992913837326846), (2240, 0.0035989587943992827), (507, 0.003598373128739124), (3639, 0.0035979858919968242), (1122, 0.003595233702575918), (3599, 0.0035950818849613043), (4069, 0.0035928229332426614), (2277, 0.0035915711980838445), (4363, 0.003590863369129552), (4650, 0.0035903312861141783), (1848, 0.003588674357825549), (1020, 0.003588093996119452), (4042, 0.003587216791543729), (2434, 0.003585172713254559), (2430, 0.0035844306376944693), (3616, 0.0035825029668815505), (4471, 0.0035814579105188484), (2570, 0.0035809754019872635), (2415, 0.0035796476054399916), (472, 0.0035791356980868576), (2792, 0.0035787679798528135), (2461, 0.003577617952237308), (4136, 0.0035771823300563793), (2940, 0.003576878771073515), (246, 0.003575767036097168), (4330, 0.0035753131010754276), (2405, 0.0035741787359740017), (4520, 0.0035723204749843586), (3919, 0.0035704586157984932), (1427, 0.003569900441157956), (1313, 0.0035688518406874594), (4002, 0.0035674496314207723), (2454, 0.0035670923241654744), (4473, 0.003566875358454621), (3346, 0.0035657029275952966), (1805, 0.0035633102623137108), (1693, 0.003562593756197778), (2619, 0.003562292478319981), (1359, 0.0035617439651532915), (4680, 0.0035604409601469955), (3335, 0.0035603650119189726), (4563, 0.003560203691654004), (3491, 0.0035597680662986177), (3577, 0.003558911223748922), (3445, 0.00355841821430744), (3016, 0.0035575537331031483), (2725, 0.0035574400125280093), (2155, 0.003556754827162161), (4197, 0.0035564837752164505), (262, 0.003555634789849155), (4345, 0.0035549882720113278), (3542, 0.0035546072407729307), (2613, 0.0035543096340085005), (2122, 0.003553272476905413), (2488, 0.0035532464946609714), (2535, 0.003550284737459934), (712, 0.0035484827694773316), (378, 0.003547933909424418), (4368, 0.003547428834819481), (3654, 0.0035473490043198956), (4575, 0.0035460374753500156), (1163, 0.00354572120223952), (2926, 0.0035341616398215734), (3406, 0.003533187157875234), (2970, 0.0035330552660684223), (1476, 0.003532707882451713), (2370, 0.0035321230767652993), (3564, 0.003532115339435306), (3300, 0.003531092413446049), (1550, 0.0035310612779869267), (4545, 0.0035305666922125123), (1558, 0.0035305427413557296), (2482, 0.003529534788815181), (830, 0.003529359478359773), (1642, 0.0035274605495080416), (848, 0.00352737852811445), (456, 0.0035271502017778546), (3953, 0.0035263259256608243), (504, 0.0035242409773213654), (4458, 0.0035241560299310052), (1916, 0.0035239677148339193), (2914, 0.0035236558655975412), (1645, 0.0035233644816778575), (4126, 0.003521387843149577), (1891, 0.003519662570261763), (2894, 0.0035186742945785047), (1706, 0.003517261643115269), (2292, 0.0035172565073131744), (4566, 0.0035170203387491373), (2786, 0.0035159256430905583), (2319, 0.0035156443491268403), (4273, 0.003514706951681943), (3962, 0.0035106720561985214), (3449, 0.003509976298088037), (4049, 0.0035083038259055813), (993, 0.0035071038833228447), (867, 0.003507048498709424), (4087, 0.0035060392972181024), (749, 0.0035046355695597616), (2545, 0.0035036047987536123), (623, 0.0035034781133524108), (4448, 0.003501829195106787), (2696, 0.0035011748235857466), (325, 0.00349833382133118), (349, 0.003496469990826548), (1007, 0.0034946955669238598), (3359, 0.003493416436249614), (2386, 0.003492026985768997), (2242, 0.0034909859881149304), (3677, 0.0034905419021732244), (4713, 0.003490383577769972), (1518, 0.003489050433958628), (114, 0.0034877223021143543), (2812, 0.003486726554979746), (4267, 0.003486588058148942), (1683, 0.003485994732849593), (1860, 0.0034857148838575696), (4336, 0.003483987583766768), (4632, 0.003483360248925433), (3863, 0.0034813967678572534), (2953, 0.0034799581300273895), (3434, 0.0034792137481720158), (26, 0.0034792019301030713), (1411, 0.0034791689738000293), (1084, 0.0034789049250961894), (4427, 0.003476854972711139), (1744, 0.003476255549872871), (1308, 0.0034744302354230688), (1408, 0.0034736188150962222), (410, 0.0034731782100065767), (2190, 0.003472814997273812), (3044, 0.0034709650307784426), (4320, 0.0034700297977451095), (74, 0.0034696565393201595), (2396, 0.0034686377979935156), (4333, 0.0034679021205217863), (2268, 0.003467799091748948), (854, 0.0034655684607443125), (1768, 0.003463981672984614), (1722, 0.0034633820235812464), (1079, 0.003462786765225597), (3173, 0.0034611334656662663), (4143, 0.003460967045631221), (4446, 0.0034608445061841686), (2073, 0.003460699827765025), (3182, 0.0034599703914483123), (4030, 0.0034593563667621925), (3541, 0.003458084067723615), (3425, 0.003452984243843129), (1170, 0.0034529678353191024), (229, 0.0034524143466365567), (3225, 0.0034523351193124175), (2707, 0.0034486092029187517), (2320, 0.003447750980714756), (2585, 0.0034473371477355234), (4054, 0.0034472024295065734), (3757, 0.003446999355731528), (4589, 0.0034462616663004345), (3414, 0.003445194231613874), (2397, 0.0034446429603159413), (2772, 0.0034445163643128675), (2943, 0.0034432950823483407), (446, 0.0034424975997168496), (2387, 0.003441204394277483), (2269, 0.0034397350051283615), (3506, 0.0034385903755844863), (598, 0.003438387304312252), (2525, 0.003435025528752434), (3402, 0.003433324374680347), (3737, 0.003430449044529033), (2859, 0.003429976263078614), (4625, 0.0034299009454157), (4409, 0.003425569289183962), (2169, 0.003423992158108359), (1204, 0.0034225675201122814), (646, 0.0034219140018170225), (4135, 0.0034219084306822195), (1717, 0.0034213180491460236), (886, 0.0034202983767037238), (4706, 0.0034196211306590373), (3967, 0.003416218830662307), (416, 0.003416089170556927), (3884, 0.0034151111437996803), (359, 0.003414112378184223), (215, 0.0034119523157989926), (3364, 0.003409760226078819), (944, 0.003409288168453778), (3396, 0.0034086419119798927), (4334, 0.0034081727134055756), (136, 0.003408001898592668), (4036, 0.0034078014199400678), (3636, 0.0034077997682926634), (4056, 0.003407058271643549), (2755, 0.0034067811504292275), (1598, 0.003406018201104282), (2354, 0.0034059670103299302), (400, 0.003405630350477527), (798, 0.0034051431158124935), (2904, 0.003404405095799322), (4391, 0.00340389181903214), (1877, 0.003403633240167831), (169, 0.0034031051579182926), (2385, 0.0034029471774505615), (2872, 0.003402539655933317), (3497, 0.00340183369996264), (3273, 0.003398700824510819), (3641, 0.0033982511095786753), (973, 0.0033969626085218045), (3673, 0.0033960924822478266), (3165, 0.0033942320793307642), (1378, 0.003393679788118201), (3289, 0.003391775025005317), (2195, 0.0033915167209341394), (1477, 0.0033911843391383166), (3952, 0.003389920744912416), (4505, 0.0033898576622006173), (2735, 0.003388177100741488), (612, 0.003387779315160415), (1463, 0.0033820424678886168), (3894, 0.0033819147400702704), (4394, 0.0033810030217047483), (4011, 0.0033809007223243454), (3651, 0.003380346964283421), (3093, 0.0033799790440548396), (1117, 0.003377093808137599), (2783, 0.0033760462444386453), (3707, 0.003373582540351458), (594, 0.003373575664227086), (3551, 0.003372933443151283), (2293, 0.0033718410981360388), (4718, 0.003371302729286768), (3314, 0.0033709822507736937), (4753, 0.003370928173357462), (969, 0.00336868580750566), (3754, 0.0033682267324795633), (4734, 0.003366811707666895), (1641, 0.003365494248373585), (4243, 0.00336324355337774), (3296, 0.0033623672584948967), (935, 0.0033612076450143277), (1350, 0.003360923134831002), (1943, 0.0033607886266372616), (1026, 0.003360693584726013), (579, 0.0033604586202063075), (4269, 0.003359210831955938), (3900, 0.0033585473479073396), (4155, 0.0033572951022040904), (2746, 0.003357015126744948), (1002, 0.003354714917629389), (3920, 0.003354557729797241), (2410, 0.0033533599733771564), (466, 0.003352533886795464), (4717, 0.0033521930318229157), (4686, 0.003351640329407844), (3765, 0.003351321964473248), (437, 0.003350691824673594), (3304, 0.003349327351213721), (3646, 0.003347864503995916), (1027, 0.0033472097445276746), (3341, 0.0033458227978245565), (2909, 0.0033455285959002926), (3268, 0.003345202086154396), (783, 0.003344877831587946), (2400, 0.003344838983656411), (805, 0.0033411079502126757), (3216, 0.003339192258869932), (4687, 0.003338885352894958), (2201, 0.0033383893027792108), (4340, 0.0033372435575810258), (247, 0.003335844417597474), (1946, 0.0033352396602063807), (198, 0.0033340757215360155), (705, 0.0033338873656370686), (4620, 0.0033320775319622717), (817, 0.003331554284351745), (3351, 0.0033309345043022664), (2748, 0.003330349082065251), (4266, 0.0033301734105671108), (3075, 0.0033298770219873674), (3770, 0.003329224517621296), (1833, 0.0033253407659936955), (3274, 0.0033244639797573128), (2890, 0.003324135658380329), (3101, 0.003323740131717768), (1372, 0.0033232049026019218), (2123, 0.003322565584081402), (3596, 0.0033202185322901206), (3007, 0.003317769527633367), (1617, 0.003317623193164347), (3889, 0.0033170849333664133), (1663, 0.0033132325585683094), (373, 0.003313100999062306), (4308, 0.0033115969370182477), (2131, 0.003310693994148763), (4732, 0.003310402203473315), (1605, 0.0033102064009255605), (4183, 0.003309146540392056), (2743, 0.0033085680010427787), (1730, 0.003305146645640794), (3678, 0.0033036229517513296), (2624, 0.0033026750041599035), (1247, 0.003302543314491778), (154, 0.003302494278090937), (372, 0.003302095264303433), (4139, 0.0033020645461769665), (127, 0.0033020140407458358), (3804, 0.0032997570949993707), (164, 0.003299529052226212), (3565, 0.003296239007687282), (3369, 0.003295791633911867), (1672, 0.0032957742915771444), (2129, 0.003293653207843068), (3297, 0.003293038436434609), (3795, 0.003292190298196115), (698, 0.003291826123562223), (98, 0.0032906338249973697), (226, 0.0032904464291144387), (3627, 0.003290313801422454), (3932, 0.0032890613876918394), (1340, 0.0032881380064166683), (1446, 0.0032871152224292948), (3170, 0.0032857832310871273), (2612, 0.0032833475953800155), (2473, 0.0032824459578887485), (651, 0.0032801834759502682), (2882, 0.003279047943002407), (4101, 0.0032787284428547874), (4487, 0.003278640117600069), (3183, 0.0032778732217178287), (3590, 0.0032767198022985275), (2728, 0.0032743655559370304), (541, 0.0032734520556484247), (140, 0.00327184450399463), (3739, 0.0032716797742469014), (2554, 0.003271480417001632), (4174, 0.0032698453204388364), (4020, 0.0032698217091180633), (1533, 0.0032688465957224984), (703, 0.003266698573317959), (2141, 0.003266686974108917), (4536, 0.00326666565909708), (2916, 0.0032641634172202467), (4497, 0.0032640374898950425), (4263, 0.0032637546811388075), (4501, 0.0032637300685921422), (4287, 0.003263701468273532), (791, 0.0032622962830462796), (1814, 0.0032622360657395795), (3811, 0.003261556583377594), (2800, 0.003260707120687095), (4495, 0.003257572175795618), (4079, 0.0032571798706794467), (1019, 0.0032570001253667494), (2338, 0.0032567873504061825), (1284, 0.003256677238324231), (1921, 0.0032560916246002023), (2004, 0.0032531502297465926), (1597, 0.003250276912992686), (3390, 0.003249540888653429), (3917, 0.003248908792053788), (4479, 0.0032487668671868125), (1032, 0.003247841183248491), (3906, 0.003247637577305879), (3062, 0.0032471668498035367), (197, 0.003247000807256456), (883, 0.0032460223299599117), (2117, 0.0032451437554551956), (3890, 0.003242046967247122), (4603, 0.003241387352837959), (2945, 0.0032413278703217526), (4472, 0.0032391449528986396), (464, 0.003239080327904848), (1410, 0.0032381658833267597), (4419, 0.003235538094786537), (2072, 0.003234408611335153), (2391, 0.003234205976882208), (3071, 0.0032340336578514047), (1217, 0.003231846523409814), (3269, 0.0032314995769483768), (2475, 0.003231160984291878), (2533, 0.0032308805576571845), (1110, 0.003225531186410191), (4085, 0.0032251292741496463), (3234, 0.003224415051153806), (1096, 0.0032236051909699122), (2422, 0.0032231238584406277), (3243, 0.003221678453463813), (731, 0.00321899787727419), (2399, 0.0032186450535156047), (3557, 0.003218389250616286), (1004, 0.003217575145516584), (1286, 0.0032171025305989605), (3258, 0.0032159215234981485), (3116, 0.003215407364877167), (3147, 0.0032150723900447957), (2060, 0.0032147419936392305), (2571, 0.0032144119159031644), (2862, 0.0032143570688568817), (524, 0.003213767393954362), (471, 0.003211836315085726), (1666, 0.003210808476695516), (3526, 0.00320926275708965), (2965, 0.003205374062340543), (2821, 0.00320500981320842), (2457, 0.0032012351041409066), (2367, 0.0032009789138771412), (838, 0.003200775253761163), (2705, 0.003200713616995418), (907, 0.003199058104276561), (2068, 0.0031989324129281732), (4262, 0.003197822516119494), (221, 0.0031965037043364696), (959, 0.0031962460482384387), (473, 0.0031948375200706904), (4411, 0.003190928180721701), (4743, 0.003189985936616473), (4361, 0.0031896198450500584), (2572, 0.003189001632379655), (2127, 0.00318824889185842), (3412, 0.0031882121642615143), (2679, 0.003187847419403965), (4059, 0.0031874149572522275), (2323, 0.0031871580901002114), (1690, 0.0031864256178188396), (1036, 0.003182888706937878), (3069, 0.003181369925114887), (3813, 0.003180201731386984), (1628, 0.0031782924453004637), (4540, 0.003178214327756144), (4286, 0.0031750034729556625), (2853, 0.0031745872851036304), (3614, 0.0031745308261815564), (4616, 0.003172938671690967), (3298, 0.003172511783061505), (490, 0.0031708478327355017), (659, 0.003170018513302035), (2270, 0.003168609770868514), (767, 0.0031679008232898347), (1826, 0.003167618786078858), (4350, 0.00316496412133216), (1392, 0.0031648706112845605), (3503, 0.0031639082393704796), (2340, 0.0031622476645199117), (3242, 0.0031620475928350574), (4024, 0.003160985404421743), (1869, 0.0031599061083280623), (1434, 0.0031595757191528774), (3198, 0.0031594520765927886), (2248, 0.003156359129057909), (3601, 0.003156026469473894), (3986, 0.0031553437635192267), (2446, 0.003155298440421219), (2779, 0.0031550951533855917), (1830, 0.003154132762883061), (1404, 0.003152777992697752), (1394, 0.0031518789747878406), (4604, 0.0031507360264638132), (4169, 0.0031467459839787213), (4356, 0.0031466282281594274), (933, 0.0031458424832884976), (324, 0.003145692624925816), (4461, 0.003145114791079099), (1199, 0.0031440146240542216), (3050, 0.00314224651332522), (3563, 0.0031413745858862615), (647, 0.0031406433669411977), (3348, 0.003139878731192254), (3241, 0.00313849742929875), (2166, 0.0031381635622575086), (2230, 0.003137432319856749), (97, 0.003136981310618073), (975, 0.0031350862513767957), (1954, 0.0031345701172502565), (3014, 0.0031338919793630587), (1416, 0.003133691472221123), (3327, 0.0031333906460047083), (2288, 0.003128830703414842), (2765, 0.003128728814680649), (4634, 0.003128527020917369), (388, 0.0031251052075201), (3278, 0.0031250948730396104), (3742, 0.0031242529728765615), (1528, 0.0031232759759000535), (3037, 0.003122623924860608), (157, 0.0031214310609380645), (3634, 0.0031197793736739005), (856, 0.003119658521390604), (984, 0.00311753313646233), (4429, 0.0031173566677022836), (132, 0.0031163763330646003), (268, 0.003115682767954963), (4225, 0.003115152324574936), (3235, 0.0031136018175261073), (722, 0.003113264880713175), (2552, 0.0031128966002965676), (1782, 0.0031112477652844197), (317, 0.0031106816060556), (252, 0.003110278566211574), (3706, 0.003108233297210625), (2946, 0.0031077990233223034), (759, 0.0031059206661487857), (2099, 0.003104370294596769), (1100, 0.003104150036980106), (1813, 0.003096741415052963), (2528, 0.003096629715026347), (3311, 0.003096405937477534), (1161, 0.0030926874174552), (3500, 0.003091541944660605), (183, 0.0030894656108507476), (2561, 0.0030883965477648385), (1042, 0.003087668972618998), (4213, 0.0030860783760150584), (487, 0.003085110831965808), (3755, 0.003080395863910502), (3615, 0.003077589711491128), (815, 0.0030766750778542643), (2593, 0.003071770473011299), (1808, 0.003069502194999293), (2954, 0.0030641533433786033), (3799, 0.0030637589017652287), (4074, 0.0030636444382382733), (2900, 0.0030629972449819154), (1929, 0.003061340116647246), (4220, 0.003060420623561448), (3283, 0.003060355097874442), (1370, 0.00305899303412958), (158, 0.003056462664916321), (4756, 0.003056398642571166), (2997, 0.003052516873449821), (3527, 0.0030522431921570885), (4643, 0.0030472397488371414), (3353, 0.003046202963556075), (2047, 0.0030432356803186426), (184, 0.0030426848163543044), (2146, 0.0030426645567296364), (1080, 0.0030348082405540376), (4080, 0.003033365221777419), (1762, 0.0030325429698984632), (357, 0.003031817718802745), (2163, 0.003031470115400647), (3898, 0.003031395763683661), (1827, 0.003029540395473835), (3137, 0.0030269755945486914), (399, 0.0030240225734082696), (4381, 0.0030237711212068225), (2382, 0.0030236448232384846), (2531, 0.0030233258692107974), (655, 0.003020303667679), (2642, 0.0030190297762095605), (3855, 0.0030188338768965383), (2495, 0.0030184751226413), (3393, 0.0030136831313546664), (4326, 0.003013269789022782), (2287, 0.003012123029960452), (355, 0.003010014799136031), (3329, 0.0030090287853996463), (3647, 0.003006775149267379), (1719, 0.0030038394620305496), (2226, 0.0030021261283368784), (449, 0.0030000957557219845), (2634, 0.002999947455774509), (194, 0.0029985628102780684), (1456, 0.002994392304191289), (951, 0.0029925367352823086), (2976, 0.0029914731448322444), (1543, 0.0029900725008554685), (4014, 0.002987617758458155), (1423, 0.002987090886447528), (4348, 0.0029841661314948757), (924, 0.0029820793770302754), (457, 0.002981916720503019), (707, 0.0029807480062366055), (1743, 0.002980744184925634), (3477, 0.00297893715845855), (3200, 0.0029782855727101785), (3238, 0.0029749666082463334), (589, 0.0029719065177556125), (121, 0.0029717525670610273), (2492, 0.002968894175714404), (4729, 0.0029664393819910525), (3657, 0.0029642594843054273), (2652, 0.002963043656352865), (4228, 0.0029624271913204505), (4476, 0.0029612539997012272), (103, 0.002959147439997845), (1884, 0.002951864259372427), (1352, 0.0029482485860874157), (4247, 0.0029461051896369954), (3928, 0.0029429093081443777), (4712, 0.0029424080075096397), (1624, 0.0029420137676003195), (1616, 0.002941522121322181), (1553, 0.0029409024165596657), (2753, 0.0029408261689491426), (2289, 0.002937857592217668), (3719, 0.0029372483088093183), (1503, 0.0029368491964952073), (1318, 0.00293628197028465), (4567, 0.0029341329248869846), (2010, 0.0029338986793852415), (1625, 0.0029325616567142687), (4254, 0.0029311727070567926), (4359, 0.002927532692224172), (286, 0.00292742883524329), (2402, 0.0029231939872905286), (2416, 0.00292016330132093), (1691, 0.0029194284389319155), (3214, 0.0029131553663608034), (92, 0.0029129895750965385), (2569, 0.002911113514696328), (4296, 0.0029080103583577), (4573, 0.002903567942940956), (1357, 0.002903459544776551), (3546, 0.002902361193881564), (2721, 0.002900903012767142), (2453, 0.0028988503022213444), (2111, 0.0028981945003598232), (32, 0.002897883212490397), (2401, 0.0028977506398093324), (2213, 0.0028973503226927635), (2651, 0.00289518431150611), (3575, 0.0028932716026263084), (1251, 0.0028922205369890717), (3827, 0.002891530163006632), (165, 0.0028913307839563743), (3336, 0.0028902466030746796), (4638, 0.002889661840832201), (82, 0.002887810617590309), (605, 0.0028873128643087235), (3220, 0.0028867237564884564), (242, 0.0028856505020556683), (1301, 0.0028844909989722335), (4277, 0.0028832649660952034), (2741, 0.0028816163930889195), (480, 0.0028815930847329923), (941, 0.0028789410194184893), (4693, 0.002875382830799781), (1219, 0.002875066263060882), (4343, 0.002871272335076656), (1312, 0.002871043056629839), (445, 0.0028700738566484023), (1037, 0.002869322323984144), (2556, 0.0028688768421920824), (1801, 0.002863431065430443), (2845, 0.0028613034584516923), (2674, 0.002857176012135304), (4066, 0.002852788322045956), (1305, 0.0028498891755698065), (4206, 0.0028488414130077512), (1565, 0.0028474828156614205), (624, 0.0028449117735514203), (3380, 0.0028412253974330055), (843, 0.002840515405404394), (3626, 0.0028364132653279973), (195, 0.0028357368489202524), (3211, 0.002830999145373283), (495, 0.002828909812647756), (1747, 0.0028282654220765633), (1209, 0.002825535793802472), (2502, 0.002821439822122775), (3569, 0.0028200901867044986), (3669, 0.0028136736248584844), (1828, 0.002810407293857286), (3057, 0.0028100560728935085), (706, 0.002808423716756925), (196, 0.0028078389523793048), (2441, 0.0028043721651019793), (3548, 0.002804250008409848), (4304, 0.0028002383898264992), (4636, 0.0028001801546220654), (1677, 0.0027970908359989492), (267, 0.002796501413560963), (2758, 0.0027868753713558682), (2747, 0.0027749595773407633), (249, 0.0027708900510038585), (3027, 0.002765243989197875), (626, 0.0027614578396985313), (3347, 0.0027589521033996294), (2892, 0.0027579825324319353), (901, 0.002757383785624581), (2039, 0.0027564704386061232), (2317, 0.0027537090356468375), (2527, 0.00275343550854745), (645, 0.0027460531775893916), (2359, 0.002745350684488057), (2509, 0.002745290630942513), (1415, 0.002745081007686129), (2132, 0.0027425814023473486), (2907, 0.002741404811596384), (1277, 0.0027353456950661337), (4626, 0.0027320047714305754), (278, 0.0027246027457664083), (3024, 0.0027190415320829226), (3538, 0.0027170368978176656), (1450, 0.002712921743793228), (2611, 0.0027122924916247837), (2520, 0.002705110351527726), (4200, 0.0027048021426636245), (616, 0.002699725770717262), (3431, 0.002698300051911236), (156, 0.002690699999067248), (432, 0.002690457551032959), (4151, 0.0026870429145270033), (4015, 0.002685558201095876), (1366, 0.0026854730998096665), (2034, 0.002680253504038217), (2526, 0.0026712664883809193), (4386, 0.002644628525939587), (3056, 0.0026307116169258377), (2591, 0.0026271733661038955), (1040, 0.0025979461819267747), (224, 0.0025843789124568076), (4752, 0.002584181022454443), (4311, 0.0025840617974768427), (2766, 0.0025788888748752782), (1088, 0.0025767526967052294), (3668, 0.0025618810414939175), (607, 0.0025178557916413226), (4744, 0.002515336269841187), (228, 0.0024713483049595046), (453, 0.0024698523010951556), (4445, 0.002458316279623774), (3534, 0.0024580935124704213), (351, 0.0024568337895959557), (3252, 0.0024451916369556937), (3365, 0.0024371150793532897), (3199, 0.0023741269646339936), (4301, 0.00237311512501458), (2902, 0.0023549131271343128), (293, 0.00233437674210595), (4598, 0.002332393108946455), (283, 0.00230900129337145), (4652, 0.0022720381854497563), (129, 0.0022611530172958944), (2636, 0.002206688400807935), (740, 0.0021822979783967583), (3392, 0.0021372123787516896), (4171, 0.0021058460208542872), (202, 0.0020853485704426826), (24, 0.002050230099149021), (3608, 0.002033330088334125), (1780, 0.0020170370205210403), (2534, 0.0013558984067433973), (1, 0.0), (2, 0.0), (14, 0.0), (17, 0.0), (28, 0.0), (36, 0.0), (37, 0.0), (45, 0.0), (49, 0.0), (53, 0.0), (54, 0.0), (55, 0.0), (58, 0.0), (59, 0.0), (64, 0.0), (65, 0.0), (73, 0.0), (91, 0.0), (100, 0.0), (101, 0.0), (117, 0.0), (122, 0.0), (133, 0.0), (134, 0.0), (141, 0.0), (146, 0.0), (150, 0.0), (151, 0.0), (153, 0.0), (162, 0.0), (163, 0.0), (168, 0.0), (171, 0.0), (179, 0.0), (186, 0.0), (188, 0.0), (205, 0.0), (214, 0.0), (219, 0.0), (223, 0.0), (225, 0.0), (230, 0.0), (232, 0.0), (237, 0.0), (245, 0.0), (248, 0.0), (258, 0.0), (259, 0.0), (264, 0.0), (265, 0.0), (272, 0.0), (275, 0.0), (297, 0.0), (298, 0.0), (299, 0.0), (300, 0.0), (301, 0.0), (302, 0.0), (312, 0.0), (319, 0.0), (331, 0.0), (335, 0.0), (337, 0.0), (338, 0.0), (339, 0.0), (340, 0.0), (344, 0.0), (352, 0.0), (361, 0.0), (362, 0.0), (363, 0.0), (365, 0.0), (366, 0.0), (376, 0.0), (379, 0.0), (381, 0.0), (382, 0.0), (386, 0.0), (390, 0.0), (391, 0.0), (392, 0.0), (393, 0.0), (394, 0.0), (401, 0.0), (404, 0.0), (405, 0.0), (411, 0.0), (415, 0.0), (422, 0.0), (423, 0.0), (427, 0.0), (439, 0.0), (440, 0.0), (454, 0.0), (461, 0.0), (484, 0.0), (486, 0.0), (491, 0.0), (492, 0.0), (497, 0.0), (498, 0.0), (506, 0.0), (516, 0.0), (517, 0.0), (520, 0.0), (525, 0.0), (528, 0.0), (529, 0.0), (531, 0.0), (535, 0.0), (536, 0.0), (538, 0.0), (546, 0.0), (548, 0.0), (549, 0.0), (552, 0.0), (554, 0.0), (556, 0.0), (557, 0.0), (565, 0.0), (567, 0.0), (569, 0.0), (570, 0.0), (572, 0.0), (573, 0.0), (574, 0.0), (575, 0.0), (577, 0.0), (582, 0.0), (585, 0.0), (591, 0.0), (592, 0.0), (599, 0.0), (600, 0.0), (601, 0.0), (602, 0.0), (603, 0.0), (610, 0.0), (630, 0.0), (648, 0.0), (649, 0.0), (650, 0.0), (656, 0.0), (658, 0.0), (662, 0.0), (663, 0.0), (665, 0.0), (671, 0.0), (674, 0.0), (679, 0.0), (681, 0.0), (686, 0.0), (699, 0.0), (700, 0.0), (702, 0.0), (704, 0.0), (708, 0.0), (709, 0.0), (710, 0.0), (711, 0.0), (713, 0.0), (714, 0.0), (718, 0.0), (720, 0.0), (724, 0.0), (725, 0.0), (726, 0.0), (730, 0.0), (736, 0.0), (741, 0.0), (746, 0.0), (747, 0.0), (751, 0.0), (754, 0.0), (758, 0.0), (764, 0.0), (770, 0.0), (771, 0.0), (772, 0.0), (773, 0.0), (780, 0.0), (781, 0.0), (784, 0.0), (785, 0.0), (786, 0.0), (789, 0.0), (797, 0.0), (807, 0.0), (814, 0.0), (819, 0.0), (820, 0.0), (821, 0.0), (822, 0.0), (836, 0.0), (837, 0.0), (839, 0.0), (840, 0.0), (841, 0.0), (846, 0.0), (859, 0.0), (881, 0.0), (882, 0.0), (892, 0.0), (906, 0.0), (909, 0.0), (912, 0.0), (913, 0.0), (914, 0.0), (920, 0.0), (926, 0.0), (938, 0.0), (943, 0.0), (945, 0.0), (946, 0.0), (950, 0.0), (954, 0.0), (955, 0.0), (956, 0.0), (958, 0.0), (960, 0.0), (961, 0.0), (964, 0.0), (965, 0.0), (971, 0.0), (972, 0.0), (977, 0.0), (978, 0.0), (982, 0.0), (983, 0.0), (990, 0.0), (995, 0.0), (1008, 0.0), (1010, 0.0), (1011, 0.0), (1013, 0.0), (1014, 0.0), (1016, 0.0), (1022, 0.0), (1025, 0.0), (1028, 0.0), (1029, 0.0), (1031, 0.0), (1038, 0.0), (1039, 0.0), (1051, 0.0), (1055, 0.0), (1056, 0.0), (1062, 0.0), (1066, 0.0), (1067, 0.0), (1069, 0.0), (1070, 0.0), (1073, 0.0), (1081, 0.0), (1086, 0.0), (1089, 0.0), (1091, 0.0), (1093, 0.0), (1094, 0.0), (1097, 0.0), (1101, 0.0), (1103, 0.0), (1105, 0.0), (1106, 0.0), (1108, 0.0), (1113, 0.0), (1126, 0.0), (1130, 0.0), (1133, 0.0), (1135, 0.0), (1139, 0.0), (1142, 0.0), (1143, 0.0), (1147, 0.0), (1149, 0.0), (1151, 0.0), (1155, 0.0), (1156, 0.0), (1159, 0.0), (1165, 0.0), (1166, 0.0), (1171, 0.0), (1172, 0.0), (1178, 0.0), (1180, 0.0), (1189, 0.0), (1190, 0.0), (1193, 0.0), (1196, 0.0), (1198, 0.0), (1200, 0.0), (1201, 0.0), (1212, 0.0), (1218, 0.0), (1221, 0.0), (1222, 0.0), (1227, 0.0), (1228, 0.0), (1233, 0.0), (1235, 0.0), (1240, 0.0), (1242, 0.0), (1244, 0.0), (1246, 0.0), (1253, 0.0), (1256, 0.0), (1258, 0.0), (1263, 0.0), (1265, 0.0), (1268, 0.0), (1269, 0.0), (1271, 0.0), (1285, 0.0), (1287, 0.0), (1288, 0.0), (1289, 0.0), (1291, 0.0), (1293, 0.0), (1295, 0.0), (1296, 0.0), (1297, 0.0), (1299, 0.0), (1311, 0.0), (1315, 0.0), (1321, 0.0), (1322, 0.0), (1323, 0.0), (1326, 0.0), (1328, 0.0), (1333, 0.0), (1336, 0.0), (1345, 0.0), (1346, 0.0), (1353, 0.0), (1354, 0.0), (1362, 0.0), (1363, 0.0), (1368, 0.0), (1373, 0.0), (1376, 0.0), (1388, 0.0), (1390, 0.0), (1399, 0.0), (1424, 0.0), (1437, 0.0), (1441, 0.0), (1444, 0.0), (1447, 0.0), (1457, 0.0), (1459, 0.0), (1460, 0.0), (1466, 0.0), (1467, 0.0), (1468, 0.0), (1470, 0.0), (1473, 0.0), (1485, 0.0), (1487, 0.0), (1490, 0.0), (1491, 0.0), (1495, 0.0), (1496, 0.0), (1508, 0.0), (1511, 0.0), (1517, 0.0), (1520, 0.0), (1521, 0.0), (1522, 0.0), (1524, 0.0), (1525, 0.0), (1529, 0.0), (1532, 0.0), (1534, 0.0), (1535, 0.0), (1541, 0.0), (1545, 0.0), (1548, 0.0), (1549, 0.0), (1552, 0.0), (1556, 0.0), (1557, 0.0), (1561, 0.0), (1563, 0.0), (1564, 0.0), (1569, 0.0), (1577, 0.0), (1578, 0.0), (1581, 0.0), (1584, 0.0), (1586, 0.0), (1589, 0.0), (1592, 0.0), (1596, 0.0), (1599, 0.0), (1600, 0.0), (1601, 0.0), (1602, 0.0), (1603, 0.0), (1604, 0.0), (1606, 0.0), (1607, 0.0), (1610, 0.0), (1611, 0.0), (1613, 0.0), (1615, 0.0), (1618, 0.0), (1626, 0.0), (1636, 0.0), (1638, 0.0), (1639, 0.0), (1640, 0.0), (1644, 0.0), (1646, 0.0), (1649, 0.0), (1651, 0.0), (1664, 0.0), (1668, 0.0), (1669, 0.0), (1673, 0.0), (1679, 0.0), (1686, 0.0), (1689, 0.0), (1695, 0.0), (1697, 0.0), (1698, 0.0), (1700, 0.0), (1704, 0.0), (1709, 0.0), (1725, 0.0), (1726, 0.0), (1728, 0.0), (1729, 0.0), (1731, 0.0), (1734, 0.0), (1737, 0.0), (1745, 0.0), (1746, 0.0), (1751, 0.0), (1755, 0.0), (1756, 0.0), (1758, 0.0), (1766, 0.0), (1767, 0.0), (1769, 0.0), (1771, 0.0), (1775, 0.0), (1777, 0.0), (1778, 0.0), (1783, 0.0), (1785, 0.0), (1786, 0.0), (1790, 0.0), (1794, 0.0), (1800, 0.0), (1803, 0.0), (1804, 0.0), (1810, 0.0), (1820, 0.0), (1823, 0.0), (1824, 0.0), (1825, 0.0), (1834, 0.0), (1835, 0.0), (1836, 0.0), (1839, 0.0), (1842, 0.0), (1844, 0.0), (1855, 0.0), (1856, 0.0), (1863, 0.0), (1867, 0.0), (1879, 0.0), (1883, 0.0), (1888, 0.0), (1889, 0.0), (1894, 0.0), (1898, 0.0), (1899, 0.0), (1903, 0.0), (1912, 0.0), (1913, 0.0), (1915, 0.0), (1917, 0.0), (1926, 0.0), (1928, 0.0), (1932, 0.0), (1938, 0.0), (1944, 0.0), (1955, 0.0), (1956, 0.0), (1961, 0.0), (1963, 0.0), (1965, 0.0), (1966, 0.0), (1972, 0.0), (1974, 0.0), (1978, 0.0), (1979, 0.0), (1984, 0.0), (2001, 0.0), (2002, 0.0), (2003, 0.0), (2006, 0.0), (2007, 0.0), (2009, 0.0), (2014, 0.0), (2017, 0.0), (2019, 0.0), (2021, 0.0), (2025, 0.0), (2028, 0.0), (2030, 0.0), (2032, 0.0), (2033, 0.0), (2036, 0.0), (2038, 0.0), (2041, 0.0), (2042, 0.0), (2043, 0.0), (2046, 0.0), (2050, 0.0), (2052, 0.0), (2054, 0.0), (2059, 0.0), (2063, 0.0), (2071, 0.0), (2079, 0.0), (2081, 0.0), (2085, 0.0), (2086, 0.0), (2090, 0.0), (2092, 0.0), (2095, 0.0), (2098, 0.0), (2106, 0.0), (2107, 0.0), (2115, 0.0), (2118, 0.0), (2120, 0.0), (2124, 0.0), (2125, 0.0), (2128, 0.0), (2135, 0.0), (2138, 0.0), (2140, 0.0), (2147, 0.0), (2150, 0.0), (2152, 0.0), (2153, 0.0), (2164, 0.0), (2165, 0.0), (2168, 0.0), (2170, 0.0), (2171, 0.0), (2172, 0.0), (2179, 0.0), (2180, 0.0), (2182, 0.0), (2183, 0.0), (2186, 0.0), (2194, 0.0), (2200, 0.0), (2202, 0.0), (2204, 0.0), (2215, 0.0), (2217, 0.0), (2218, 0.0), (2219, 0.0), (2220, 0.0), (2222, 0.0), (2225, 0.0), (2227, 0.0), (2233, 0.0), (2234, 0.0), (2238, 0.0), (2241, 0.0), (2243, 0.0), (2247, 0.0), (2249, 0.0), (2253, 0.0), (2256, 0.0), (2259, 0.0), (2261, 0.0), (2262, 0.0), (2263, 0.0), (2267, 0.0), (2271, 0.0), (2272, 0.0), (2274, 0.0), (2281, 0.0), (2282, 0.0), (2296, 0.0), (2297, 0.0), (2300, 0.0), (2305, 0.0), (2307, 0.0), (2308, 0.0), (2311, 0.0), (2312, 0.0), (2315, 0.0), (2322, 0.0), (2325, 0.0), (2327, 0.0), (2329, 0.0), (2331, 0.0), (2332, 0.0), (2333, 0.0), (2337, 0.0), (2341, 0.0), (2342, 0.0), (2345, 0.0), (2351, 0.0), (2352, 0.0), (2357, 0.0), (2360, 0.0), (2364, 0.0), (2369, 0.0), (2372, 0.0), (2373, 0.0), (2377, 0.0), (2380, 0.0), (2381, 0.0), (2384, 0.0), (2389, 0.0), (2395, 0.0), (2398, 0.0), (2409, 0.0), (2414, 0.0), (2420, 0.0), (2431, 0.0), (2433, 0.0), (2435, 0.0), (2445, 0.0), (2450, 0.0), (2451, 0.0), (2452, 0.0), (2455, 0.0), (2456, 0.0), (2458, 0.0), (2462, 0.0), (2465, 0.0), (2470, 0.0), (2471, 0.0), (2472, 0.0), (2479, 0.0), (2483, 0.0), (2485, 0.0), (2491, 0.0), (2493, 0.0), (2497, 0.0), (2498, 0.0), (2499, 0.0), (2500, 0.0), (2504, 0.0), (2508, 0.0), (2511, 0.0), (2514, 0.0), (2515, 0.0), (2516, 0.0), (2518, 0.0), (2521, 0.0), (2523, 0.0), (2532, 0.0), (2536, 0.0), (2539, 0.0), (2542, 0.0), (2543, 0.0), (2547, 0.0), (2548, 0.0), (2549, 0.0), (2551, 0.0), (2562, 0.0), (2564, 0.0), (2566, 0.0), (2574, 0.0), (2575, 0.0), (2577, 0.0), (2578, 0.0), (2583, 0.0), (2584, 0.0), (2586, 0.0), (2588, 0.0), (2589, 0.0), (2590, 0.0), (2594, 0.0), (2596, 0.0), (2597, 0.0), (2604, 0.0), (2605, 0.0), (2608, 0.0), (2615, 0.0), (2616, 0.0), (2620, 0.0), (2627, 0.0), (2631, 0.0), (2637, 0.0), (2641, 0.0), (2648, 0.0), (2656, 0.0), (2657, 0.0), (2658, 0.0), (2659, 0.0), (2662, 0.0), (2663, 0.0), (2666, 0.0), (2667, 0.0), (2669, 0.0), (2670, 0.0), (2671, 0.0), (2672, 0.0), (2675, 0.0), (2676, 0.0), (2677, 0.0), (2681, 0.0), (2684, 0.0), (2685, 0.0), (2686, 0.0), (2690, 0.0), (2693, 0.0), (2701, 0.0), (2703, 0.0), (2704, 0.0), (2708, 0.0), (2709, 0.0), (2715, 0.0), (2717, 0.0), (2719, 0.0), (2729, 0.0), (2730, 0.0), (2734, 0.0), (2737, 0.0), (2749, 0.0), (2750, 0.0), (2754, 0.0), (2756, 0.0), (2763, 0.0), (2770, 0.0), (2773, 0.0), (2774, 0.0), (2781, 0.0), (2785, 0.0), (2793, 0.0), (2794, 0.0), (2799, 0.0), (2804, 0.0), (2806, 0.0), (2810, 0.0), (2811, 0.0), (2813, 0.0), (2814, 0.0), (2817, 0.0), (2818, 0.0), (2824, 0.0), (2827, 0.0), (2828, 0.0), (2829, 0.0), (2835, 0.0), (2836, 0.0), (2837, 0.0), (2839, 0.0), (2842, 0.0), (2850, 0.0), (2851, 0.0), (2852, 0.0), (2855, 0.0), (2856, 0.0), (2860, 0.0), (2864, 0.0), (2865, 0.0), (2866, 0.0), (2875, 0.0), (2877, 0.0), (2880, 0.0), (2891, 0.0), (2896, 0.0), (2898, 0.0), (2905, 0.0), (2906, 0.0), (2921, 0.0), (2922, 0.0), (2927, 0.0), (2928, 0.0), (2930, 0.0), (2938, 0.0), (2941, 0.0), (2951, 0.0), (2952, 0.0), (2955, 0.0), (2956, 0.0), (2958, 0.0), (2967, 0.0), (2968, 0.0), (2973, 0.0), (2979, 0.0), (2982, 0.0), (2983, 0.0), (2990, 0.0), (3001, 0.0), (3002, 0.0), (3006, 0.0), (3008, 0.0), (3009, 0.0), (3021, 0.0), (3025, 0.0), (3029, 0.0), (3034, 0.0), (3038, 0.0), (3041, 0.0), (3047, 0.0), (3048, 0.0), (3054, 0.0), (3058, 0.0), (3059, 0.0), (3060, 0.0), (3061, 0.0), (3063, 0.0), (3066, 0.0), (3073, 0.0), (3077, 0.0), (3078, 0.0), (3080, 0.0), (3082, 0.0), (3087, 0.0), (3088, 0.0), (3089, 0.0), (3090, 0.0), (3092, 0.0), (3103, 0.0), (3104, 0.0), (3105, 0.0), (3106, 0.0), (3107, 0.0), (3109, 0.0), (3115, 0.0), (3121, 0.0), (3130, 0.0), (3132, 0.0), (3138, 0.0), (3141, 0.0), (3145, 0.0), (3162, 0.0), (3169, 0.0), (3172, 0.0), (3175, 0.0), (3176, 0.0), (3177, 0.0), (3181, 0.0), (3188, 0.0), (3189, 0.0), (3190, 0.0), (3193, 0.0), (3197, 0.0), (3201, 0.0), (3202, 0.0), (3204, 0.0), (3207, 0.0), (3208, 0.0), (3209, 0.0), (3212, 0.0), (3217, 0.0), (3221, 0.0), (3223, 0.0), (3229, 0.0), (3231, 0.0), (3236, 0.0), (3250, 0.0), (3251, 0.0), (3261, 0.0), (3266, 0.0), (3270, 0.0), (3272, 0.0), (3277, 0.0), (3281, 0.0), (3286, 0.0), (3287, 0.0), (3288, 0.0), (3305, 0.0), (3309, 0.0), (3310, 0.0), (3320, 0.0), (3321, 0.0), (3323, 0.0), (3324, 0.0), (3332, 0.0), (3333, 0.0), (3340, 0.0), (3343, 0.0), (3350, 0.0), (3366, 0.0), (3368, 0.0), (3371, 0.0), (3378, 0.0), (3383, 0.0), (3394, 0.0), (3397, 0.0), (3400, 0.0), (3401, 0.0), (3411, 0.0), (3415, 0.0), (3422, 0.0), (3424, 0.0), (3439, 0.0), (3442, 0.0), (3444, 0.0), (3453, 0.0), (3454, 0.0), (3459, 0.0), (3461, 0.0), (3467, 0.0), (3472, 0.0), (3473, 0.0), (3475, 0.0), (3476, 0.0), (3481, 0.0), (3482, 0.0), (3485, 0.0), (3489, 0.0), (3490, 0.0), (3494, 0.0), (3505, 0.0), (3510, 0.0), (3519, 0.0), (3522, 0.0), (3525, 0.0), (3529, 0.0), (3530, 0.0), (3532, 0.0), (3533, 0.0), (3539, 0.0), (3543, 0.0), (3545, 0.0), (3547, 0.0), (3549, 0.0), (3550, 0.0), (3554, 0.0), (3562, 0.0), (3567, 0.0), (3568, 0.0), (3578, 0.0), (3581, 0.0), (3585, 0.0), (3589, 0.0), (3591, 0.0), (3592, 0.0), (3595, 0.0), (3600, 0.0), (3603, 0.0), (3607, 0.0), (3609, 0.0), (3610, 0.0), (3617, 0.0), (3622, 0.0), (3625, 0.0), (3628, 0.0), (3631, 0.0), (3632, 0.0), (3633, 0.0), (3644, 0.0), (3649, 0.0), (3650, 0.0), (3662, 0.0), (3663, 0.0), (3671, 0.0), (3676, 0.0), (3681, 0.0), (3682, 0.0), (3683, 0.0), (3685, 0.0), (3686, 0.0), (3690, 0.0), (3693, 0.0), (3695, 0.0), (3697, 0.0), (3698, 0.0), (3700, 0.0), (3702, 0.0), (3703, 0.0), (3709, 0.0), (3712, 0.0), (3716, 0.0), (3717, 0.0), (3718, 0.0), (3722, 0.0), (3724, 0.0), (3726, 0.0), (3730, 0.0), (3732, 0.0), (3735, 0.0), (3736, 0.0), (3738, 0.0), (3740, 0.0), (3743, 0.0), (3758, 0.0), (3759, 0.0), (3760, 0.0), (3761, 0.0), (3764, 0.0), (3783, 0.0), (3785, 0.0), (3786, 0.0), (3789, 0.0), (3790, 0.0), (3791, 0.0), (3796, 0.0), (3798, 0.0), (3800, 0.0), (3803, 0.0), (3805, 0.0), (3808, 0.0), (3812, 0.0), (3816, 0.0), (3817, 0.0), (3818, 0.0), (3820, 0.0), (3830, 0.0), (3831, 0.0), (3834, 0.0), (3836, 0.0), (3837, 0.0), (3838, 0.0), (3840, 0.0), (3842, 0.0), (3843, 0.0), (3846, 0.0), (3847, 0.0), (3851, 0.0), (3856, 0.0), (3858, 0.0), (3859, 0.0), (3869, 0.0), (3870, 0.0), (3879, 0.0), (3885, 0.0), (3887, 0.0), (3896, 0.0), (3912, 0.0), (3914, 0.0), (3918, 0.0), (3921, 0.0), (3929, 0.0), (3930, 0.0), (3931, 0.0), (3933, 0.0), (3936, 0.0), (3937, 0.0), (3943, 0.0), (3948, 0.0), (3950, 0.0), (3964, 0.0), (3965, 0.0), (3968, 0.0), (3969, 0.0), (3971, 0.0), (3972, 0.0), (3977, 0.0), (3979, 0.0), (3980, 0.0), (3981, 0.0), (3982, 0.0), (3985, 0.0), (3988, 0.0), (3991, 0.0), (3994, 0.0), (3996, 0.0), (3998, 0.0), (4003, 0.0), (4006, 0.0), (4010, 0.0), (4018, 0.0), (4021, 0.0), (4022, 0.0), (4026, 0.0), (4027, 0.0), (4029, 0.0), (4031, 0.0), (4034, 0.0), (4037, 0.0), (4040, 0.0), (4041, 0.0), (4058, 0.0), (4063, 0.0), (4065, 0.0), (4067, 0.0), (4070, 0.0), (4072, 0.0), (4073, 0.0), (4077, 0.0), (4078, 0.0), (4084, 0.0), (4086, 0.0), (4097, 0.0), (4100, 0.0), (4108, 0.0), (4109, 0.0), (4112, 0.0), (4114, 0.0), (4115, 0.0), (4125, 0.0), (4127, 0.0), (4131, 0.0), (4144, 0.0), (4146, 0.0), (4150, 0.0), (4153, 0.0), (4157, 0.0), (4159, 0.0), (4166, 0.0), (4167, 0.0), (4168, 0.0), (4170, 0.0), (4173, 0.0), (4179, 0.0), (4180, 0.0), (4181, 0.0), (4185, 0.0), (4186, 0.0), (4188, 0.0), (4190, 0.0), (4191, 0.0), (4194, 0.0), (4198, 0.0), (4199, 0.0), (4201, 0.0), (4204, 0.0), (4207, 0.0), (4212, 0.0), (4214, 0.0), (4215, 0.0), (4218, 0.0), (4223, 0.0), (4224, 0.0), (4229, 0.0), (4234, 0.0), (4236, 0.0), (4237, 0.0), (4238, 0.0), (4239, 0.0), (4241, 0.0), (4250, 0.0), (4253, 0.0), (4256, 0.0), (4258, 0.0), (4260, 0.0), (4270, 0.0), (4271, 0.0), (4276, 0.0), (4278, 0.0), (4279, 0.0), (4291, 0.0), (4297, 0.0), (4300, 0.0), (4302, 0.0), (4305, 0.0), (4313, 0.0), (4315, 0.0), (4316, 0.0), (4317, 0.0), (4319, 0.0), (4323, 0.0), (4324, 0.0), (4327, 0.0), (4329, 0.0), (4332, 0.0), (4338, 0.0), (4341, 0.0), (4346, 0.0), (4347, 0.0), (4351, 0.0), (4352, 0.0), (4353, 0.0), (4358, 0.0), (4364, 0.0), (4367, 0.0), (4370, 0.0), (4372, 0.0), (4385, 0.0), (4393, 0.0), (4404, 0.0), (4405, 0.0), (4406, 0.0), (4408, 0.0), (4410, 0.0), (4413, 0.0), (4414, 0.0), (4415, 0.0), (4417, 0.0), (4421, 0.0), (4424, 0.0), (4425, 0.0), (4433, 0.0), (4434, 0.0), (4437, 0.0), (4439, 0.0), (4447, 0.0), (4449, 0.0), (4451, 0.0), (4453, 0.0), (4454, 0.0), (4455, 0.0), (4457, 0.0), (4460, 0.0), (4463, 0.0), (4478, 0.0), (4480, 0.0), (4483, 0.0), (4485, 0.0), (4491, 0.0), (4493, 0.0), (4496, 0.0), (4498, 0.0), (4499, 0.0), (4500, 0.0), (4506, 0.0), (4508, 0.0), (4509, 0.0), (4519, 0.0), (4525, 0.0), (4526, 0.0), (4532, 0.0), (4539, 0.0), (4541, 0.0), (4542, 0.0), (4547, 0.0), (4549, 0.0), (4556, 0.0), (4558, 0.0), (4559, 0.0), (4560, 0.0), (4561, 0.0), (4562, 0.0), (4565, 0.0), (4568, 0.0), (4569, 0.0), (4570, 0.0), (4577, 0.0), (4578, 0.0), (4580, 0.0), (4592, 0.0), (4597, 0.0), (4599, 0.0), (4600, 0.0), (4609, 0.0), (4613, 0.0), (4615, 0.0), (4618, 0.0), (4622, 0.0), (4628, 0.0), (4631, 0.0), (4635, 0.0), (4644, 0.0), (4647, 0.0), (4648, 0.0), (4651, 0.0), (4654, 0.0), (4655, 0.0), (4662, 0.0), (4667, 0.0), (4671, 0.0), (4672, 0.0), (4675, 0.0), (4676, 0.0), (4681, 0.0), (4683, 0.0), (4688, 0.0), (4690, 0.0), (4700, 0.0), (4702, 0.0), (4711, 0.0), (4714, 0.0), (4716, 0.0), (4720, 0.0), (4725, 0.0), (4728, 0.0), (4730, 0.0), (4736, 0.0), (4737, 0.0), (4738, 0.0), (4740, 0.0), (4741, 0.0), (4742, 0.0), (4745, 0.0), (4750, 0.0), (4751, 0.0), (4754, 0.0), (4755, 0.0), (4758, 0.0), (4759, 0.0)]\n"
          ]
        }
      ]
    },
    {
      "cell_type": "code",
      "source": [
        "#print the name of similar moves based on the index\n",
        "print('Top 30 Movies Suggested for You: \\n')\n",
        "\n",
        "i=1\n",
        "for movie in sorted_similar_Movies:\n",
        "  index = movie[0]\n",
        "title_from_index = df[df.index==index]['Movie_Title'].values[0]\n",
        "if (i<31):\n",
        "  print(i, '.', title_from_index)\n",
        "  i+=1"
      ],
      "metadata": {
        "colab": {
          "base_uri": "https://localhost:8080/"
        },
        "id": "Otx-o2p6XeSM",
        "outputId": "68584894-763a-4f91-e786-df1018a203e7"
      },
      "execution_count": 54,
      "outputs": [
        {
          "output_type": "stream",
          "name": "stdout",
          "text": [
            "Top 30 Movies Suggested for You: \n",
            "\n",
            "1 . To Be Frank, Sinatra at 100\n"
          ]
        }
      ]
    },
    {
      "cell_type": "markdown",
      "source": [
        "## **Top 10 Movie Recommendation System**"
      ],
      "metadata": {
        "id": "SBo38CJZjlEX"
      }
    },
    {
      "cell_type": "code",
      "source": [
        "# Get user input\n",
        "Movie_Name = input('Enter your favourite movie name: ')\n",
        "\n",
        "# Convert 'Movie_Title' column to a list\n",
        "list_of_all_titles = df['Movie_Title'].tolist()\n",
        "\n",
        "# Find the closest match to the user's input\n",
        "Find_Close_Match = difflib.get_close_matches(Movie_Name, list_of_all_titles)\n",
        "\n",
        "if not Find_Close_Match:\n",
        "    print(\"No close matches found.\")\n",
        "else:\n",
        "    Close_Match = Find_Close_Match[0]\n",
        "\n",
        "    Index_of_Movie = df[df['Movie_Title'] == Close_Match]['Movie_ID'].values[0]\n",
        "\n",
        "# Example Similarity_Score matrix (replace with actual data)\n",
        "Similarity_Score = [\n",
        "    [1.0, 0.9, 0.2],\n",
        "    [0.9, 1.0, 0.3],\n",
        "    [0.2, 0.3, 1.0]\n",
        "]\n",
        "\n",
        "Index_of_Movie = 1  # Example index for a movie\n",
        "\n",
        "try:\n",
        "    Recommendation_Score = list(enumerate(Similarity_Score[Index_of_Movie]))\n",
        "    print(Recommendation_Score)\n",
        "except IndexError as e:\n",
        "    print(f\"Error: {e}\")\n",
        "except Exception as e:\n",
        "    print(f\"Unexpected error: {e}\")\n",
        "\n",
        "\n",
        "    # Sort the movies based on the similarity score\n",
        "    sorted_similar_movies = sorted(Recommendation_Score, key=lambda x: x[1], reverse=True)\n",
        "\n",
        "    print('Top 10 Movies suggested for you:\\n')\n",
        "\n",
        "    i = 1  # Initialize counter\n",
        "\n",
        "    # Loop through sorted movies and display the top 10\n",
        "    for movie in sorted_similar_movies[1:11]:  # Skip the first as it is the input movie itself\n",
        "        index = movie[0]\n",
        "        title_from_index = df[df['Movie_ID'] == index]['Movie_Title'].values[0]\n",
        "        print(f\"{i}. {title_from_index}\")\n",
        "        i += 1"
      ],
      "metadata": {
        "colab": {
          "base_uri": "https://localhost:8080/"
        },
        "id": "CL0SXCKaaf7C",
        "outputId": "fdda6d5e-a7b2-4df9-9177-c7d0eeb0cdcc"
      },
      "execution_count": 66,
      "outputs": [
        {
          "output_type": "stream",
          "name": "stdout",
          "text": [
            "Enter your favourite movie name: avatar\n",
            "[(0, 0.9), (1, 1.0), (2, 0.3)]\n"
          ]
        }
      ]
    }
  ]
}